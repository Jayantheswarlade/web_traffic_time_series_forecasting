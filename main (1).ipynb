{
 "cells": [
  {
   "cell_type": "markdown",
   "metadata": {},
   "source": [
    "### Kaggle - Web Traffic Time Series Forecasting\n",
    "\n",
    "# Modified CNN with Fibonacci Median\n",
    "\n",
    "**v10.7 Grouping, Ensemble, and Optimized Group Models**\n",
    "\n",
    "by Louis Yang and Sky Huang, 2017\n",
    "\n",
    "#### Model Explanation\n",
    "We use a Fibonacci series as the window sizes to compute the a serie of median excluding nan for each sample (page). Then find again the median amount the series excluding nan. Use this median-median (which we call Fibonacci median) as the center of each sample. The Fibonaccis series we took is `[11, 18, 30, 48, 78, 126, 203, 329]`, which was suggested by Ehsan  http://www.kaggle.com/safavieh/median-estimation-by-fibonacci-et-al-lb-44-9?scriptVersionId=1466647 and has original scored 44.9 in the stage 1 Kaggle leaderboard.\n",
    "\n",
    "To better train the neural network for various scales of dayily visits, we first do the log1p transformation in the form \n",
    "    \n",
    "    X_log = log10(X_ori + 1),\n",
    "\n",
    "to bring them into the same order. Then we sample-wise (page-wise) standardize the data using the Fibonacci median (`fib_med`) instead of regular mean as the center baseline and the usual standard deviation (`stdev`) as the scale, where `nan` is treated as `0`.\n",
    "\n",
    "According to the Fibonacci median (`fib_med`), we split data (pages) into groups and train individual neural network (models) in each group. The group spliting is determined by `log10(fib_med + 1) < (1.0, 2.0, 4.0, greater)`. So there are total 4 groups.\n",
    "\n",
    "The first group (group 0) use the result from the Fibonacci median model (`fib_med`) since it is difficult to learn by our neural network. For the rest groups (group 1-3), we use the results from the convolutional neural network (CNN). \n",
    "\n",
    "The neural network takes 64 days (`x_length`) of data and predicts the following 64 days (`y_length`) of results. For the neural network structure, we use single 1D convolutional layer with 140 neurons, kernel size 3, and relu activation function, which pass through average pooling with size 2. After the flatten the convolutional result, we feed the Fibonacci median and stdev (after log transform) for the sample as addional inputs via concatenation. Finally, the concatenated data is pass into 3 fully connected layer (130, 120, and 64 neurons) with 2 relu and 1 linear activation functions to do the regression. \n",
    "\n",
    "The CNN structure is: \n",
    "\n",
    "    [X > Conv1D(140, kernel=3) > AvgPool(2) > Flat + Additional input, A, (median, stdev)] > Concat > FC(130, relu) > FC(120, relu) > FC(64, linear) > Y\n",
    "\n",
    "Ensemble learning: We train the same neural network 5 times. Each run only train on 4/5 of the data. Then we take the median of the result from each run.\n",
    "\n",
    "Group model optimization: We evaluate the group models (neural network trained within their own group) on other groups data, and assign their results based on their performance in test mode. Since in the test (validation) mode the neural network model trained by group 2 do better than those trained by group 3 on group 3 data, we use the group model 2 for predicting group 3 result.\n",
    "\n",
    "#### Usage\n",
    "This notebook has two modes (controled by `test_length`): the test mode (`test_length != 0`) and the predicting mode (test_length = 0).\n",
    "\n",
    "The default parameter of this notebook is in the predicting mode. In predicting mode, it will train on stage 2 data `'train_3.csv'` (the latest `'train_2.csv'` on Kaggle website) and output prediction required by the stage 2 of the competition. In this mode, the SMAPE scores are computed on the input set as estimation. To switch to test mode (for model self-evaluation, validation, and parameter tunning purpose), you can set the `test_length` to the lengh (days) of the ouput prediction (ex. `test_length = y_length`).\n",
    "\n",
    "Required input files: `'train_3.csv'`, `'key_2.csv'`\n",
    "\n",
    "#### Statistics\n",
    "Runtime: 1hr20min on Intel Core i7-4700MQ\n",
    "\n",
    "Peak memory usage: 7+ GB (durning test and training) and 9+ GB (durning output prediction)"
   ]
  },
  {
   "cell_type": "code",
   "execution_count": 1,
   "metadata": {
    "collapsed": true
   },
   "outputs": [],
   "source": [
    "model_name ='model_modified_CNN'"
   ]
  },
  {
   "cell_type": "code",
   "execution_count": 2,
   "metadata": {
    "collapsed": true
   },
   "outputs": [],
   "source": [
    "import numpy as np # linear algebra\n",
    "import pandas as pd # data processing, CSV file I/O (e.g. pd.read_csv)\n",
    "import matplotlib.pyplot as plt\n",
    "import gc  # Python garbage collect\n",
    "from tools import *"
   ]
  },
  {
   "cell_type": "markdown",
   "metadata": {},
   "source": [
    "## Input"
   ]
  },
  {
   "cell_type": "code",
   "execution_count": 3,
   "metadata": {
    "collapsed": true
   },
   "outputs": [],
   "source": [
    "train_file = 'train_3.csv'"
   ]
  },
  {
   "cell_type": "code",
   "execution_count": 4,
   "metadata": {
    "collapsed": true
   },
   "outputs": [],
   "source": [
    "key_file = 'key_2.csv'"
   ]
  },
  {
   "cell_type": "code",
   "execution_count": 5,
   "metadata": {},
   "outputs": [
    {
     "data": {
      "text/plain": [
       "Index(['2015-07-01', '2015-07-02', '2015-07-03', '2015-07-04', '2015-07-05',\n",
       "       '2015-07-06', '2015-07-07', '2015-07-08', '2015-07-09', '2015-07-10',\n",
       "       ...\n",
       "       '2017-09-01', '2017-09-02', '2017-09-03', '2017-09-04', '2017-09-05',\n",
       "       '2017-09-06', '2017-09-07', '2017-09-08', '2017-09-09', '2017-09-10'],\n",
       "      dtype='object', length=803)"
      ]
     },
     "execution_count": 5,
     "metadata": {},
     "output_type": "execute_result"
    }
   ],
   "source": [
    "input_df = pd.read_csv('../data/' + train_file, nrows=1)\n",
    "input_df_dates = input_df.columns[1:]; input_df_dates"
   ]
  },
  {
   "cell_type": "code",
   "execution_count": 6,
   "metadata": {},
   "outputs": [
    {
     "name": "stdout",
     "output_type": "stream",
     "text": [
      "%%% Reading data train_3.csv ... done!\n"
     ]
    }
   ],
   "source": [
    "visits_dtype = {d: np.float32 for d in input_df_dates}\n",
    "\n",
    "print('%%% Reading data '+ train_file + ' ... ', end = '', flush = True)\n",
    "input_df = pd.read_csv('../data/' + train_file, engine='c', dtype=visits_dtype)\n",
    "print('done!')"
   ]
  },
  {
   "cell_type": "code",
   "execution_count": 7,
   "metadata": {},
   "outputs": [
    {
     "data": {
      "text/html": [
       "<div>\n",
       "<style>\n",
       "    .dataframe thead tr:only-child th {\n",
       "        text-align: right;\n",
       "    }\n",
       "\n",
       "    .dataframe thead th {\n",
       "        text-align: left;\n",
       "    }\n",
       "\n",
       "    .dataframe tbody tr th {\n",
       "        vertical-align: top;\n",
       "    }\n",
       "</style>\n",
       "<table border=\"1\" class=\"dataframe\">\n",
       "  <thead>\n",
       "    <tr style=\"text-align: right;\">\n",
       "      <th></th>\n",
       "      <th>Page</th>\n",
       "      <th>2015-07-01</th>\n",
       "      <th>2015-07-02</th>\n",
       "      <th>2015-07-03</th>\n",
       "      <th>2015-07-04</th>\n",
       "      <th>2015-07-05</th>\n",
       "      <th>2015-07-06</th>\n",
       "      <th>2015-07-07</th>\n",
       "      <th>2015-07-08</th>\n",
       "      <th>2015-07-09</th>\n",
       "      <th>...</th>\n",
       "      <th>2017-09-01</th>\n",
       "      <th>2017-09-02</th>\n",
       "      <th>2017-09-03</th>\n",
       "      <th>2017-09-04</th>\n",
       "      <th>2017-09-05</th>\n",
       "      <th>2017-09-06</th>\n",
       "      <th>2017-09-07</th>\n",
       "      <th>2017-09-08</th>\n",
       "      <th>2017-09-09</th>\n",
       "      <th>2017-09-10</th>\n",
       "    </tr>\n",
       "  </thead>\n",
       "  <tbody>\n",
       "    <tr>\n",
       "      <th>0</th>\n",
       "      <td>2NE1_zh.wikipedia.org_all-access_spider</td>\n",
       "      <td>18.0</td>\n",
       "      <td>11.0</td>\n",
       "      <td>5.0</td>\n",
       "      <td>13.0</td>\n",
       "      <td>14.0</td>\n",
       "      <td>9.0</td>\n",
       "      <td>9.0</td>\n",
       "      <td>22.0</td>\n",
       "      <td>26.0</td>\n",
       "      <td>...</td>\n",
       "      <td>19.0</td>\n",
       "      <td>33.0</td>\n",
       "      <td>33.0</td>\n",
       "      <td>18.0</td>\n",
       "      <td>16.0</td>\n",
       "      <td>27.0</td>\n",
       "      <td>29.0</td>\n",
       "      <td>23.0</td>\n",
       "      <td>54.0</td>\n",
       "      <td>38.0</td>\n",
       "    </tr>\n",
       "    <tr>\n",
       "      <th>1</th>\n",
       "      <td>2PM_zh.wikipedia.org_all-access_spider</td>\n",
       "      <td>11.0</td>\n",
       "      <td>14.0</td>\n",
       "      <td>15.0</td>\n",
       "      <td>18.0</td>\n",
       "      <td>11.0</td>\n",
       "      <td>13.0</td>\n",
       "      <td>22.0</td>\n",
       "      <td>11.0</td>\n",
       "      <td>10.0</td>\n",
       "      <td>...</td>\n",
       "      <td>32.0</td>\n",
       "      <td>30.0</td>\n",
       "      <td>11.0</td>\n",
       "      <td>19.0</td>\n",
       "      <td>54.0</td>\n",
       "      <td>25.0</td>\n",
       "      <td>26.0</td>\n",
       "      <td>23.0</td>\n",
       "      <td>13.0</td>\n",
       "      <td>81.0</td>\n",
       "    </tr>\n",
       "    <tr>\n",
       "      <th>2</th>\n",
       "      <td>3C_zh.wikipedia.org_all-access_spider</td>\n",
       "      <td>1.0</td>\n",
       "      <td>0.0</td>\n",
       "      <td>1.0</td>\n",
       "      <td>1.0</td>\n",
       "      <td>0.0</td>\n",
       "      <td>4.0</td>\n",
       "      <td>0.0</td>\n",
       "      <td>3.0</td>\n",
       "      <td>4.0</td>\n",
       "      <td>...</td>\n",
       "      <td>6.0</td>\n",
       "      <td>6.0</td>\n",
       "      <td>7.0</td>\n",
       "      <td>2.0</td>\n",
       "      <td>4.0</td>\n",
       "      <td>7.0</td>\n",
       "      <td>3.0</td>\n",
       "      <td>4.0</td>\n",
       "      <td>7.0</td>\n",
       "      <td>6.0</td>\n",
       "    </tr>\n",
       "    <tr>\n",
       "      <th>3</th>\n",
       "      <td>4minute_zh.wikipedia.org_all-access_spider</td>\n",
       "      <td>35.0</td>\n",
       "      <td>13.0</td>\n",
       "      <td>10.0</td>\n",
       "      <td>94.0</td>\n",
       "      <td>4.0</td>\n",
       "      <td>26.0</td>\n",
       "      <td>14.0</td>\n",
       "      <td>9.0</td>\n",
       "      <td>11.0</td>\n",
       "      <td>...</td>\n",
       "      <td>7.0</td>\n",
       "      <td>19.0</td>\n",
       "      <td>19.0</td>\n",
       "      <td>9.0</td>\n",
       "      <td>6.0</td>\n",
       "      <td>16.0</td>\n",
       "      <td>19.0</td>\n",
       "      <td>30.0</td>\n",
       "      <td>38.0</td>\n",
       "      <td>4.0</td>\n",
       "    </tr>\n",
       "    <tr>\n",
       "      <th>4</th>\n",
       "      <td>52_Hz_I_Love_You_zh.wikipedia.org_all-access_s...</td>\n",
       "      <td>NaN</td>\n",
       "      <td>NaN</td>\n",
       "      <td>NaN</td>\n",
       "      <td>NaN</td>\n",
       "      <td>NaN</td>\n",
       "      <td>NaN</td>\n",
       "      <td>NaN</td>\n",
       "      <td>NaN</td>\n",
       "      <td>NaN</td>\n",
       "      <td>...</td>\n",
       "      <td>16.0</td>\n",
       "      <td>16.0</td>\n",
       "      <td>19.0</td>\n",
       "      <td>9.0</td>\n",
       "      <td>20.0</td>\n",
       "      <td>23.0</td>\n",
       "      <td>28.0</td>\n",
       "      <td>14.0</td>\n",
       "      <td>8.0</td>\n",
       "      <td>7.0</td>\n",
       "    </tr>\n",
       "  </tbody>\n",
       "</table>\n",
       "<p>5 rows × 804 columns</p>\n",
       "</div>"
      ],
      "text/plain": [
       "                                                Page  2015-07-01  2015-07-02  \\\n",
       "0            2NE1_zh.wikipedia.org_all-access_spider        18.0        11.0   \n",
       "1             2PM_zh.wikipedia.org_all-access_spider        11.0        14.0   \n",
       "2              3C_zh.wikipedia.org_all-access_spider         1.0         0.0   \n",
       "3         4minute_zh.wikipedia.org_all-access_spider        35.0        13.0   \n",
       "4  52_Hz_I_Love_You_zh.wikipedia.org_all-access_s...         NaN         NaN   \n",
       "\n",
       "   2015-07-03  2015-07-04  2015-07-05  2015-07-06  2015-07-07  2015-07-08  \\\n",
       "0         5.0        13.0        14.0         9.0         9.0        22.0   \n",
       "1        15.0        18.0        11.0        13.0        22.0        11.0   \n",
       "2         1.0         1.0         0.0         4.0         0.0         3.0   \n",
       "3        10.0        94.0         4.0        26.0        14.0         9.0   \n",
       "4         NaN         NaN         NaN         NaN         NaN         NaN   \n",
       "\n",
       "   2015-07-09     ...      2017-09-01  2017-09-02  2017-09-03  2017-09-04  \\\n",
       "0        26.0     ...            19.0        33.0        33.0        18.0   \n",
       "1        10.0     ...            32.0        30.0        11.0        19.0   \n",
       "2         4.0     ...             6.0         6.0         7.0         2.0   \n",
       "3        11.0     ...             7.0        19.0        19.0         9.0   \n",
       "4         NaN     ...            16.0        16.0        19.0         9.0   \n",
       "\n",
       "   2017-09-05  2017-09-06  2017-09-07  2017-09-08  2017-09-09  2017-09-10  \n",
       "0        16.0        27.0        29.0        23.0        54.0        38.0  \n",
       "1        54.0        25.0        26.0        23.0        13.0        81.0  \n",
       "2         4.0         7.0         3.0         4.0         7.0         6.0  \n",
       "3         6.0        16.0        19.0        30.0        38.0         4.0  \n",
       "4        20.0        23.0        28.0        14.0         8.0         7.0  \n",
       "\n",
       "[5 rows x 804 columns]"
      ]
     },
     "execution_count": 7,
     "metadata": {},
     "output_type": "execute_result"
    }
   ],
   "source": [
    "input_df.head()"
   ]
  },
  {
   "cell_type": "markdown",
   "metadata": {},
   "source": [
    "## Processing Data\n",
    "Generate training set and test (predict) set"
   ]
  },
  {
   "cell_type": "markdown",
   "metadata": {},
   "source": [
    "### Day of week alignment"
   ]
  },
  {
   "cell_type": "code",
   "execution_count": 8,
   "metadata": {
    "collapsed": true
   },
   "outputs": [],
   "source": [
    "from datetime import datetime\n",
    "def weekday(datestr):\n",
    "    return datetime.strptime(datestr,'%Y-%m-%d').weekday()\n",
    "def daydiff(dstr1,dstr2):\n",
    "    return datetime.strptime(dstr1,'%Y-%m-%d') - datetime.strptime(dstr2,'%Y-%m-%d') "
   ]
  },
  {
   "cell_type": "markdown",
   "metadata": {},
   "source": [
    "We need to predict output (Y_output_pred) start from Sunday (6) for data set 1. (0: Monday, 6: Sunday)"
   ]
  },
  {
   "cell_type": "markdown",
   "metadata": {},
   "source": [
    "We take the x_length + y_length days of data only.\n",
    "\n",
    "This part then split into x_length as input X and y_length as output Y"
   ]
  },
  {
   "cell_type": "code",
   "execution_count": 9,
   "metadata": {
    "collapsed": true
   },
   "outputs": [],
   "source": [
    "x_length = 64  # input period\n",
    "y_length = 64  # predict period"
   ]
  },
  {
   "cell_type": "code",
   "execution_count": 10,
   "metadata": {
    "collapsed": true
   },
   "outputs": [],
   "source": [
    "test_length = 0  # for predicting\n",
    "#test_length = y_length  # for self testing"
   ]
  },
  {
   "cell_type": "markdown",
   "metadata": {},
   "source": [
    "#### X"
   ]
  },
  {
   "cell_type": "code",
   "execution_count": 11,
   "metadata": {
    "collapsed": true
   },
   "outputs": [],
   "source": [
    "X_input_dates = input_df_dates[-x_length-test_length-364:-test_length-364]\n",
    "\n",
    "if test_length:\n",
    "    X_output_dates = input_df_dates[-x_length-test_length:-test_length]\n",
    "else:\n",
    "    X_output_dates = input_df_dates[-x_length:]"
   ]
  },
  {
   "cell_type": "code",
   "execution_count": 12,
   "metadata": {},
   "outputs": [
    {
     "name": "stdout",
     "output_type": "stream",
     "text": [
      "X_input_first_day:  2016-07-10 6\n",
      "X_input_final_day:  2016-09-11 6\n",
      "X_input_days_diff:  63 days, 0:00:00\n",
      "X_output_first_day: 2017-07-09 6\n",
      "X_output_final_day: 2017-09-10 6\n",
      "X_output_days_diff: 63 days, 0:00:00\n"
     ]
    }
   ],
   "source": [
    "print('X_input_first_day: ', X_input_dates[0], weekday(X_input_dates[0]))\n",
    "print('X_input_final_day: ', X_input_dates[-1], weekday(X_input_dates[-1]))\n",
    "print('X_input_days_diff: ', daydiff(X_input_dates[-1], X_input_dates[0]))\n",
    "\n",
    "print('X_output_first_day:', X_output_dates[0], weekday(X_output_dates[0]))\n",
    "print('X_output_final_day:', X_output_dates[-1], weekday(X_output_dates[-1]))\n",
    "print('X_output_days_diff:', daydiff(X_output_dates[-1], X_output_dates[0]))"
   ]
  },
  {
   "cell_type": "markdown",
   "metadata": {},
   "source": [
    "#### Submission required days"
   ]
  },
  {
   "cell_type": "code",
   "execution_count": 13,
   "metadata": {},
   "outputs": [
    {
     "name": "stdout",
     "output_type": "stream",
     "text": [
      "                                               Page            Id        date\n",
      "0  007_スペクター_ja.wikipedia.org_all-access_all-agents  0b293039387a  2017-09-13\n",
      "1  007_スペクター_ja.wikipedia.org_all-access_all-agents  7114389dd824  2017-09-14\n",
      "2  007_スペクター_ja.wikipedia.org_all-access_all-agents  057b02ff1f09  2017-09-15\n",
      "3  007_スペクター_ja.wikipedia.org_all-access_all-agents  bd2aca21caa3  2017-09-16\n",
      "4  007_スペクター_ja.wikipedia.org_all-access_all-agents  c0effb42cdd5  2017-09-17\n"
     ]
    }
   ],
   "source": [
    "if test_length == 0:  # Prefetch the key_file\n",
    "    output_df = pd.read_csv('../data/' + key_file, nrows=100)    # Read the first 100 days of required submission\n",
    "    output_df['date'] = output_df.Page.apply(lambda a: a[-10:])  # take the last 10 characters from 'Page' as date\n",
    "    output_df['Page'] = output_df.Page.apply(lambda a: a[:-11])  # remove the last 10 caharacters from 'Page'\n",
    "    print(output_df.head())"
   ]
  },
  {
   "cell_type": "code",
   "execution_count": 14,
   "metadata": {},
   "outputs": [
    {
     "name": "stdout",
     "output_type": "stream",
     "text": [
      "submission required first day: 2017-09-13\n",
      "submission required final day: 2017-11-13\n"
     ]
    }
   ],
   "source": [
    "if test_length == 0:\n",
    "    output_df_dates_all = output_df.date.values.astype('datetime64[D]')\n",
    "    output_df_first_day = str(output_df_dates_all.min())\n",
    "    output_df_final_day = str(output_df_dates_all.max())\n",
    "    print('submission required first day:', output_df_first_day)\n",
    "    print('submission required final day:', output_df_final_day)"
   ]
  },
  {
   "cell_type": "markdown",
   "metadata": {},
   "source": [
    "#### Y"
   ]
  },
  {
   "cell_type": "code",
   "execution_count": 15,
   "metadata": {
    "collapsed": true
   },
   "outputs": [],
   "source": [
    "Y_input_dates = input_df_dates[-test_length-364:-test_length-364+y_length]"
   ]
  },
  {
   "cell_type": "code",
   "execution_count": 16,
   "metadata": {
    "collapsed": true
   },
   "outputs": [],
   "source": [
    "# Y for output set\n",
    "if test_length:\n",
    "    Y_output_dates = input_df_dates[-test_length:]\n",
    "else:\n",
    "    Y_output_first_day = '2017-09-11'  ## Make sure it is correct when predicting !!!!!!!\n",
    "    Y_output_dates = pd.Index(np.arange(np.datetime64(Y_output_first_day), \n",
    "                                        np.datetime64(Y_output_first_day)\n",
    "                                        + np.timedelta64(y_length, 'D')).astype('str'))"
   ]
  },
  {
   "cell_type": "code",
   "execution_count": 17,
   "metadata": {},
   "outputs": [
    {
     "name": "stdout",
     "output_type": "stream",
     "text": [
      "Y_input_first_day:  2016-09-12 0\n",
      "Y_input_final_day:  2016-11-14 0\n",
      "Y_input_days_diff:  63 days, 0:00:00\n",
      "Y_output_first_day: 2017-09-11 0\n",
      "Y_output_final_day: 2017-11-13 0\n",
      "Y_output_days_diff: 63 days, 0:00:00\n"
     ]
    }
   ],
   "source": [
    "print('Y_input_first_day: ', Y_input_dates[0], weekday(Y_input_dates[0]))\n",
    "print('Y_input_final_day: ', Y_input_dates[-1], weekday(Y_input_dates[-1]))\n",
    "print('Y_input_days_diff: ', daydiff(Y_input_dates[-1], Y_input_dates[0]))\n",
    "\n",
    "print('Y_output_first_day:', Y_output_dates[0], weekday(Y_output_dates[0]))\n",
    "print('Y_output_final_day:', Y_output_dates[-1], weekday(Y_output_dates[-1]))\n",
    "print('Y_output_days_diff:', daydiff(Y_output_dates[-1], Y_output_dates[0]))"
   ]
  },
  {
   "cell_type": "markdown",
   "metadata": {},
   "source": [
    "## Fibonacci"
   ]
  },
  {
   "cell_type": "markdown",
   "metadata": {},
   "source": [
    "#### Window Sizes"
   ]
  },
  {
   "cell_type": "markdown",
   "metadata": {},
   "source": [
    "The window sizes are given by Ehsan https://www.kaggle.com/safavieh/median-estimation-by-fibonacci-et-al-lb-44-9?scriptVersionId=1466647"
   ]
  },
  {
   "cell_type": "code",
   "execution_count": 18,
   "metadata": {
    "collapsed": true
   },
   "outputs": [],
   "source": [
    "windows = [11, 18, 30, 48, 78, 126, 203, 329]\n",
    "fib_length = max(windows)"
   ]
  },
  {
   "cell_type": "markdown",
   "metadata": {},
   "source": [
    "#### Data selection"
   ]
  },
  {
   "cell_type": "markdown",
   "metadata": {},
   "source": [
    "In this testing code, we did not include the last y_length days since in the real predicting stage, we don't know their visits."
   ]
  },
  {
   "cell_type": "code",
   "execution_count": 19,
   "metadata": {},
   "outputs": [],
   "source": [
    "if test_length:\n",
    "    fib_output_dates = input_df_dates[-fib_length-test_length:-test_length]\n",
    "else:\n",
    "    fib_output_dates = input_df_dates[-fib_length:]\n",
    "fib_input_dates = input_df_dates[-fib_length-test_length-364:-test_length-364]"
   ]
  },
  {
   "cell_type": "code",
   "execution_count": 20,
   "metadata": {
    "collapsed": true
   },
   "outputs": [],
   "source": [
    "fib_output_data = input_df[fib_output_dates].values\n",
    "fib_input_data = input_df[fib_input_dates].values"
   ]
  },
  {
   "cell_type": "markdown",
   "metadata": {},
   "source": [
    "#### Fibonacci median in each window"
   ]
  },
  {
   "cell_type": "code",
   "execution_count": 21,
   "metadata": {},
   "outputs": [
    {
     "name": "stderr",
     "output_type": "stream",
     "text": [
      "c:\\python36\\lib\\site-packages\\numpy\\lib\\function_base.py:4011: RuntimeWarning: All-NaN slice encountered\n",
      "  r = func(a, **kwargs)\n"
     ]
    }
   ],
   "source": [
    "fib_input_median_list = np.array([np.nanmedian(fib_input_data[:, -w:] , axis=-1) \n",
    "                                  for w in windows])\n",
    "fib_output_median_list = np.array([np.nanmedian(fib_output_data[:, -w:] , axis=-1) \n",
    "                                   for w in windows])\n",
    "# Runtime: 22 sec"
   ]
  },
  {
   "cell_type": "code",
   "execution_count": 22,
   "metadata": {},
   "outputs": [
    {
     "name": "stderr",
     "output_type": "stream",
     "text": [
      "c:\\python36\\lib\\site-packages\\numpy\\lib\\function_base.py:4011: RuntimeWarning: All-NaN slice encountered\n",
      "  r = func(a, **kwargs)\n"
     ]
    }
   ],
   "source": [
    "fib_input_median = np.nan_to_num(np.nanmedian(fib_input_median_list.T, axis=-1))\n",
    "fib_output_median = np.nan_to_num(np.nanmedian(fib_output_median_list.T, axis=-1))"
   ]
  },
  {
   "cell_type": "code",
   "execution_count": 23,
   "metadata": {},
   "outputs": [
    {
     "data": {
      "text/plain": [
       "349"
      ]
     },
     "execution_count": 23,
     "metadata": {},
     "output_type": "execute_result"
    }
   ],
   "source": [
    "del fib_output_data\n",
    "del fib_input_data\n",
    "del fib_output_median_list\n",
    "del fib_input_median_list\n",
    "gc.collect()"
   ]
  },
  {
   "cell_type": "markdown",
   "metadata": {},
   "source": [
    "We will use this as the center and part of the result"
   ]
  },
  {
   "cell_type": "code",
   "execution_count": 24,
   "metadata": {
    "collapsed": true
   },
   "outputs": [],
   "source": [
    "Y_input_fib = fib_input_median.reshape(-1,1)\n",
    "Y_output_fib = fib_output_median.reshape(-1,1)"
   ]
  },
  {
   "cell_type": "markdown",
   "metadata": {},
   "source": [
    "## Data Selection\n",
    "Select x_length + y_length days of data as input or ouput set."
   ]
  },
  {
   "cell_type": "markdown",
   "metadata": {},
   "source": [
    "### Input and Output data"
   ]
  },
  {
   "cell_type": "code",
   "execution_count": 25,
   "metadata": {
    "collapsed": true
   },
   "outputs": [],
   "source": [
    "X_input_raw = input_df[X_input_dates].values\n",
    "Y_input_raw = input_df[Y_input_dates].values\n",
    "X_output_raw = input_df[X_output_dates].values\n",
    "if test_length:\n",
    "    Y_output_raw = input_df[Y_output_dates].values"
   ]
  },
  {
   "cell_type": "markdown",
   "metadata": {},
   "source": [
    "##### Convert nan to number 0."
   ]
  },
  {
   "cell_type": "code",
   "execution_count": 26,
   "metadata": {
    "collapsed": true
   },
   "outputs": [],
   "source": [
    "X_input_num = np.nan_to_num(X_input_raw)\n",
    "Y_input_num = np.nan_to_num(Y_input_raw)\n",
    "X_output_num = np.nan_to_num(X_output_raw)\n",
    "if test_length:\n",
    "    Y_output_num = np.nan_to_num(Y_output_raw)"
   ]
  },
  {
   "cell_type": "markdown",
   "metadata": {},
   "source": [
    "## Transform Data"
   ]
  },
  {
   "cell_type": "markdown",
   "metadata": {},
   "source": [
    "### Log"
   ]
  },
  {
   "cell_type": "code",
   "execution_count": 27,
   "metadata": {
    "collapsed": true
   },
   "outputs": [],
   "source": [
    "def log(X):\n",
    "    return np.log10(X + 1.0)\n",
    "def unlog(X):\n",
    "    return np.clip(np.power(10., X) - 1.0, 0.0, None)"
   ]
  },
  {
   "cell_type": "code",
   "execution_count": 28,
   "metadata": {
    "collapsed": true
   },
   "outputs": [],
   "source": [
    "X_input_raw_log = log(X_input_raw)  # Contain nan\n",
    "Y_input_raw_log = log(Y_input_raw)\n",
    "X_output_raw_log = log(X_output_raw)\n",
    "if test_length:\n",
    "    Y_output_raw_log = log(Y_output_raw)"
   ]
  },
  {
   "cell_type": "code",
   "execution_count": 29,
   "metadata": {
    "collapsed": true
   },
   "outputs": [],
   "source": [
    "X_input_log = log(X_input_num)  # Do not contain nan\n",
    "Y_input_log = log(Y_input_num)\n",
    "X_output_log = log(X_output_num)\n",
    "if test_length:\n",
    "    Y_output_log = log(Y_output_num)"
   ]
  },
  {
   "cell_type": "markdown",
   "metadata": {},
   "source": [
    "### Normalization (Center and Scale)"
   ]
  },
  {
   "cell_type": "markdown",
   "metadata": {},
   "source": [
    "#### Center"
   ]
  },
  {
   "cell_type": "code",
   "execution_count": 30,
   "metadata": {
    "collapsed": true
   },
   "outputs": [],
   "source": [
    "output_center = log(fib_output_median).reshape(-1,1) # Fib. median as the center\n",
    "input_center = log(fib_input_median).reshape(-1,1)"
   ]
  },
  {
   "cell_type": "code",
   "execution_count": 31,
   "metadata": {
    "collapsed": true
   },
   "outputs": [],
   "source": [
    "X_input_center = input_center # Use same center for X and Y\n",
    "Y_input_center = input_center\n",
    "X_output_center = output_center\n",
    "Y_output_center = output_center"
   ]
  },
  {
   "cell_type": "markdown",
   "metadata": {},
   "source": [
    "#### Choice of default scale for NaN data"
   ]
  },
  {
   "cell_type": "code",
   "execution_count": 32,
   "metadata": {
    "scrolled": true
   },
   "outputs": [
    {
     "name": "stdout",
     "output_type": "stream",
     "text": [
      "default_scale: 0.174351\n"
     ]
    },
    {
     "name": "stderr",
     "output_type": "stream",
     "text": [
      "c:\\python36\\lib\\site-packages\\numpy\\lib\\nanfunctions.py:1427: RuntimeWarning: Degrees of freedom <= 0 for slice.\n",
      "  keepdims=keepdims)\n"
     ]
    }
   ],
   "source": [
    "default_input_scale = np.nanmedian(np.nanstd(X_input_raw_log, axis=-1))  # Do not include nan\n",
    "default_output_scale = np.nanmedian(np.nanstd(X_output_raw_log, axis=-1))  # Do not include nan\n",
    "default_scale = np.mean([default_input_scale, default_output_scale])\n",
    "print('default_scale:', default_scale)"
   ]
  },
  {
   "cell_type": "markdown",
   "metadata": {},
   "source": [
    "#### Scale"
   ]
  },
  {
   "cell_type": "code",
   "execution_count": 33,
   "metadata": {
    "collapsed": true,
    "scrolled": true
   },
   "outputs": [],
   "source": [
    "# Treat nan as 0\n",
    "input_scale = np.std(X_input_log, axis=-1).reshape(-1,1)\n",
    "output_scale = np.std(X_output_log, axis=-1).reshape(-1,1)\n",
    "\n",
    "input_scale[input_scale == 0.0] = default_scale  # Prevent divid by zero \n",
    "output_scale[output_scale == 0.0] = default_scale  # Prevent divid by zero "
   ]
  },
  {
   "cell_type": "code",
   "execution_count": 34,
   "metadata": {
    "collapsed": true
   },
   "outputs": [],
   "source": [
    "X_input_scale = input_scale\n",
    "Y_input_scale = input_scale\n",
    "X_output_scale = output_scale\n",
    "Y_output_scale = output_scale"
   ]
  },
  {
   "cell_type": "markdown",
   "metadata": {},
   "source": [
    "#### Shift by Center and Scale by Scale"
   ]
  },
  {
   "cell_type": "code",
   "execution_count": 35,
   "metadata": {
    "collapsed": true
   },
   "outputs": [],
   "source": [
    "def transform(data_ori, center, scale):\n",
    "    return (data_ori - center) / scale\n",
    "def untransform(data, center, scale):\n",
    "    return data * scale + center"
   ]
  },
  {
   "cell_type": "code",
   "execution_count": 36,
   "metadata": {
    "collapsed": true
   },
   "outputs": [],
   "source": [
    "# Normalize before nan->0\n",
    "X_input = np.nan_to_num(transform(X_input_raw_log, X_input_center, input_scale))\n",
    "X_output = np.nan_to_num(transform(X_output_raw_log, X_output_center, output_scale))\n",
    "Y_input = np.nan_to_num(transform(Y_input_raw_log, Y_input_center, input_scale))\n",
    "if test_length:\n",
    "    Y_output = np.nan_to_num(transform(Y_output_raw_log, Y_output_center, output_scale))"
   ]
  },
  {
   "cell_type": "markdown",
   "metadata": {},
   "source": [
    "Note:\n",
    "\n",
    "* If we take nan_to_num before transform, we make sure the nan got transformed into 0 but not the center.\n",
    "* If we take nan_to_num after transform, nan trun into the center but not 0 of the original data."
   ]
  },
  {
   "cell_type": "markdown",
   "metadata": {},
   "source": [
    "##### Check median and stdev transformations"
   ]
  },
  {
   "cell_type": "code",
   "execution_count": 37,
   "metadata": {
    "collapsed": true
   },
   "outputs": [],
   "source": [
    "def check_nan(X):\n",
    "    return [x for x in X if np.isnan(x).any()]"
   ]
  },
  {
   "cell_type": "markdown",
   "metadata": {},
   "source": [
    "### Group index based on scale of median (center)"
   ]
  },
  {
   "cell_type": "code",
   "execution_count": 38,
   "metadata": {},
   "outputs": [],
   "source": [
    "def group_index(logx):\n",
    "    if logx < 1.0: return 0\n",
    "    elif logx < 2.0: return 1\n",
    "    elif logx < 4.0: return 2\n",
    "    else: return 3\n",
    "group_index_v = np.vectorize(group_index)\n",
    "gp_list = list(range(4))"
   ]
  },
  {
   "cell_type": "code",
   "execution_count": 39,
   "metadata": {
    "collapsed": true
   },
   "outputs": [],
   "source": [
    "# Group using Y center (Fib Median)\n",
    "input_gp = group_index_v(Y_input_center).reshape(-1)\n",
    "output_gp = group_index_v(Y_output_center).reshape(-1)"
   ]
  },
  {
   "cell_type": "code",
   "execution_count": 40,
   "metadata": {},
   "outputs": [
    {
     "name": "stdout",
     "output_type": "stream",
     "text": [
      "gp_input_counts: [27413, 40041, 76815, 794]\n"
     ]
    }
   ],
   "source": [
    "# group counts\n",
    "gp_input_counts = [0] * len(gp_list)\n",
    "for x in input_gp: gp_input_counts[x] += 1\n",
    "print('gp_input_counts:', gp_input_counts)"
   ]
  },
  {
   "cell_type": "code",
   "execution_count": 41,
   "metadata": {},
   "outputs": [
    {
     "name": "stdout",
     "output_type": "stream",
     "text": [
      "gp_output_counts: [25996, 43804, 74588, 675]\n"
     ]
    }
   ],
   "source": [
    "# group counts\n",
    "gp_output_counts = [0] * len(gp_list)\n",
    "for x in output_gp: gp_output_counts[x] += 1\n",
    "print('gp_output_counts:', gp_output_counts)"
   ]
  },
  {
   "cell_type": "markdown",
   "metadata": {},
   "source": [
    "#### Original data"
   ]
  },
  {
   "cell_type": "code",
   "execution_count": 42,
   "metadata": {
    "collapsed": true
   },
   "outputs": [],
   "source": [
    "X_input_ori = X_input_num  # Do not contain nan\n",
    "Y_input_ori = Y_input_num\n",
    "X_output_ori = X_output_num\n",
    "if test_length:\n",
    "    Y_output_ori = Y_output_num"
   ]
  },
  {
   "cell_type": "markdown",
   "metadata": {},
   "source": [
    "## Split X,Y data into groups"
   ]
  },
  {
   "cell_type": "code",
   "execution_count": 43,
   "metadata": {
    "collapsed": true
   },
   "outputs": [],
   "source": [
    "X_input_list = [X_input[input_gp == gp] for gp in gp_list]\n",
    "Y_input_list = [Y_input[input_gp == gp] for gp in gp_list]\n",
    "X_output_list = [X_output[output_gp == gp] for gp in gp_list]\n",
    "if test_length:\n",
    "    Y_output_list = [Y_output[output_gp == gp] for gp in gp_list]"
   ]
  },
  {
   "cell_type": "markdown",
   "metadata": {},
   "source": [
    "## Additional input for the neural network"
   ]
  },
  {
   "cell_type": "code",
   "execution_count": 44,
   "metadata": {},
   "outputs": [],
   "source": [
    "A_input = np.concatenate((Y_input_center, input_scale), axis=1)\n",
    "A_output = np.concatenate((Y_output_center, output_scale), axis=1)\n",
    "\n",
    "A_input_list = [A_input[input_gp == gp] for gp in gp_list]\n",
    "A_output_list = [A_output[output_gp == gp] for gp in gp_list]\n",
    "\n",
    "a_length = len(A_input[0])"
   ]
  },
  {
   "cell_type": "markdown",
   "metadata": {},
   "source": [
    "## Dates that We don't evaluate their scores\n",
    "We modify Y_output_raw so that some of the dates won't be evaluated."
   ]
  },
  {
   "cell_type": "code",
   "execution_count": 45,
   "metadata": {},
   "outputs": [
    {
     "name": "stdout",
     "output_type": "stream",
     "text": [
      "Number of day we don't evaluate: 1\n"
     ]
    }
   ],
   "source": [
    "y_eval_length = 63\n",
    "y_not_eval = y_length - y_eval_length  # number of days we don't evaluate their scores\n",
    "print(\"Number of day we don't evaluate:\", y_not_eval)"
   ]
  },
  {
   "cell_type": "code",
   "execution_count": 46,
   "metadata": {
    "collapsed": true
   },
   "outputs": [],
   "source": [
    "if test_length and y_not_eval > 0:\n",
    "    Y_output_raw[:,:y_not_eval] = np.nan"
   ]
  },
  {
   "cell_type": "code",
   "execution_count": 47,
   "metadata": {
    "collapsed": true
   },
   "outputs": [],
   "source": [
    "if test_length and y_not_eval > 0:\n",
    "    print(np.sum(~np.isnan(Y_output_raw[0])), y_eval_length, y_length)"
   ]
  },
  {
   "cell_type": "code",
   "execution_count": 48,
   "metadata": {
    "collapsed": true
   },
   "outputs": [],
   "source": [
    "if test_length and y_not_eval > 0:\n",
    "    print(Y_output_raw[0:2,y_not_eval-1:y_not_eval+1])"
   ]
  },
  {
   "cell_type": "markdown",
   "metadata": {},
   "source": [
    "#### Shuffle Index"
   ]
  },
  {
   "cell_type": "code",
   "execution_count": 49,
   "metadata": {
    "collapsed": true
   },
   "outputs": [],
   "source": [
    "def make_shuffle_index(n, seed=None):\n",
    "    shuffle_index = np.arange(n)\n",
    "    np.random.seed(seed)  # you can fix the initial seed for comparison purpose\n",
    "    np.random.shuffle(shuffle_index)\n",
    "    return shuffle_index"
   ]
  },
  {
   "cell_type": "markdown",
   "metadata": {},
   "source": [
    "## Neural Network"
   ]
  },
  {
   "cell_type": "code",
   "execution_count": 50,
   "metadata": {},
   "outputs": [
    {
     "name": "stderr",
     "output_type": "stream",
     "text": [
      "Using TensorFlow backend.\n"
     ]
    }
   ],
   "source": [
    "import keras"
   ]
  },
  {
   "cell_type": "markdown",
   "metadata": {},
   "source": [
    "### SMAPE\n",
    "Symmetric mean absolute percentage error\n",
    "\n",
    "https://en.wikipedia.org/wiki/Symmetric_mean_absolute_percentage_error"
   ]
  },
  {
   "cell_type": "code",
   "execution_count": 51,
   "metadata": {
    "collapsed": true
   },
   "outputs": [],
   "source": [
    "import keras.backend as K\n",
    "\n",
    "def k_smape(y_true, y_pred):\n",
    "    '''Symmetric mean absolute percentage error for keras metric'''\n",
    "    diff = K.abs((y_true - y_pred) / K.clip(K.abs(y_true) + K.abs(y_pred),\n",
    "                                            K.epsilon(), None))\n",
    "    return 200. * K.mean(diff, axis=-1)\n",
    "\n",
    "def smape(y_true, y_pred, axis=None):\n",
    "    '''Symmetric mean absolute percentage error'''\n",
    "    diff = np.abs((y_true - y_pred) / \n",
    "                  np.clip(np.abs(y_true) + np.abs(y_pred), np.float32(1e-07), None))\n",
    "    return np.float32(200.) * np.nanmean(diff, axis=axis)"
   ]
  },
  {
   "cell_type": "markdown",
   "metadata": {},
   "source": [
    "### Neural Network Model\n",
    "With the flavor of convolutional neural network"
   ]
  },
  {
   "cell_type": "code",
   "execution_count": 52,
   "metadata": {
    "collapsed": true
   },
   "outputs": [],
   "source": [
    "from keras.models import Model, load_model\n",
    "from keras.layers import Dense, Dropout, Flatten\n",
    "from keras.layers import Input\n",
    "from keras.layers import Conv1D\n",
    "from keras.layers import Reshape\n",
    "from keras.layers import MaxPooling1D\n",
    "from keras.layers import AveragePooling1D\n",
    "from keras.layers import concatenate\n",
    "from keras.optimizers import Adam"
   ]
  },
  {
   "cell_type": "code",
   "execution_count": 53,
   "metadata": {
    "collapsed": true
   },
   "outputs": [],
   "source": [
    "n_ens = 5  # Number of ensembles\n",
    "ens_list = list(range(n_ens))"
   ]
  },
  {
   "cell_type": "code",
   "execution_count": 54,
   "metadata": {},
   "outputs": [
    {
     "name": "stdout",
     "output_type": "stream",
     "text": [
      "Not loading.\n"
     ]
    }
   ],
   "source": [
    "#load exisiting model\n",
    "load_previous_models = False  # Switch for determine whether to load the exisiting model or not\n",
    "if load_previous_models:\n",
    "    print('Load Previous Models')\n",
    "    models_ens = [[load_model('../models/' + model_name + '-' + str(run) + '-' + str(gp) +'.h5',\n",
    "                              custom_objects={'k_smape': k_smape})\n",
    "                   for gp in gp_list]\n",
    "                  for run in ens_list]\n",
    "else: print('Not loading.')"
   ]
  },
  {
   "cell_type": "markdown",
   "metadata": {},
   "source": [
    "#### Build neural networks"
   ]
  },
  {
   "cell_type": "code",
   "execution_count": 55,
   "metadata": {
    "scrolled": true
   },
   "outputs": [
    {
     "name": "stdout",
     "output_type": "stream",
     "text": [
      "Run 0: Group-0 Group-1 Group-2 Group-3 \n",
      "Run 1: Group-0 Group-1 Group-2 Group-3 \n",
      "Run 2: Group-0 Group-1 Group-2 Group-3 \n",
      "Run 3: Group-0 Group-1 Group-2 Group-3 \n",
      "Run 4: Group-0 Group-1 Group-2 Group-3 \n"
     ]
    }
   ],
   "source": [
    "if not load_previous_models:\n",
    "    models_ens = []\n",
    "    for run in ens_list:\n",
    "        print('Run', run, end=': ')\n",
    "        models = []\n",
    "        for gp in gp_list:\n",
    "            print('Group-', gp, sep='', end=' ')\n",
    "            layer_0 = Input(shape=(x_length,), name='x_input')\n",
    "            layer_t = Reshape((-1, 1))(layer_0)\n",
    "            layer_t = Conv1D(140, kernel_size=3, activation='relu')(layer_t)\n",
    "            layer_t = AveragePooling1D(pool_size=2)(layer_t)\n",
    "            layer_cnn_x = Flatten()(layer_t)\n",
    "\n",
    "            layer_a = Input(shape=(a_length,), name='a_input')\n",
    "\n",
    "            layer_t = concatenate([layer_cnn_x, layer_a])\n",
    "\n",
    "            layer_t = Dense(130, activation='relu')(layer_t)\n",
    "            layer_t = Dropout(0.25)(layer_t)\n",
    "            layer_t = Dense(120, activation='relu')(layer_t)\n",
    "            layer_t = Dropout(0.5)(layer_t)\n",
    "            layer_f = Dense(y_length)(layer_t)\n",
    "\n",
    "            model = Model(inputs=[layer_0, layer_a], outputs=layer_f)\n",
    "            model.compile(optimizer='adam',\n",
    "                          loss='mean_absolute_error', metrics=[k_smape])\n",
    "            models.append(model)\n",
    "        models_ens.append(models)\n",
    "        print('')"
   ]
  },
  {
   "cell_type": "code",
   "execution_count": 56,
   "metadata": {},
   "outputs": [
    {
     "name": "stdout",
     "output_type": "stream",
     "text": [
      "____________________________________________________________________________________________________\n",
      "Layer (type)                     Output Shape          Param #     Connected to                     \n",
      "====================================================================================================\n",
      "x_input (InputLayer)             (None, 64)            0                                            \n",
      "____________________________________________________________________________________________________\n",
      "reshape_20 (Reshape)             (None, 64, 1)         0           x_input[0][0]                    \n",
      "____________________________________________________________________________________________________\n",
      "conv1d_20 (Conv1D)               (None, 62, 140)       560         reshape_20[0][0]                 \n",
      "____________________________________________________________________________________________________\n",
      "average_pooling1d_20 (AveragePoo (None, 31, 140)       0           conv1d_20[0][0]                  \n",
      "____________________________________________________________________________________________________\n",
      "flatten_20 (Flatten)             (None, 4340)          0           average_pooling1d_20[0][0]       \n",
      "____________________________________________________________________________________________________\n",
      "a_input (InputLayer)             (None, 2)             0                                            \n",
      "____________________________________________________________________________________________________\n",
      "concatenate_20 (Concatenate)     (None, 4342)          0           flatten_20[0][0]                 \n",
      "                                                                   a_input[0][0]                    \n",
      "____________________________________________________________________________________________________\n",
      "dense_58 (Dense)                 (None, 130)           564590      concatenate_20[0][0]             \n",
      "____________________________________________________________________________________________________\n",
      "dropout_39 (Dropout)             (None, 130)           0           dense_58[0][0]                   \n",
      "____________________________________________________________________________________________________\n",
      "dense_59 (Dense)                 (None, 120)           15720       dropout_39[0][0]                 \n",
      "____________________________________________________________________________________________________\n",
      "dropout_40 (Dropout)             (None, 120)           0           dense_59[0][0]                   \n",
      "____________________________________________________________________________________________________\n",
      "dense_60 (Dense)                 (None, 64)            7744        dropout_40[0][0]                 \n",
      "====================================================================================================\n",
      "Total params: 588,614\n",
      "Trainable params: 588,614\n",
      "Non-trainable params: 0\n",
      "____________________________________________________________________________________________________\n"
     ]
    }
   ],
   "source": [
    "models_ens[-1][-1].summary()"
   ]
  },
  {
   "cell_type": "code",
   "execution_count": 57,
   "metadata": {},
   "outputs": [
    {
     "name": "stdout",
     "output_type": "stream",
     "text": [
      "N of ensemble, N of groups: (5, 4)\n"
     ]
    }
   ],
   "source": [
    "print('N of ensemble, N of groups:', np.array(models_ens).shape)"
   ]
  },
  {
   "cell_type": "code",
   "execution_count": 58,
   "metadata": {
    "collapsed": true
   },
   "outputs": [],
   "source": [
    "epochs_list = [0,40,40,60]  # Epochs setting for each group"
   ]
  },
  {
   "cell_type": "markdown",
   "metadata": {},
   "source": [
    "#### Train neural networks\n",
    "Takes a few hours"
   ]
  },
  {
   "cell_type": "code",
   "execution_count": 59,
   "metadata": {
    "scrolled": true
   },
   "outputs": [
    {
     "name": "stdout",
     "output_type": "stream",
     "text": [
      "=== Run: 1 / 5 ===\n",
      "--- Group: 1 / 4 ---\n",
      "Train on 21930 samples, validate on 5483 samples\n",
      "--- Group: 2 / 4 ---\n",
      "Train on 32032 samples, validate on 8009 samples\n",
      "Epoch 1/40\n",
      "9s - loss: 1.0614 - k_smape: 156.7548 - val_loss: 1.0359 - val_k_smape: 150.0568\n",
      "Epoch 2/40\n",
      "7s - loss: 1.0396 - k_smape: 148.7718 - val_loss: 1.0283 - val_k_smape: 146.3537\n",
      "Epoch 3/40\n",
      "7s - loss: 1.0338 - k_smape: 146.9182 - val_loss: 1.0255 - val_k_smape: 147.0556\n",
      "Epoch 4/40\n",
      "7s - loss: 1.0285 - k_smape: 145.4173 - val_loss: 1.0254 - val_k_smape: 148.6360\n",
      "Epoch 5/40\n",
      "7s - loss: 1.0245 - k_smape: 144.4631 - val_loss: 1.0209 - val_k_smape: 143.8284\n",
      "Epoch 6/40\n",
      "7s - loss: 1.0214 - k_smape: 143.8143 - val_loss: 1.0214 - val_k_smape: 142.9885\n",
      "Epoch 7/40\n",
      "7s - loss: 1.0179 - k_smape: 143.1638 - val_loss: 1.0169 - val_k_smape: 141.3128\n",
      "Epoch 8/40\n",
      "7s - loss: 1.0143 - k_smape: 142.5879 - val_loss: 1.0154 - val_k_smape: 144.7105\n",
      "Epoch 9/40\n",
      "7s - loss: 1.0118 - k_smape: 142.0580 - val_loss: 1.0137 - val_k_smape: 141.8030\n",
      "Epoch 10/40\n",
      "7s - loss: 1.0092 - k_smape: 141.6441 - val_loss: 1.0148 - val_k_smape: 142.8304\n",
      "Epoch 11/40\n",
      "7s - loss: 1.0070 - k_smape: 141.0235 - val_loss: 1.0116 - val_k_smape: 141.9576\n",
      "Epoch 12/40\n",
      "7s - loss: 1.0050 - k_smape: 140.9724 - val_loss: 1.0141 - val_k_smape: 139.6199\n",
      "Epoch 13/40\n",
      "7s - loss: 1.0019 - k_smape: 140.2178 - val_loss: 1.0149 - val_k_smape: 144.2058\n",
      "Epoch 14/40\n",
      "7s - loss: 0.9997 - k_smape: 139.8449 - val_loss: 1.0122 - val_k_smape: 141.3872\n",
      "Epoch 15/40\n",
      "7s - loss: 0.9969 - k_smape: 139.6378 - val_loss: 1.0133 - val_k_smape: 143.1630\n",
      "Epoch 16/40\n",
      "7s - loss: 0.9947 - k_smape: 139.5659 - val_loss: 1.0129 - val_k_smape: 142.3068\n",
      "Epoch 17/40\n",
      "7s - loss: 0.9923 - k_smape: 139.4299 - val_loss: 1.0096 - val_k_smape: 141.4651\n",
      "Epoch 18/40\n",
      "7s - loss: 0.9900 - k_smape: 138.9220 - val_loss: 1.0137 - val_k_smape: 143.4455\n",
      "Epoch 19/40\n",
      "7s - loss: 0.9868 - k_smape: 138.3725 - val_loss: 1.0100 - val_k_smape: 142.0482\n",
      "Epoch 20/40\n",
      "7s - loss: 0.9862 - k_smape: 138.5253 - val_loss: 1.0130 - val_k_smape: 142.7213\n",
      "Epoch 21/40\n",
      "7s - loss: 0.9820 - k_smape: 138.0303 - val_loss: 1.0122 - val_k_smape: 142.0677\n",
      "Epoch 22/40\n",
      "7s - loss: 0.9803 - k_smape: 138.0771 - val_loss: 1.0139 - val_k_smape: 140.3011\n",
      "Epoch 23/40\n",
      "7s - loss: 0.9795 - k_smape: 137.7921 - val_loss: 1.0139 - val_k_smape: 143.3851\n",
      "Epoch 24/40\n",
      "7s - loss: 0.9785 - k_smape: 137.6687 - val_loss: 1.0144 - val_k_smape: 143.0590\n",
      "Epoch 25/40\n",
      "7s - loss: 0.9755 - k_smape: 137.3873 - val_loss: 1.0147 - val_k_smape: 142.7718\n",
      "Epoch 26/40\n",
      "7s - loss: 0.9740 - k_smape: 137.1587 - val_loss: 1.0120 - val_k_smape: 140.6082\n",
      "Epoch 27/40\n",
      "7s - loss: 0.9733 - k_smape: 137.0779 - val_loss: 1.0138 - val_k_smape: 139.6278\n",
      "Epoch 28/40\n",
      "7s - loss: 0.9696 - k_smape: 136.7369 - val_loss: 1.0183 - val_k_smape: 140.3130\n",
      "Epoch 29/40\n",
      "7s - loss: 0.9681 - k_smape: 136.8629 - val_loss: 1.0128 - val_k_smape: 140.1762\n",
      "Epoch 30/40\n",
      "7s - loss: 0.9663 - k_smape: 136.4300 - val_loss: 1.0149 - val_k_smape: 140.7939\n",
      "Epoch 31/40\n",
      "7s - loss: 0.9669 - k_smape: 136.5504 - val_loss: 1.0156 - val_k_smape: 140.3555\n",
      "Epoch 32/40\n",
      "7s - loss: 0.9637 - k_smape: 136.0417 - val_loss: 1.0159 - val_k_smape: 142.6991\n",
      "Epoch 33/40\n",
      "7s - loss: 0.9627 - k_smape: 136.0685 - val_loss: 1.0140 - val_k_smape: 141.2193\n",
      "Epoch 34/40\n",
      "7s - loss: 0.9616 - k_smape: 135.9119 - val_loss: 1.0131 - val_k_smape: 141.4145\n",
      "Epoch 35/40\n",
      "7s - loss: 0.9602 - k_smape: 135.9412 - val_loss: 1.0153 - val_k_smape: 140.2137\n",
      "Epoch 36/40\n",
      "7s - loss: 0.9579 - k_smape: 135.6847 - val_loss: 1.0140 - val_k_smape: 141.3542\n",
      "Epoch 37/40\n",
      "7s - loss: 0.9571 - k_smape: 135.6660 - val_loss: 1.0152 - val_k_smape: 141.3418\n",
      "Epoch 38/40\n",
      "7s - loss: 0.9567 - k_smape: 135.7214 - val_loss: 1.0150 - val_k_smape: 141.1108\n",
      "Epoch 39/40\n",
      "7s - loss: 0.9543 - k_smape: 135.1920 - val_loss: 1.0157 - val_k_smape: 141.4405\n",
      "Epoch 40/40\n",
      "7s - loss: 0.9520 - k_smape: 135.0336 - val_loss: 1.0151 - val_k_smape: 141.4559\n",
      "--- Group: 3 / 4 ---\n",
      "Train on 61452 samples, validate on 15363 samples\n",
      "Epoch 1/40\n",
      "14s - loss: 1.0898 - k_smape: 128.3304 - val_loss: 1.0318 - val_k_smape: 118.4173\n",
      "Epoch 2/40\n",
      "13s - loss: 1.0479 - k_smape: 120.8273 - val_loss: 1.0203 - val_k_smape: 119.6346\n",
      "Epoch 3/40\n",
      "13s - loss: 1.0359 - k_smape: 119.0996 - val_loss: 1.0220 - val_k_smape: 120.4505\n",
      "Epoch 4/40\n",
      "13s - loss: 1.0284 - k_smape: 117.9683 - val_loss: 1.0054 - val_k_smape: 116.5778\n",
      "Epoch 5/40\n",
      "13s - loss: 1.0207 - k_smape: 116.9440 - val_loss: 0.9994 - val_k_smape: 115.9935\n",
      "Epoch 6/40\n",
      "13s - loss: 1.0150 - k_smape: 116.1987 - val_loss: 0.9938 - val_k_smape: 114.5091\n",
      "Epoch 7/40\n",
      "13s - loss: 1.0096 - k_smape: 115.5930 - val_loss: 0.9959 - val_k_smape: 114.6559\n",
      "Epoch 8/40\n",
      "13s - loss: 1.0051 - k_smape: 115.1353 - val_loss: 0.9888 - val_k_smape: 113.7509\n",
      "Epoch 9/40\n",
      "13s - loss: 1.0003 - k_smape: 114.4419 - val_loss: 0.9864 - val_k_smape: 112.6896\n",
      "Epoch 10/40\n",
      "13s - loss: 0.9975 - k_smape: 114.2057 - val_loss: 0.9843 - val_k_smape: 112.5657\n",
      "Epoch 11/40\n",
      "13s - loss: 0.9920 - k_smape: 113.6268 - val_loss: 0.9835 - val_k_smape: 113.6621\n",
      "Epoch 12/40\n",
      "13s - loss: 0.9884 - k_smape: 113.2091 - val_loss: 0.9798 - val_k_smape: 113.3035\n",
      "Epoch 13/40\n",
      "13s - loss: 0.9843 - k_smape: 112.8840 - val_loss: 0.9845 - val_k_smape: 113.4310\n",
      "Epoch 14/40\n",
      "13s - loss: 0.9814 - k_smape: 112.6135 - val_loss: 0.9787 - val_k_smape: 113.8322\n",
      "Epoch 15/40\n",
      "13s - loss: 0.9783 - k_smape: 112.3220 - val_loss: 0.9760 - val_k_smape: 112.5396\n",
      "Epoch 16/40\n",
      "13s - loss: 0.9732 - k_smape: 111.8022 - val_loss: 0.9762 - val_k_smape: 112.7366\n",
      "Epoch 17/40\n",
      "13s - loss: 0.9714 - k_smape: 111.6732 - val_loss: 0.9734 - val_k_smape: 112.7201\n",
      "Epoch 18/40\n",
      "13s - loss: 0.9683 - k_smape: 111.4769 - val_loss: 0.9743 - val_k_smape: 111.4470\n",
      "Epoch 19/40\n",
      "13s - loss: 0.9659 - k_smape: 111.1620 - val_loss: 0.9713 - val_k_smape: 111.9673\n",
      "Epoch 20/40\n",
      "13s - loss: 0.9621 - k_smape: 110.7967 - val_loss: 0.9762 - val_k_smape: 112.2712\n",
      "Epoch 21/40\n",
      "13s - loss: 0.9604 - k_smape: 110.7499 - val_loss: 0.9735 - val_k_smape: 114.1998\n",
      "Epoch 22/40\n",
      "13s - loss: 0.9589 - k_smape: 110.7215 - val_loss: 0.9711 - val_k_smape: 111.4708\n",
      "Epoch 23/40\n",
      "13s - loss: 0.9548 - k_smape: 110.4092 - val_loss: 0.9683 - val_k_smape: 112.2105\n",
      "Epoch 24/40\n",
      "13s - loss: 0.9529 - k_smape: 110.1828 - val_loss: 0.9680 - val_k_smape: 111.4079\n",
      "Epoch 25/40\n",
      "13s - loss: 0.9516 - k_smape: 110.0842 - val_loss: 0.9652 - val_k_smape: 111.2529\n",
      "Epoch 26/40\n",
      "13s - loss: 0.9492 - k_smape: 109.9754 - val_loss: 0.9723 - val_k_smape: 112.9554\n",
      "Epoch 27/40\n",
      "13s - loss: 0.9452 - k_smape: 109.7069 - val_loss: 0.9691 - val_k_smape: 111.5601\n",
      "Epoch 28/40\n",
      "13s - loss: 0.9464 - k_smape: 109.7535 - val_loss: 0.9648 - val_k_smape: 111.6629\n",
      "Epoch 29/40\n",
      "13s - loss: 0.9434 - k_smape: 109.4754 - val_loss: 0.9630 - val_k_smape: 110.4871\n",
      "Epoch 30/40\n",
      "13s - loss: 0.9405 - k_smape: 109.2485 - val_loss: 0.9639 - val_k_smape: 111.0655\n",
      "Epoch 31/40\n",
      "14s - loss: 0.9396 - k_smape: 109.3110 - val_loss: 0.9656 - val_k_smape: 111.4603\n",
      "Epoch 32/40\n",
      "14s - loss: 0.9365 - k_smape: 109.0014 - val_loss: 0.9628 - val_k_smape: 111.2493\n",
      "Epoch 33/40\n",
      "14s - loss: 0.9358 - k_smape: 108.9089 - val_loss: 0.9641 - val_k_smape: 112.3134\n",
      "Epoch 34/40\n",
      "14s - loss: 0.9337 - k_smape: 108.7294 - val_loss: 0.9612 - val_k_smape: 111.1994\n",
      "Epoch 35/40\n",
      "13s - loss: 0.9321 - k_smape: 108.6964 - val_loss: 0.9595 - val_k_smape: 110.8728\n",
      "Epoch 36/40\n",
      "13s - loss: 0.9301 - k_smape: 108.5046 - val_loss: 0.9639 - val_k_smape: 111.1358\n",
      "Epoch 37/40\n",
      "13s - loss: 0.9285 - k_smape: 108.2477 - val_loss: 0.9648 - val_k_smape: 112.5834\n",
      "Epoch 38/40\n",
      "14s - loss: 0.9272 - k_smape: 108.2389 - val_loss: 0.9629 - val_k_smape: 112.1924\n",
      "Epoch 39/40\n",
      "14s - loss: 0.9256 - k_smape: 108.2564 - val_loss: 0.9671 - val_k_smape: 112.5264\n",
      "Epoch 40/40\n",
      "14s - loss: 0.9233 - k_smape: 108.0549 - val_loss: 0.9599 - val_k_smape: 110.4852\n",
      "--- Group: 4 / 4 ---\n",
      "Train on 635 samples, validate on 159 samples\n",
      "Epoch 1/60\n",
      "0s - loss: 1.2887 - k_smape: 172.6049 - val_loss: 1.1440 - val_k_smape: 171.4775\n",
      "Epoch 2/60\n",
      "0s - loss: 1.2711 - k_smape: 163.6087 - val_loss: 1.1283 - val_k_smape: 165.1094\n",
      "Epoch 3/60\n",
      "0s - loss: 1.2548 - k_smape: 157.2940 - val_loss: 1.1125 - val_k_smape: 158.2491\n",
      "Epoch 4/60\n",
      "0s - loss: 1.2398 - k_smape: 151.5987 - val_loss: 1.0950 - val_k_smape: 153.1187\n",
      "Epoch 5/60\n",
      "0s - loss: 1.2158 - k_smape: 145.8071 - val_loss: 1.0736 - val_k_smape: 147.4628\n",
      "Epoch 6/60\n",
      "0s - loss: 1.1990 - k_smape: 141.3225 - val_loss: 1.0549 - val_k_smape: 142.5997\n",
      "Epoch 7/60\n"
     ]
    },
    {
     "name": "stdout",
     "output_type": "stream",
     "text": [
      "0s - loss: 1.1763 - k_smape: 137.5010 - val_loss: 1.0347 - val_k_smape: 136.8749\n",
      "Epoch 8/60\n",
      "0s - loss: 1.1550 - k_smape: 132.7076 - val_loss: 1.0180 - val_k_smape: 132.9849\n",
      "Epoch 9/60\n",
      "0s - loss: 1.1356 - k_smape: 129.0349 - val_loss: 1.0049 - val_k_smape: 131.1554\n",
      "Epoch 10/60\n",
      "0s - loss: 1.1192 - k_smape: 128.1690 - val_loss: 0.9977 - val_k_smape: 129.7371\n",
      "Epoch 11/60\n",
      "0s - loss: 1.1069 - k_smape: 124.9970 - val_loss: 0.9875 - val_k_smape: 128.2727\n",
      "Epoch 12/60\n",
      "0s - loss: 1.0940 - k_smape: 121.6842 - val_loss: 0.9806 - val_k_smape: 126.5921\n",
      "Epoch 13/60\n",
      "0s - loss: 1.0764 - k_smape: 121.5013 - val_loss: 0.9681 - val_k_smape: 126.6786\n",
      "Epoch 14/60\n",
      "0s - loss: 1.0623 - k_smape: 119.1700 - val_loss: 0.9560 - val_k_smape: 123.8053\n",
      "Epoch 15/60\n",
      "0s - loss: 1.0414 - k_smape: 116.4087 - val_loss: 0.9583 - val_k_smape: 122.3508\n",
      "Epoch 16/60\n",
      "0s - loss: 1.0366 - k_smape: 114.5312 - val_loss: 0.9523 - val_k_smape: 122.1795\n",
      "Epoch 17/60\n",
      "0s - loss: 1.0221 - k_smape: 113.8121 - val_loss: 0.9483 - val_k_smape: 121.5421\n",
      "Epoch 18/60\n",
      "0s - loss: 1.0043 - k_smape: 110.4418 - val_loss: 0.9364 - val_k_smape: 120.5254\n",
      "Epoch 19/60\n",
      "0s - loss: 1.0055 - k_smape: 112.8486 - val_loss: 0.9394 - val_k_smape: 118.2360\n",
      "Epoch 20/60\n",
      "0s - loss: 0.9958 - k_smape: 108.0780 - val_loss: 0.9368 - val_k_smape: 119.5955\n",
      "Epoch 21/60\n",
      "0s - loss: 0.9809 - k_smape: 109.1022 - val_loss: 0.9368 - val_k_smape: 118.5594\n",
      "Epoch 22/60\n",
      "0s - loss: 0.9666 - k_smape: 106.8549 - val_loss: 0.9183 - val_k_smape: 116.9163\n",
      "Epoch 23/60\n",
      "0s - loss: 0.9586 - k_smape: 105.8246 - val_loss: 0.9126 - val_k_smape: 116.0980\n",
      "Epoch 24/60\n",
      "0s - loss: 0.9477 - k_smape: 105.3531 - val_loss: 0.9001 - val_k_smape: 115.1472\n",
      "Epoch 25/60\n",
      "0s - loss: 0.9480 - k_smape: 106.6947 - val_loss: 0.8961 - val_k_smape: 114.5044\n",
      "Epoch 26/60\n",
      "0s - loss: 0.9310 - k_smape: 102.9152 - val_loss: 0.9022 - val_k_smape: 115.3555\n",
      "Epoch 27/60\n",
      "0s - loss: 0.9273 - k_smape: 105.2732 - val_loss: 0.8970 - val_k_smape: 114.9457\n",
      "Epoch 28/60\n",
      "0s - loss: 0.9107 - k_smape: 100.8957 - val_loss: 0.9194 - val_k_smape: 116.4784\n",
      "Epoch 29/60\n",
      "0s - loss: 0.9194 - k_smape: 101.9712 - val_loss: 0.8946 - val_k_smape: 113.6409\n",
      "Epoch 30/60\n",
      "0s - loss: 0.8993 - k_smape: 102.1082 - val_loss: 0.9042 - val_k_smape: 117.6968\n",
      "Epoch 31/60\n",
      "0s - loss: 0.8904 - k_smape: 101.5856 - val_loss: 0.8856 - val_k_smape: 112.4776\n",
      "Epoch 32/60\n",
      "0s - loss: 0.8942 - k_smape: 100.2096 - val_loss: 0.8967 - val_k_smape: 113.7194\n",
      "Epoch 33/60\n",
      "0s - loss: 0.8858 - k_smape: 99.7946 - val_loss: 0.8882 - val_k_smape: 111.9546\n",
      "Epoch 34/60\n",
      "0s - loss: 0.8740 - k_smape: 98.1739 - val_loss: 0.8838 - val_k_smape: 111.9819\n",
      "Epoch 35/60\n",
      "0s - loss: 0.8685 - k_smape: 98.5918 - val_loss: 0.8866 - val_k_smape: 111.3463\n",
      "Epoch 36/60\n",
      "0s - loss: 0.8766 - k_smape: 98.1790 - val_loss: 0.8817 - val_k_smape: 111.2201\n",
      "Epoch 37/60\n",
      "0s - loss: 0.8701 - k_smape: 98.9880 - val_loss: 0.8785 - val_k_smape: 111.8808\n",
      "Epoch 38/60\n",
      "0s - loss: 0.8737 - k_smape: 98.6993 - val_loss: 0.8801 - val_k_smape: 111.0717\n",
      "Epoch 39/60\n",
      "0s - loss: 0.8577 - k_smape: 96.4118 - val_loss: 0.8788 - val_k_smape: 110.3218\n",
      "Epoch 40/60\n",
      "0s - loss: 0.8549 - k_smape: 97.1572 - val_loss: 0.8772 - val_k_smape: 112.9415\n",
      "Epoch 41/60\n",
      "0s - loss: 0.8403 - k_smape: 97.3962 - val_loss: 0.8675 - val_k_smape: 109.2610\n",
      "Epoch 42/60\n",
      "0s - loss: 0.8539 - k_smape: 97.0819 - val_loss: 0.8861 - val_k_smape: 110.8761\n",
      "Epoch 43/60\n",
      "0s - loss: 0.8438 - k_smape: 95.8088 - val_loss: 0.8759 - val_k_smape: 111.2196\n",
      "Epoch 44/60\n",
      "0s - loss: 0.8412 - k_smape: 95.9401 - val_loss: 0.8782 - val_k_smape: 111.7614\n",
      "Epoch 45/60\n",
      "0s - loss: 0.8423 - k_smape: 95.6873 - val_loss: 0.8793 - val_k_smape: 111.5013\n",
      "Epoch 46/60\n",
      "0s - loss: 0.8358 - k_smape: 95.2034 - val_loss: 0.8700 - val_k_smape: 110.3530\n",
      "Epoch 47/60\n",
      "0s - loss: 0.8331 - k_smape: 96.5346 - val_loss: 0.8793 - val_k_smape: 110.4945\n",
      "Epoch 48/60\n",
      "0s - loss: 0.8220 - k_smape: 94.5462 - val_loss: 0.8642 - val_k_smape: 108.4891\n",
      "Epoch 49/60\n",
      "0s - loss: 0.8140 - k_smape: 92.2911 - val_loss: 0.8748 - val_k_smape: 109.5956\n",
      "Epoch 50/60\n",
      "0s - loss: 0.8175 - k_smape: 93.6078 - val_loss: 0.8691 - val_k_smape: 109.2722\n",
      "Epoch 51/60\n",
      "0s - loss: 0.8061 - k_smape: 92.4223 - val_loss: 0.8754 - val_k_smape: 109.2952\n",
      "Epoch 52/60\n",
      "0s - loss: 0.8075 - k_smape: 93.8275 - val_loss: 0.8766 - val_k_smape: 109.6243\n",
      "Epoch 53/60\n",
      "0s - loss: 0.7910 - k_smape: 92.7536 - val_loss: 0.8750 - val_k_smape: 109.2338\n",
      "Epoch 54/60\n",
      "0s - loss: 0.8117 - k_smape: 93.3548 - val_loss: 0.8718 - val_k_smape: 109.9335\n",
      "Epoch 55/60\n",
      "0s - loss: 0.7977 - k_smape: 92.1039 - val_loss: 0.8599 - val_k_smape: 107.2482\n",
      "Epoch 56/60\n",
      "0s - loss: 0.7998 - k_smape: 92.4162 - val_loss: 0.8719 - val_k_smape: 109.0188\n",
      "Epoch 57/60\n",
      "0s - loss: 0.8012 - k_smape: 93.1415 - val_loss: 0.8586 - val_k_smape: 107.3108\n",
      "Epoch 58/60\n",
      "0s - loss: 0.7911 - k_smape: 91.3988 - val_loss: 0.8578 - val_k_smape: 107.5180\n",
      "Epoch 59/60\n",
      "0s - loss: 0.7826 - k_smape: 90.8061 - val_loss: 0.8653 - val_k_smape: 107.8318\n",
      "Epoch 60/60\n",
      "0s - loss: 0.7740 - k_smape: 89.9827 - val_loss: 0.8608 - val_k_smape: 107.2265\n",
      "=== Run: 2 / 5 ===\n",
      "--- Group: 1 / 4 ---\n",
      "Train on 21930 samples, validate on 5483 samples\n",
      "--- Group: 2 / 4 ---\n",
      "Train on 32032 samples, validate on 8009 samples\n",
      "Epoch 1/40\n",
      "7s - loss: 1.0633 - k_smape: 156.8959 - val_loss: 1.0372 - val_k_smape: 151.5853\n",
      "Epoch 2/40\n",
      "7s - loss: 1.0418 - k_smape: 148.7636 - val_loss: 1.0285 - val_k_smape: 147.8378\n",
      "Epoch 3/40\n",
      "7s - loss: 1.0342 - k_smape: 146.4737 - val_loss: 1.0237 - val_k_smape: 145.8790\n",
      "Epoch 4/40\n",
      "7s - loss: 1.0299 - k_smape: 145.4310 - val_loss: 1.0221 - val_k_smape: 142.9412\n",
      "Epoch 5/40\n",
      "7s - loss: 1.0251 - k_smape: 144.4337 - val_loss: 1.0166 - val_k_smape: 143.8508\n",
      "Epoch 6/40\n",
      "7s - loss: 1.0210 - k_smape: 143.2306 - val_loss: 1.0145 - val_k_smape: 141.7464\n",
      "Epoch 7/40\n",
      "7s - loss: 1.0177 - k_smape: 142.6403 - val_loss: 1.0155 - val_k_smape: 144.7614\n",
      "Epoch 8/40\n",
      "7s - loss: 1.0158 - k_smape: 142.2165 - val_loss: 1.0119 - val_k_smape: 142.9212\n",
      "Epoch 9/40\n",
      "7s - loss: 1.0121 - k_smape: 141.5074 - val_loss: 1.0145 - val_k_smape: 140.1774\n",
      "Epoch 10/40\n",
      "7s - loss: 1.0092 - k_smape: 141.0969 - val_loss: 1.0120 - val_k_smape: 143.0316\n",
      "Epoch 11/40\n",
      "7s - loss: 1.0054 - k_smape: 140.4831 - val_loss: 1.0116 - val_k_smape: 142.8558\n",
      "Epoch 12/40\n",
      "7s - loss: 1.0039 - k_smape: 140.1637 - val_loss: 1.0097 - val_k_smape: 141.3255\n",
      "Epoch 13/40\n",
      "7s - loss: 1.0008 - k_smape: 139.7120 - val_loss: 1.0136 - val_k_smape: 144.1533\n",
      "Epoch 14/40\n",
      "7s - loss: 0.9994 - k_smape: 139.7351 - val_loss: 1.0112 - val_k_smape: 141.1655\n",
      "Epoch 15/40\n",
      "7s - loss: 0.9959 - k_smape: 139.2135 - val_loss: 1.0113 - val_k_smape: 143.5897\n",
      "Epoch 16/40\n",
      "7s - loss: 0.9928 - k_smape: 138.8424 - val_loss: 1.0102 - val_k_smape: 142.5675\n",
      "Epoch 17/40\n",
      "7s - loss: 0.9891 - k_smape: 138.3529 - val_loss: 1.0099 - val_k_smape: 142.3773\n",
      "Epoch 18/40\n",
      "7s - loss: 0.9889 - k_smape: 138.3179 - val_loss: 1.0132 - val_k_smape: 142.4412\n",
      "Epoch 19/40\n",
      "7s - loss: 0.9858 - k_smape: 138.1136 - val_loss: 1.0090 - val_k_smape: 142.8381\n",
      "Epoch 20/40\n",
      "7s - loss: 0.9836 - k_smape: 137.8401 - val_loss: 1.0109 - val_k_smape: 141.9130\n",
      "Epoch 21/40\n",
      "7s - loss: 0.9818 - k_smape: 137.6337 - val_loss: 1.0115 - val_k_smape: 140.6252\n",
      "Epoch 22/40\n",
      "7s - loss: 0.9777 - k_smape: 137.0648 - val_loss: 1.0090 - val_k_smape: 140.9331\n",
      "Epoch 23/40\n",
      "7s - loss: 0.9755 - k_smape: 137.1284 - val_loss: 1.0112 - val_k_smape: 141.7799\n",
      "Epoch 24/40\n",
      "7s - loss: 0.9737 - k_smape: 136.8374 - val_loss: 1.0117 - val_k_smape: 140.1679\n",
      "Epoch 25/40\n",
      "7s - loss: 0.9719 - k_smape: 136.7580 - val_loss: 1.0101 - val_k_smape: 139.8580\n",
      "Epoch 26/40\n",
      "7s - loss: 0.9698 - k_smape: 136.5091 - val_loss: 1.0125 - val_k_smape: 140.5516\n",
      "Epoch 27/40\n",
      "7s - loss: 0.9669 - k_smape: 136.4783 - val_loss: 1.0120 - val_k_smape: 140.0328\n",
      "Epoch 28/40\n",
      "7s - loss: 0.9662 - k_smape: 136.3654 - val_loss: 1.0109 - val_k_smape: 139.1177\n",
      "Epoch 29/40\n",
      "7s - loss: 0.9633 - k_smape: 135.9479 - val_loss: 1.0108 - val_k_smape: 141.4218\n",
      "Epoch 30/40\n",
      "7s - loss: 0.9633 - k_smape: 136.0801 - val_loss: 1.0088 - val_k_smape: 140.2959\n",
      "Epoch 31/40\n",
      "7s - loss: 0.9612 - k_smape: 135.7922 - val_loss: 1.0111 - val_k_smape: 141.7254\n",
      "Epoch 32/40\n",
      "7s - loss: 0.9599 - k_smape: 135.8666 - val_loss: 1.0140 - val_k_smape: 141.1503\n",
      "Epoch 33/40\n",
      "7s - loss: 0.9572 - k_smape: 135.5071 - val_loss: 1.0128 - val_k_smape: 140.6073\n",
      "Epoch 34/40\n"
     ]
    },
    {
     "name": "stdout",
     "output_type": "stream",
     "text": [
      "7s - loss: 0.9561 - k_smape: 135.4522 - val_loss: 1.0127 - val_k_smape: 139.5956\n",
      "Epoch 35/40\n",
      "7s - loss: 0.9541 - k_smape: 135.3089 - val_loss: 1.0101 - val_k_smape: 140.7823\n",
      "Epoch 36/40\n",
      "7s - loss: 0.9528 - k_smape: 135.3722 - val_loss: 1.0099 - val_k_smape: 139.8062\n",
      "Epoch 37/40\n",
      "7s - loss: 0.9507 - k_smape: 135.1830 - val_loss: 1.0129 - val_k_smape: 140.6150\n",
      "Epoch 38/40\n",
      "7s - loss: 0.9492 - k_smape: 134.7009 - val_loss: 1.0110 - val_k_smape: 140.3058\n",
      "Epoch 39/40\n",
      "7s - loss: 0.9499 - k_smape: 134.6235 - val_loss: 1.0094 - val_k_smape: 140.8899\n",
      "Epoch 40/40\n",
      "7s - loss: 0.9482 - k_smape: 134.6945 - val_loss: 1.0153 - val_k_smape: 141.3186\n",
      "--- Group: 3 / 4 ---\n",
      "Train on 61452 samples, validate on 15363 samples\n",
      "Epoch 1/40\n",
      "14s - loss: 1.0899 - k_smape: 128.7043 - val_loss: 1.0432 - val_k_smape: 121.9628\n",
      "Epoch 2/40\n",
      "13s - loss: 1.0513 - k_smape: 121.5327 - val_loss: 1.0317 - val_k_smape: 119.5025\n",
      "Epoch 3/40\n",
      "13s - loss: 1.0395 - k_smape: 119.6493 - val_loss: 1.0186 - val_k_smape: 115.3660\n",
      "Epoch 4/40\n",
      "13s - loss: 1.0316 - k_smape: 118.6315 - val_loss: 1.0129 - val_k_smape: 116.9404\n",
      "Epoch 5/40\n",
      "13s - loss: 1.0249 - k_smape: 117.8459 - val_loss: 1.0094 - val_k_smape: 114.4029\n",
      "Epoch 6/40\n",
      "13s - loss: 1.0193 - k_smape: 116.9368 - val_loss: 1.0042 - val_k_smape: 115.2195\n",
      "Epoch 7/40\n",
      "13s - loss: 1.0148 - k_smape: 116.4583 - val_loss: 0.9994 - val_k_smape: 112.9815\n",
      "Epoch 8/40\n",
      "13s - loss: 1.0107 - k_smape: 116.0192 - val_loss: 0.9984 - val_k_smape: 114.7840\n",
      "Epoch 9/40\n",
      "13s - loss: 1.0064 - k_smape: 115.4687 - val_loss: 0.9967 - val_k_smape: 114.2567\n",
      "Epoch 10/40\n",
      "13s - loss: 1.0039 - k_smape: 115.2501 - val_loss: 0.9922 - val_k_smape: 112.9479\n",
      "Epoch 11/40\n",
      "13s - loss: 1.0015 - k_smape: 114.8598 - val_loss: 0.9979 - val_k_smape: 114.8001\n",
      "Epoch 12/40\n",
      "13s - loss: 0.9979 - k_smape: 114.4059 - val_loss: 0.9913 - val_k_smape: 113.5972\n",
      "Epoch 13/40\n",
      "13s - loss: 0.9943 - k_smape: 114.1097 - val_loss: 0.9893 - val_k_smape: 113.0641\n",
      "Epoch 14/40\n",
      "13s - loss: 0.9919 - k_smape: 113.9051 - val_loss: 0.9876 - val_k_smape: 113.8932\n",
      "Epoch 15/40\n",
      "13s - loss: 0.9886 - k_smape: 113.5751 - val_loss: 0.9866 - val_k_smape: 113.5547\n",
      "Epoch 16/40\n",
      "13s - loss: 0.9850 - k_smape: 113.1243 - val_loss: 0.9926 - val_k_smape: 116.1505\n",
      "Epoch 17/40\n",
      "13s - loss: 0.9828 - k_smape: 112.9868 - val_loss: 0.9841 - val_k_smape: 113.9323\n",
      "Epoch 18/40\n",
      "13s - loss: 0.9815 - k_smape: 112.9692 - val_loss: 0.9834 - val_k_smape: 111.6488\n",
      "Epoch 19/40\n",
      "13s - loss: 0.9777 - k_smape: 112.5762 - val_loss: 0.9828 - val_k_smape: 112.0472\n",
      "Epoch 20/40\n",
      "13s - loss: 0.9752 - k_smape: 112.2732 - val_loss: 0.9837 - val_k_smape: 112.8277\n",
      "Epoch 21/40\n",
      "13s - loss: 0.9731 - k_smape: 112.1039 - val_loss: 0.9822 - val_k_smape: 111.7693\n",
      "Epoch 22/40\n",
      "13s - loss: 0.9712 - k_smape: 112.0330 - val_loss: 0.9817 - val_k_smape: 112.4900\n",
      "Epoch 23/40\n",
      "13s - loss: 0.9689 - k_smape: 111.8562 - val_loss: 0.9776 - val_k_smape: 110.2083\n",
      "Epoch 24/40\n",
      "13s - loss: 0.9666 - k_smape: 111.6139 - val_loss: 0.9822 - val_k_smape: 112.9495\n",
      "Epoch 25/40\n",
      "13s - loss: 0.9643 - k_smape: 111.4872 - val_loss: 0.9817 - val_k_smape: 114.6449\n",
      "Epoch 26/40\n",
      "13s - loss: 0.9629 - k_smape: 111.2389 - val_loss: 0.9817 - val_k_smape: 113.6021\n",
      "Epoch 27/40\n",
      "13s - loss: 0.9609 - k_smape: 111.1197 - val_loss: 0.9757 - val_k_smape: 111.4572\n",
      "Epoch 28/40\n",
      "13s - loss: 0.9579 - k_smape: 110.8186 - val_loss: 0.9809 - val_k_smape: 113.1158\n",
      "Epoch 29/40\n",
      "13s - loss: 0.9571 - k_smape: 110.7714 - val_loss: 0.9761 - val_k_smape: 111.6908\n",
      "Epoch 30/40\n",
      "13s - loss: 0.9556 - k_smape: 110.6669 - val_loss: 0.9759 - val_k_smape: 112.5402\n",
      "Epoch 31/40\n",
      "13s - loss: 0.9525 - k_smape: 110.4471 - val_loss: 0.9778 - val_k_smape: 112.1106\n",
      "Epoch 32/40\n",
      "13s - loss: 0.9520 - k_smape: 110.3583 - val_loss: 0.9730 - val_k_smape: 111.2739\n",
      "Epoch 33/40\n",
      "13s - loss: 0.9509 - k_smape: 110.1706 - val_loss: 0.9754 - val_k_smape: 110.9214\n",
      "Epoch 34/40\n",
      "13s - loss: 0.9484 - k_smape: 109.9088 - val_loss: 0.9745 - val_k_smape: 112.6161\n",
      "Epoch 35/40\n",
      "13s - loss: 0.9466 - k_smape: 109.9670 - val_loss: 0.9725 - val_k_smape: 111.2158\n",
      "Epoch 36/40\n",
      "13s - loss: 0.9443 - k_smape: 109.8655 - val_loss: 0.9740 - val_k_smape: 111.7130\n",
      "Epoch 37/40\n",
      "13s - loss: 0.9433 - k_smape: 109.7972 - val_loss: 0.9784 - val_k_smape: 112.2457\n",
      "Epoch 38/40\n",
      "13s - loss: 0.9422 - k_smape: 109.7557 - val_loss: 0.9742 - val_k_smape: 111.2294\n",
      "Epoch 39/40\n",
      "13s - loss: 0.9409 - k_smape: 109.5764 - val_loss: 0.9725 - val_k_smape: 111.2597\n",
      "Epoch 40/40\n",
      "13s - loss: 0.9389 - k_smape: 109.4209 - val_loss: 0.9719 - val_k_smape: 112.2007\n",
      "--- Group: 4 / 4 ---\n",
      "Train on 635 samples, validate on 159 samples\n",
      "Epoch 1/60\n",
      "0s - loss: 1.2507 - k_smape: 174.8593 - val_loss: 1.3156 - val_k_smape: 178.8342\n",
      "Epoch 2/60\n",
      "0s - loss: 1.2380 - k_smape: 168.4766 - val_loss: 1.3022 - val_k_smape: 170.9905\n",
      "Epoch 3/60\n",
      "0s - loss: 1.2243 - k_smape: 159.5484 - val_loss: 1.2881 - val_k_smape: 165.3724\n",
      "Epoch 4/60\n",
      "0s - loss: 1.2098 - k_smape: 155.7985 - val_loss: 1.2742 - val_k_smape: 160.9801\n",
      "Epoch 5/60\n",
      "0s - loss: 1.1900 - k_smape: 149.4925 - val_loss: 1.2508 - val_k_smape: 152.3103\n",
      "Epoch 6/60\n",
      "0s - loss: 1.1724 - k_smape: 142.8311 - val_loss: 1.2327 - val_k_smape: 147.5432\n",
      "Epoch 7/60\n",
      "0s - loss: 1.1543 - k_smape: 139.9323 - val_loss: 1.2200 - val_k_smape: 145.4142\n",
      "Epoch 8/60\n",
      "0s - loss: 1.1315 - k_smape: 135.7395 - val_loss: 1.1987 - val_k_smape: 139.4527\n",
      "Epoch 9/60\n",
      "0s - loss: 1.1102 - k_smape: 132.5041 - val_loss: 1.1857 - val_k_smape: 136.7296\n",
      "Epoch 10/60\n",
      "0s - loss: 1.0964 - k_smape: 128.1274 - val_loss: 1.1799 - val_k_smape: 135.7378\n",
      "Epoch 11/60\n",
      "0s - loss: 1.0848 - k_smape: 129.1732 - val_loss: 1.1716 - val_k_smape: 133.2520\n",
      "Epoch 12/60\n",
      "0s - loss: 1.0608 - k_smape: 122.0781 - val_loss: 1.1565 - val_k_smape: 129.4219\n",
      "Epoch 13/60\n",
      "0s - loss: 1.0391 - k_smape: 121.1830 - val_loss: 1.1458 - val_k_smape: 128.0816\n",
      "Epoch 14/60\n",
      "0s - loss: 1.0219 - k_smape: 117.3801 - val_loss: 1.1262 - val_k_smape: 124.2475\n",
      "Epoch 15/60\n",
      "0s - loss: 1.0158 - k_smape: 116.9563 - val_loss: 1.1384 - val_k_smape: 127.4443\n",
      "Epoch 16/60\n",
      "0s - loss: 0.9957 - k_smape: 113.6575 - val_loss: 1.1120 - val_k_smape: 122.6023\n",
      "Epoch 17/60\n",
      "0s - loss: 0.9838 - k_smape: 113.1790 - val_loss: 1.1134 - val_k_smape: 122.9669\n",
      "Epoch 18/60\n",
      "0s - loss: 0.9745 - k_smape: 110.6152 - val_loss: 1.1002 - val_k_smape: 121.4044\n",
      "Epoch 19/60\n",
      "0s - loss: 0.9593 - k_smape: 111.1418 - val_loss: 1.0838 - val_k_smape: 119.1581\n",
      "Epoch 20/60\n",
      "0s - loss: 0.9477 - k_smape: 108.7206 - val_loss: 1.0862 - val_k_smape: 119.0481\n",
      "Epoch 21/60\n",
      "0s - loss: 0.9448 - k_smape: 109.0767 - val_loss: 1.0834 - val_k_smape: 117.3049\n",
      "Epoch 22/60\n",
      "0s - loss: 0.9320 - k_smape: 106.6851 - val_loss: 1.0942 - val_k_smape: 120.4021\n",
      "Epoch 23/60\n",
      "0s - loss: 0.9367 - k_smape: 107.7375 - val_loss: 1.0744 - val_k_smape: 115.5914\n",
      "Epoch 24/60\n",
      "0s - loss: 0.9260 - k_smape: 104.4053 - val_loss: 1.0725 - val_k_smape: 116.0230\n",
      "Epoch 25/60\n",
      "0s - loss: 0.9119 - k_smape: 105.7866 - val_loss: 1.0794 - val_k_smape: 118.6017\n",
      "Epoch 26/60\n",
      "0s - loss: 0.8966 - k_smape: 102.3994 - val_loss: 1.0509 - val_k_smape: 112.7200\n",
      "Epoch 27/60\n",
      "0s - loss: 0.8904 - k_smape: 102.8631 - val_loss: 1.0593 - val_k_smape: 113.2598\n",
      "Epoch 28/60\n",
      "0s - loss: 0.8946 - k_smape: 102.4790 - val_loss: 1.0759 - val_k_smape: 116.6228\n",
      "Epoch 29/60\n",
      "0s - loss: 0.8870 - k_smape: 102.4715 - val_loss: 1.0653 - val_k_smape: 115.1705\n",
      "Epoch 30/60\n",
      "0s - loss: 0.8861 - k_smape: 102.1996 - val_loss: 1.0623 - val_k_smape: 114.1592\n",
      "Epoch 31/60\n",
      "0s - loss: 0.8632 - k_smape: 99.5138 - val_loss: 1.0431 - val_k_smape: 111.0520\n",
      "Epoch 32/60\n",
      "0s - loss: 0.8662 - k_smape: 99.5918 - val_loss: 1.0565 - val_k_smape: 114.5314\n",
      "Epoch 33/60\n",
      "0s - loss: 0.8685 - k_smape: 100.5757 - val_loss: 1.0504 - val_k_smape: 111.9245\n",
      "Epoch 34/60\n",
      "0s - loss: 0.8631 - k_smape: 100.2019 - val_loss: 1.0618 - val_k_smape: 114.7622\n",
      "Epoch 35/60\n",
      "0s - loss: 0.8517 - k_smape: 99.3983 - val_loss: 1.0427 - val_k_smape: 111.8811\n",
      "Epoch 36/60\n",
      "0s - loss: 0.8548 - k_smape: 98.6938 - val_loss: 1.0457 - val_k_smape: 111.6586\n",
      "Epoch 37/60\n",
      "0s - loss: 0.8458 - k_smape: 99.1637 - val_loss: 1.0520 - val_k_smape: 113.3271\n",
      "Epoch 38/60\n",
      "0s - loss: 0.8481 - k_smape: 97.9595 - val_loss: 1.0365 - val_k_smape: 110.9586\n",
      "Epoch 39/60\n",
      "0s - loss: 0.8378 - k_smape: 98.2924 - val_loss: 1.0439 - val_k_smape: 111.9068\n",
      "Epoch 40/60\n",
      "0s - loss: 0.8385 - k_smape: 96.8073 - val_loss: 1.0511 - val_k_smape: 112.2666\n",
      "Epoch 41/60\n"
     ]
    },
    {
     "name": "stdout",
     "output_type": "stream",
     "text": [
      "0s - loss: 0.8187 - k_smape: 95.3754 - val_loss: 1.0340 - val_k_smape: 111.0162\n",
      "Epoch 42/60\n",
      "0s - loss: 0.8322 - k_smape: 97.6277 - val_loss: 1.0355 - val_k_smape: 110.8952\n",
      "Epoch 43/60\n",
      "0s - loss: 0.8239 - k_smape: 96.7134 - val_loss: 1.0398 - val_k_smape: 110.8153\n",
      "Epoch 44/60\n",
      "0s - loss: 0.8147 - k_smape: 95.2384 - val_loss: 1.0409 - val_k_smape: 111.1483\n",
      "Epoch 45/60\n",
      "0s - loss: 0.8182 - k_smape: 96.6090 - val_loss: 1.0393 - val_k_smape: 111.5105\n",
      "Epoch 46/60\n",
      "0s - loss: 0.8075 - k_smape: 94.1120 - val_loss: 1.0345 - val_k_smape: 110.7909\n",
      "Epoch 47/60\n",
      "0s - loss: 0.8114 - k_smape: 95.4174 - val_loss: 1.0372 - val_k_smape: 111.0750\n",
      "Epoch 48/60\n",
      "0s - loss: 0.8023 - k_smape: 93.8509 - val_loss: 1.0245 - val_k_smape: 109.2201\n",
      "Epoch 49/60\n",
      "0s - loss: 0.8056 - k_smape: 94.8539 - val_loss: 1.0428 - val_k_smape: 112.3302\n",
      "Epoch 50/60\n",
      "0s - loss: 0.7996 - k_smape: 94.9753 - val_loss: 1.0285 - val_k_smape: 110.4772\n",
      "Epoch 51/60\n",
      "0s - loss: 0.7969 - k_smape: 94.5895 - val_loss: 1.0404 - val_k_smape: 110.7606\n",
      "Epoch 52/60\n",
      "0s - loss: 0.7962 - k_smape: 93.6641 - val_loss: 1.0283 - val_k_smape: 110.6987\n",
      "Epoch 53/60\n",
      "0s - loss: 0.7960 - k_smape: 93.7667 - val_loss: 1.0191 - val_k_smape: 109.5911\n",
      "Epoch 54/60\n",
      "0s - loss: 0.7856 - k_smape: 92.7003 - val_loss: 1.0214 - val_k_smape: 108.9386\n",
      "Epoch 55/60\n",
      "0s - loss: 0.7963 - k_smape: 92.9536 - val_loss: 1.0276 - val_k_smape: 108.7958\n",
      "Epoch 56/60\n",
      "0s - loss: 0.7801 - k_smape: 93.1388 - val_loss: 1.0174 - val_k_smape: 109.1278\n",
      "Epoch 57/60\n",
      "0s - loss: 0.7832 - k_smape: 92.7001 - val_loss: 1.0255 - val_k_smape: 108.9213\n",
      "Epoch 58/60\n",
      "0s - loss: 0.7743 - k_smape: 91.9689 - val_loss: 1.0267 - val_k_smape: 109.4836\n",
      "Epoch 59/60\n",
      "0s - loss: 0.7835 - k_smape: 93.0332 - val_loss: 1.0063 - val_k_smape: 106.0103\n",
      "Epoch 60/60\n",
      "0s - loss: 0.7790 - k_smape: 91.3951 - val_loss: 1.0321 - val_k_smape: 109.9643\n",
      "=== Run: 3 / 5 ===\n",
      "--- Group: 1 / 4 ---\n",
      "Train on 21930 samples, validate on 5483 samples\n",
      "--- Group: 2 / 4 ---\n",
      "Train on 32032 samples, validate on 8009 samples\n",
      "Epoch 1/40\n",
      "7s - loss: 1.0635 - k_smape: 156.1555 - val_loss: 1.0356 - val_k_smape: 153.5540\n",
      "Epoch 2/40\n",
      "7s - loss: 1.0421 - k_smape: 148.3783 - val_loss: 1.0199 - val_k_smape: 146.6167\n",
      "Epoch 3/40\n",
      "7s - loss: 1.0341 - k_smape: 146.4208 - val_loss: 1.0196 - val_k_smape: 146.3442\n",
      "Epoch 4/40\n",
      "7s - loss: 1.0289 - k_smape: 144.8739 - val_loss: 1.0191 - val_k_smape: 147.0656\n",
      "Epoch 5/40\n",
      "7s - loss: 1.0257 - k_smape: 144.2239 - val_loss: 1.0124 - val_k_smape: 144.3173\n",
      "Epoch 6/40\n",
      "7s - loss: 1.0204 - k_smape: 143.2474 - val_loss: 1.0133 - val_k_smape: 145.5477\n",
      "Epoch 7/40\n",
      "7s - loss: 1.0179 - k_smape: 142.6291 - val_loss: 1.0075 - val_k_smape: 141.5799\n",
      "Epoch 8/40\n",
      "7s - loss: 1.0148 - k_smape: 142.0720 - val_loss: 1.0077 - val_k_smape: 142.9821\n",
      "Epoch 9/40\n",
      "7s - loss: 1.0113 - k_smape: 141.4756 - val_loss: 1.0068 - val_k_smape: 140.4785\n",
      "Epoch 10/40\n",
      "7s - loss: 1.0087 - k_smape: 140.9689 - val_loss: 1.0101 - val_k_smape: 144.3670\n",
      "Epoch 11/40\n",
      "7s - loss: 1.0064 - k_smape: 140.6306 - val_loss: 1.0040 - val_k_smape: 140.2424\n",
      "Epoch 12/40\n",
      "7s - loss: 1.0024 - k_smape: 140.1802 - val_loss: 1.0056 - val_k_smape: 142.2167\n",
      "Epoch 13/40\n",
      "7s - loss: 0.9993 - k_smape: 139.6542 - val_loss: 1.0071 - val_k_smape: 142.6188\n",
      "Epoch 14/40\n",
      "7s - loss: 0.9970 - k_smape: 139.3392 - val_loss: 1.0070 - val_k_smape: 143.1149\n",
      "Epoch 15/40\n",
      "7s - loss: 0.9940 - k_smape: 139.0126 - val_loss: 1.0077 - val_k_smape: 141.9709\n",
      "Epoch 16/40\n",
      "7s - loss: 0.9927 - k_smape: 139.1236 - val_loss: 1.0092 - val_k_smape: 141.6437\n",
      "Epoch 17/40\n",
      "7s - loss: 0.9886 - k_smape: 138.5240 - val_loss: 1.0086 - val_k_smape: 142.7441\n",
      "Epoch 18/40\n",
      "7s - loss: 0.9865 - k_smape: 138.3585 - val_loss: 1.0052 - val_k_smape: 142.1350\n",
      "Epoch 19/40\n",
      "7s - loss: 0.9840 - k_smape: 137.9695 - val_loss: 1.0076 - val_k_smape: 144.2063\n",
      "Epoch 20/40\n",
      "7s - loss: 0.9809 - k_smape: 138.0197 - val_loss: 1.0073 - val_k_smape: 141.9454\n",
      "Epoch 21/40\n",
      "7s - loss: 0.9798 - k_smape: 137.8160 - val_loss: 1.0067 - val_k_smape: 142.1712\n",
      "Epoch 22/40\n",
      "7s - loss: 0.9773 - k_smape: 137.3738 - val_loss: 1.0092 - val_k_smape: 141.3022\n",
      "Epoch 23/40\n",
      "7s - loss: 0.9753 - k_smape: 137.2818 - val_loss: 1.0058 - val_k_smape: 141.2123\n",
      "Epoch 24/40\n",
      "7s - loss: 0.9731 - k_smape: 137.2180 - val_loss: 1.0098 - val_k_smape: 143.2813\n",
      "Epoch 25/40\n",
      "7s - loss: 0.9711 - k_smape: 136.9762 - val_loss: 1.0073 - val_k_smape: 143.2669\n",
      "Epoch 26/40\n",
      "7s - loss: 0.9684 - k_smape: 137.0595 - val_loss: 1.0110 - val_k_smape: 143.2255\n",
      "Epoch 27/40\n",
      "7s - loss: 0.9681 - k_smape: 136.8615 - val_loss: 1.0075 - val_k_smape: 142.5293\n",
      "Epoch 28/40\n",
      "7s - loss: 0.9655 - k_smape: 136.7117 - val_loss: 1.0094 - val_k_smape: 141.3178\n",
      "Epoch 29/40\n",
      "7s - loss: 0.9639 - k_smape: 136.6542 - val_loss: 1.0093 - val_k_smape: 140.8610\n",
      "Epoch 30/40\n",
      "7s - loss: 0.9620 - k_smape: 136.4343 - val_loss: 1.0083 - val_k_smape: 141.7989\n",
      "Epoch 31/40\n",
      "7s - loss: 0.9604 - k_smape: 136.3968 - val_loss: 1.0100 - val_k_smape: 143.7626\n",
      "Epoch 32/40\n",
      "7s - loss: 0.9597 - k_smape: 136.0675 - val_loss: 1.0086 - val_k_smape: 141.5646\n",
      "Epoch 33/40\n",
      "7s - loss: 0.9572 - k_smape: 135.5891 - val_loss: 1.0063 - val_k_smape: 141.5016\n",
      "Epoch 34/40\n",
      "7s - loss: 0.9555 - k_smape: 135.6432 - val_loss: 1.0068 - val_k_smape: 141.6356\n",
      "Epoch 35/40\n",
      "7s - loss: 0.9549 - k_smape: 135.6713 - val_loss: 1.0083 - val_k_smape: 140.7601\n",
      "Epoch 36/40\n",
      "7s - loss: 0.9546 - k_smape: 135.3575 - val_loss: 1.0085 - val_k_smape: 142.6125\n",
      "Epoch 37/40\n",
      "7s - loss: 0.9503 - k_smape: 135.2656 - val_loss: 1.0110 - val_k_smape: 141.2591\n",
      "Epoch 38/40\n",
      "7s - loss: 0.9508 - k_smape: 135.0527 - val_loss: 1.0096 - val_k_smape: 141.2481\n",
      "Epoch 39/40\n",
      "7s - loss: 0.9490 - k_smape: 134.9703 - val_loss: 1.0118 - val_k_smape: 141.4014\n",
      "Epoch 40/40\n",
      "7s - loss: 0.9462 - k_smape: 134.9583 - val_loss: 1.0076 - val_k_smape: 141.1628\n",
      "--- Group: 3 / 4 ---\n",
      "Train on 61452 samples, validate on 15363 samples\n",
      "Epoch 1/40\n",
      "14s - loss: 1.0896 - k_smape: 128.1436 - val_loss: 1.0302 - val_k_smape: 121.1361\n",
      "Epoch 2/40\n",
      "13s - loss: 1.0490 - k_smape: 120.7866 - val_loss: 1.0230 - val_k_smape: 120.8424\n",
      "Epoch 3/40\n",
      "13s - loss: 1.0356 - k_smape: 118.9038 - val_loss: 1.0061 - val_k_smape: 117.5768\n",
      "Epoch 4/40\n",
      "13s - loss: 1.0266 - k_smape: 117.6095 - val_loss: 0.9990 - val_k_smape: 114.2477\n",
      "Epoch 5/40\n",
      "13s - loss: 1.0194 - k_smape: 116.7521 - val_loss: 0.9926 - val_k_smape: 113.7756\n",
      "Epoch 6/40\n",
      "13s - loss: 1.0139 - k_smape: 116.0450 - val_loss: 0.9921 - val_k_smape: 114.7533\n",
      "Epoch 7/40\n",
      "13s - loss: 1.0086 - k_smape: 115.2812 - val_loss: 0.9877 - val_k_smape: 113.7828\n",
      "Epoch 8/40\n",
      "13s - loss: 1.0045 - k_smape: 114.9285 - val_loss: 0.9857 - val_k_smape: 113.4241\n",
      "Epoch 9/40\n",
      "13s - loss: 0.9994 - k_smape: 114.3102 - val_loss: 0.9820 - val_k_smape: 112.9828\n",
      "Epoch 10/40\n",
      "13s - loss: 0.9956 - k_smape: 113.9904 - val_loss: 0.9799 - val_k_smape: 112.5413\n",
      "Epoch 11/40\n",
      "13s - loss: 0.9919 - k_smape: 113.7084 - val_loss: 0.9840 - val_k_smape: 112.4948\n",
      "Epoch 12/40\n",
      "13s - loss: 0.9880 - k_smape: 113.2382 - val_loss: 0.9754 - val_k_smape: 112.2179\n",
      "Epoch 13/40\n",
      "13s - loss: 0.9837 - k_smape: 112.7861 - val_loss: 0.9733 - val_k_smape: 112.7418\n",
      "Epoch 14/40\n",
      "13s - loss: 0.9799 - k_smape: 112.4842 - val_loss: 0.9772 - val_k_smape: 112.0424\n",
      "Epoch 15/40\n",
      "13s - loss: 0.9792 - k_smape: 112.3264 - val_loss: 0.9761 - val_k_smape: 112.7951\n",
      "Epoch 16/40\n",
      "13s - loss: 0.9748 - k_smape: 111.9661 - val_loss: 0.9780 - val_k_smape: 112.5614\n",
      "Epoch 17/40\n",
      "13s - loss: 0.9706 - k_smape: 111.5334 - val_loss: 0.9811 - val_k_smape: 113.5639\n",
      "Epoch 18/40\n",
      "13s - loss: 0.9669 - k_smape: 111.1999 - val_loss: 0.9691 - val_k_smape: 111.9733\n",
      "Epoch 19/40\n",
      "13s - loss: 0.9655 - k_smape: 111.1403 - val_loss: 0.9676 - val_k_smape: 111.2020\n",
      "Epoch 20/40\n",
      "13s - loss: 0.9628 - k_smape: 110.9335 - val_loss: 0.9698 - val_k_smape: 112.9286\n",
      "Epoch 21/40\n",
      "13s - loss: 0.9610 - k_smape: 110.8169 - val_loss: 0.9701 - val_k_smape: 112.2422\n",
      "Epoch 22/40\n",
      "13s - loss: 0.9579 - k_smape: 110.4227 - val_loss: 0.9702 - val_k_smape: 111.7950\n",
      "Epoch 23/40\n",
      "13s - loss: 0.9551 - k_smape: 110.2489 - val_loss: 0.9667 - val_k_smape: 111.5907\n",
      "Epoch 24/40\n",
      "13s - loss: 0.9517 - k_smape: 110.0675 - val_loss: 0.9674 - val_k_smape: 111.0792\n",
      "Epoch 25/40\n",
      "13s - loss: 0.9512 - k_smape: 110.0645 - val_loss: 0.9701 - val_k_smape: 113.8234\n",
      "Epoch 26/40\n",
      "13s - loss: 0.9475 - k_smape: 109.6339 - val_loss: 0.9660 - val_k_smape: 111.6492\n",
      "Epoch 27/40\n"
     ]
    },
    {
     "name": "stdout",
     "output_type": "stream",
     "text": [
      "13s - loss: 0.9460 - k_smape: 109.6420 - val_loss: 0.9663 - val_k_smape: 110.8395\n",
      "Epoch 28/40\n",
      "13s - loss: 0.9447 - k_smape: 109.4746 - val_loss: 0.9709 - val_k_smape: 113.8192\n",
      "Epoch 29/40\n",
      "13s - loss: 0.9419 - k_smape: 109.3429 - val_loss: 0.9643 - val_k_smape: 111.4181\n",
      "Epoch 30/40\n",
      "13s - loss: 0.9395 - k_smape: 109.0520 - val_loss: 0.9607 - val_k_smape: 111.2516\n",
      "Epoch 31/40\n",
      "13s - loss: 0.9375 - k_smape: 109.0189 - val_loss: 0.9626 - val_k_smape: 110.9761\n",
      "Epoch 32/40\n",
      "13s - loss: 0.9354 - k_smape: 108.6402 - val_loss: 0.9623 - val_k_smape: 110.2606\n",
      "Epoch 33/40\n",
      "13s - loss: 0.9348 - k_smape: 108.6569 - val_loss: 0.9619 - val_k_smape: 110.9266\n",
      "Epoch 34/40\n",
      "13s - loss: 0.9346 - k_smape: 108.6273 - val_loss: 0.9618 - val_k_smape: 110.6752\n",
      "Epoch 35/40\n",
      "13s - loss: 0.9319 - k_smape: 108.4298 - val_loss: 0.9638 - val_k_smape: 111.4079\n",
      "Epoch 36/40\n",
      "13s - loss: 0.9298 - k_smape: 108.3420 - val_loss: 0.9637 - val_k_smape: 111.5577\n",
      "Epoch 37/40\n",
      "13s - loss: 0.9291 - k_smape: 108.2707 - val_loss: 0.9618 - val_k_smape: 110.2911\n",
      "Epoch 38/40\n",
      "13s - loss: 0.9267 - k_smape: 107.9566 - val_loss: 0.9577 - val_k_smape: 110.9452\n",
      "Epoch 39/40\n",
      "13s - loss: 0.9261 - k_smape: 108.0023 - val_loss: 0.9613 - val_k_smape: 110.6468\n",
      "Epoch 40/40\n",
      "13s - loss: 0.9240 - k_smape: 107.8333 - val_loss: 0.9620 - val_k_smape: 111.5175\n",
      "--- Group: 4 / 4 ---\n",
      "Train on 635 samples, validate on 159 samples\n",
      "Epoch 1/60\n",
      "0s - loss: 1.2752 - k_smape: 170.0642 - val_loss: 1.1878 - val_k_smape: 171.3968\n",
      "Epoch 2/60\n",
      "0s - loss: 1.2585 - k_smape: 162.6977 - val_loss: 1.1725 - val_k_smape: 165.3685\n",
      "Epoch 3/60\n",
      "0s - loss: 1.2469 - k_smape: 156.6599 - val_loss: 1.1565 - val_k_smape: 158.7031\n",
      "Epoch 4/60\n",
      "0s - loss: 1.2268 - k_smape: 151.7629 - val_loss: 1.1390 - val_k_smape: 154.4130\n",
      "Epoch 5/60\n",
      "0s - loss: 1.2105 - k_smape: 146.3607 - val_loss: 1.1176 - val_k_smape: 147.3924\n",
      "Epoch 6/60\n",
      "0s - loss: 1.1919 - k_smape: 142.4035 - val_loss: 1.0994 - val_k_smape: 143.2836\n",
      "Epoch 7/60\n",
      "0s - loss: 1.1617 - k_smape: 136.2383 - val_loss: 1.0745 - val_k_smape: 136.7084\n",
      "Epoch 8/60\n",
      "0s - loss: 1.1457 - k_smape: 131.9790 - val_loss: 1.0587 - val_k_smape: 134.2305\n",
      "Epoch 9/60\n",
      "0s - loss: 1.1294 - k_smape: 129.1917 - val_loss: 1.0411 - val_k_smape: 130.5429\n",
      "Epoch 10/60\n",
      "0s - loss: 1.1156 - k_smape: 128.5855 - val_loss: 1.0323 - val_k_smape: 130.5458\n",
      "Epoch 11/60\n",
      "0s - loss: 1.0897 - k_smape: 124.1860 - val_loss: 1.0075 - val_k_smape: 125.3768\n",
      "Epoch 12/60\n",
      "0s - loss: 1.0726 - k_smape: 121.2738 - val_loss: 0.9969 - val_k_smape: 123.2517\n",
      "Epoch 13/60\n",
      "0s - loss: 1.0512 - k_smape: 117.9858 - val_loss: 0.9996 - val_k_smape: 126.3374\n",
      "Epoch 14/60\n",
      "0s - loss: 1.0414 - k_smape: 116.8772 - val_loss: 0.9704 - val_k_smape: 118.5954\n",
      "Epoch 15/60\n",
      "0s - loss: 1.0299 - k_smape: 115.2810 - val_loss: 0.9724 - val_k_smape: 120.3341\n",
      "Epoch 16/60\n",
      "0s - loss: 1.0067 - k_smape: 112.2850 - val_loss: 0.9631 - val_k_smape: 119.1171\n",
      "Epoch 17/60\n",
      "0s - loss: 0.9969 - k_smape: 110.7409 - val_loss: 0.9510 - val_k_smape: 116.9875\n",
      "Epoch 18/60\n",
      "0s - loss: 0.9868 - k_smape: 110.2387 - val_loss: 0.9484 - val_k_smape: 115.4352\n",
      "Epoch 19/60\n",
      "0s - loss: 0.9776 - k_smape: 110.1874 - val_loss: 0.9410 - val_k_smape: 114.0479\n",
      "Epoch 20/60\n",
      "0s - loss: 0.9631 - k_smape: 106.7566 - val_loss: 0.9401 - val_k_smape: 116.0376\n",
      "Epoch 21/60\n",
      "0s - loss: 0.9568 - k_smape: 107.8847 - val_loss: 0.9270 - val_k_smape: 113.0956\n",
      "Epoch 22/60\n",
      "0s - loss: 0.9437 - k_smape: 105.7472 - val_loss: 0.9315 - val_k_smape: 113.4104\n",
      "Epoch 23/60\n",
      "0s - loss: 0.9324 - k_smape: 104.9973 - val_loss: 0.9260 - val_k_smape: 112.3904\n",
      "Epoch 24/60\n",
      "0s - loss: 0.9275 - k_smape: 104.8154 - val_loss: 0.9228 - val_k_smape: 112.1914\n",
      "Epoch 25/60\n",
      "0s - loss: 0.9131 - k_smape: 102.1870 - val_loss: 0.9097 - val_k_smape: 109.8995\n",
      "Epoch 26/60\n",
      "0s - loss: 0.9187 - k_smape: 103.0447 - val_loss: 0.9146 - val_k_smape: 108.9276\n",
      "Epoch 27/60\n",
      "0s - loss: 0.8960 - k_smape: 100.8802 - val_loss: 0.9071 - val_k_smape: 110.4471\n",
      "Epoch 28/60\n",
      "0s - loss: 0.8998 - k_smape: 102.4275 - val_loss: 0.9118 - val_k_smape: 108.7798\n",
      "Epoch 29/60\n",
      "0s - loss: 0.8887 - k_smape: 101.0693 - val_loss: 0.8996 - val_k_smape: 108.5252\n",
      "Epoch 30/60\n",
      "0s - loss: 0.8745 - k_smape: 99.3135 - val_loss: 0.8958 - val_k_smape: 107.7490\n",
      "Epoch 31/60\n",
      "0s - loss: 0.8941 - k_smape: 100.6556 - val_loss: 0.9008 - val_k_smape: 107.6732\n",
      "Epoch 32/60\n",
      "0s - loss: 0.8702 - k_smape: 98.7388 - val_loss: 0.8974 - val_k_smape: 106.2278\n",
      "Epoch 33/60\n",
      "0s - loss: 0.8757 - k_smape: 99.1391 - val_loss: 0.9002 - val_k_smape: 106.6662\n",
      "Epoch 34/60\n",
      "0s - loss: 0.8656 - k_smape: 97.3801 - val_loss: 0.9003 - val_k_smape: 107.6934\n",
      "Epoch 35/60\n",
      "0s - loss: 0.8584 - k_smape: 98.0272 - val_loss: 0.8954 - val_k_smape: 108.0319\n",
      "Epoch 36/60\n",
      "0s - loss: 0.8489 - k_smape: 96.2064 - val_loss: 0.8948 - val_k_smape: 105.7057\n",
      "Epoch 37/60\n",
      "0s - loss: 0.8466 - k_smape: 96.7758 - val_loss: 0.8950 - val_k_smape: 107.3328\n",
      "Epoch 38/60\n",
      "0s - loss: 0.8539 - k_smape: 96.9811 - val_loss: 0.9068 - val_k_smape: 106.8274\n",
      "Epoch 39/60\n",
      "0s - loss: 0.8464 - k_smape: 97.6259 - val_loss: 0.8927 - val_k_smape: 106.9917\n",
      "Epoch 40/60\n",
      "0s - loss: 0.8544 - k_smape: 95.7804 - val_loss: 0.9025 - val_k_smape: 107.2024\n",
      "Epoch 41/60\n",
      "0s - loss: 0.8426 - k_smape: 98.0733 - val_loss: 0.9141 - val_k_smape: 108.1145\n",
      "Epoch 42/60\n",
      "0s - loss: 0.8372 - k_smape: 96.0652 - val_loss: 0.9130 - val_k_smape: 107.4912\n",
      "Epoch 43/60\n",
      "0s - loss: 0.8250 - k_smape: 95.3712 - val_loss: 0.9016 - val_k_smape: 106.7641\n",
      "Epoch 44/60\n",
      "0s - loss: 0.8215 - k_smape: 95.4034 - val_loss: 0.8911 - val_k_smape: 104.6957\n",
      "Epoch 45/60\n",
      "0s - loss: 0.8247 - k_smape: 94.5587 - val_loss: 0.8908 - val_k_smape: 105.2215\n",
      "Epoch 46/60\n",
      "0s - loss: 0.8189 - k_smape: 94.1637 - val_loss: 0.8972 - val_k_smape: 105.2175\n",
      "Epoch 47/60\n",
      "0s - loss: 0.8008 - k_smape: 93.2880 - val_loss: 0.8820 - val_k_smape: 104.3309\n",
      "Epoch 48/60\n",
      "0s - loss: 0.8059 - k_smape: 93.4649 - val_loss: 0.8760 - val_k_smape: 102.9869\n",
      "Epoch 49/60\n",
      "0s - loss: 0.8002 - k_smape: 92.7538 - val_loss: 0.8928 - val_k_smape: 105.4662\n",
      "Epoch 50/60\n",
      "0s - loss: 0.7937 - k_smape: 91.9213 - val_loss: 0.8955 - val_k_smape: 105.1741\n",
      "Epoch 51/60\n",
      "0s - loss: 0.7974 - k_smape: 92.3792 - val_loss: 0.8848 - val_k_smape: 104.5494\n",
      "Epoch 52/60\n",
      "0s - loss: 0.7848 - k_smape: 92.1522 - val_loss: 0.8975 - val_k_smape: 105.4483\n",
      "Epoch 53/60\n",
      "0s - loss: 0.7892 - k_smape: 93.3545 - val_loss: 0.8929 - val_k_smape: 106.5681\n",
      "Epoch 54/60\n",
      "0s - loss: 0.7916 - k_smape: 92.5565 - val_loss: 0.9066 - val_k_smape: 106.5200\n",
      "Epoch 55/60\n",
      "0s - loss: 0.7958 - k_smape: 91.7288 - val_loss: 0.8951 - val_k_smape: 105.9858\n",
      "Epoch 56/60\n",
      "0s - loss: 0.7787 - k_smape: 91.6880 - val_loss: 0.8876 - val_k_smape: 104.9006\n",
      "Epoch 57/60\n",
      "0s - loss: 0.7731 - k_smape: 90.9905 - val_loss: 0.8827 - val_k_smape: 103.7217\n",
      "Epoch 58/60\n",
      "0s - loss: 0.7811 - k_smape: 91.6485 - val_loss: 0.8805 - val_k_smape: 104.7271\n",
      "Epoch 59/60\n",
      "0s - loss: 0.7777 - k_smape: 92.0582 - val_loss: 0.8904 - val_k_smape: 105.9275\n",
      "Epoch 60/60\n",
      "0s - loss: 0.7803 - k_smape: 93.1353 - val_loss: 0.9010 - val_k_smape: 105.0570\n",
      "=== Run: 4 / 5 ===\n",
      "--- Group: 1 / 4 ---\n",
      "Train on 21930 samples, validate on 5483 samples\n",
      "--- Group: 2 / 4 ---\n",
      "Train on 32032 samples, validate on 8009 samples\n",
      "Epoch 1/40\n",
      "7s - loss: 1.0647 - k_smape: 155.9201 - val_loss: 1.0180 - val_k_smape: 151.0625\n",
      "Epoch 2/40\n",
      "7s - loss: 1.0440 - k_smape: 148.4688 - val_loss: 1.0076 - val_k_smape: 145.3982\n",
      "Epoch 3/40\n",
      "7s - loss: 1.0371 - k_smape: 146.6656 - val_loss: 1.0071 - val_k_smape: 146.5378\n",
      "Epoch 4/40\n",
      "7s - loss: 1.0323 - k_smape: 145.4670 - val_loss: 1.0022 - val_k_smape: 144.4365\n",
      "Epoch 5/40\n",
      "7s - loss: 1.0278 - k_smape: 144.3989 - val_loss: 1.0030 - val_k_smape: 146.4284\n",
      "Epoch 6/40\n",
      "7s - loss: 1.0240 - k_smape: 143.7674 - val_loss: 0.9982 - val_k_smape: 142.5249\n",
      "Epoch 7/40\n",
      "7s - loss: 1.0210 - k_smape: 142.8357 - val_loss: 0.9968 - val_k_smape: 141.1425\n",
      "Epoch 8/40\n",
      "7s - loss: 1.0177 - k_smape: 142.3107 - val_loss: 0.9958 - val_k_smape: 143.1273\n",
      "Epoch 9/40\n",
      "7s - loss: 1.0159 - k_smape: 141.7786 - val_loss: 0.9958 - val_k_smape: 142.6628\n",
      "Epoch 10/40\n",
      "7s - loss: 1.0124 - k_smape: 141.4055 - val_loss: 0.9960 - val_k_smape: 140.7587\n",
      "Epoch 11/40\n",
      "7s - loss: 1.0092 - k_smape: 140.6082 - val_loss: 0.9968 - val_k_smape: 143.5403\n",
      "Epoch 12/40\n",
      "7s - loss: 1.0071 - k_smape: 140.3613 - val_loss: 0.9942 - val_k_smape: 139.9163\n",
      "Epoch 13/40\n",
      "7s - loss: 1.0048 - k_smape: 139.9158 - val_loss: 0.9974 - val_k_smape: 142.5611\n",
      "Epoch 14/40\n"
     ]
    },
    {
     "name": "stdout",
     "output_type": "stream",
     "text": [
      "7s - loss: 1.0034 - k_smape: 139.7223 - val_loss: 0.9970 - val_k_smape: 141.1966\n",
      "Epoch 15/40\n",
      "7s - loss: 0.9982 - k_smape: 138.9774 - val_loss: 0.9948 - val_k_smape: 141.6787\n",
      "Epoch 16/40\n",
      "7s - loss: 0.9973 - k_smape: 138.8907 - val_loss: 0.9949 - val_k_smape: 140.4727\n",
      "Epoch 17/40\n",
      "7s - loss: 0.9933 - k_smape: 138.3203 - val_loss: 0.9966 - val_k_smape: 141.8183\n",
      "Epoch 18/40\n",
      "7s - loss: 0.9923 - k_smape: 138.2967 - val_loss: 0.9956 - val_k_smape: 140.3979\n",
      "Epoch 19/40\n",
      "7s - loss: 0.9901 - k_smape: 137.8365 - val_loss: 0.9966 - val_k_smape: 142.0865\n",
      "Epoch 20/40\n",
      "7s - loss: 0.9871 - k_smape: 137.7258 - val_loss: 0.9985 - val_k_smape: 142.2365\n",
      "Epoch 21/40\n",
      "7s - loss: 0.9864 - k_smape: 137.6827 - val_loss: 0.9994 - val_k_smape: 140.9391\n",
      "Epoch 22/40\n",
      "7s - loss: 0.9814 - k_smape: 137.2060 - val_loss: 1.0044 - val_k_smape: 144.7240\n",
      "Epoch 23/40\n",
      "7s - loss: 0.9821 - k_smape: 137.1696 - val_loss: 0.9970 - val_k_smape: 141.0350\n",
      "Epoch 24/40\n",
      "7s - loss: 0.9793 - k_smape: 136.9424 - val_loss: 0.9958 - val_k_smape: 140.3975\n",
      "Epoch 25/40\n",
      "7s - loss: 0.9758 - k_smape: 136.9013 - val_loss: 1.0008 - val_k_smape: 142.4373\n",
      "Epoch 26/40\n",
      "7s - loss: 0.9741 - k_smape: 136.4899 - val_loss: 0.9964 - val_k_smape: 141.4576\n",
      "Epoch 27/40\n",
      "7s - loss: 0.9724 - k_smape: 136.3507 - val_loss: 0.9948 - val_k_smape: 140.0347\n",
      "Epoch 28/40\n",
      "7s - loss: 0.9704 - k_smape: 136.0764 - val_loss: 0.9969 - val_k_smape: 140.9922\n",
      "Epoch 29/40\n",
      "7s - loss: 0.9693 - k_smape: 136.0749 - val_loss: 0.9978 - val_k_smape: 141.5828\n",
      "Epoch 30/40\n",
      "7s - loss: 0.9655 - k_smape: 135.8153 - val_loss: 0.9958 - val_k_smape: 140.0513\n",
      "Epoch 31/40\n",
      "7s - loss: 0.9647 - k_smape: 135.7691 - val_loss: 0.9987 - val_k_smape: 141.5496\n",
      "Epoch 32/40\n",
      "7s - loss: 0.9662 - k_smape: 135.9421 - val_loss: 1.0012 - val_k_smape: 140.8670\n",
      "Epoch 33/40\n",
      "7s - loss: 0.9595 - k_smape: 135.1608 - val_loss: 0.9987 - val_k_smape: 142.1321\n",
      "Epoch 34/40\n",
      "7s - loss: 0.9599 - k_smape: 135.4142 - val_loss: 1.0002 - val_k_smape: 141.8617\n",
      "Epoch 35/40\n",
      "7s - loss: 0.9594 - k_smape: 135.1277 - val_loss: 1.0011 - val_k_smape: 141.1056\n",
      "Epoch 36/40\n",
      "7s - loss: 0.9556 - k_smape: 134.9320 - val_loss: 0.9979 - val_k_smape: 141.2265\n",
      "Epoch 37/40\n",
      "7s - loss: 0.9544 - k_smape: 134.8218 - val_loss: 1.0043 - val_k_smape: 141.5968\n",
      "Epoch 38/40\n",
      "7s - loss: 0.9543 - k_smape: 134.9579 - val_loss: 1.0022 - val_k_smape: 141.5718\n",
      "Epoch 39/40\n",
      "7s - loss: 0.9531 - k_smape: 134.6330 - val_loss: 1.0029 - val_k_smape: 139.5228\n",
      "Epoch 40/40\n",
      "7s - loss: 0.9526 - k_smape: 134.7355 - val_loss: 1.0038 - val_k_smape: 141.1792\n",
      "--- Group: 3 / 4 ---\n",
      "Train on 61452 samples, validate on 15363 samples\n",
      "Epoch 1/40\n",
      "14s - loss: 1.0904 - k_smape: 128.5367 - val_loss: 1.0422 - val_k_smape: 122.5692\n",
      "Epoch 2/40\n",
      "13s - loss: 1.0496 - k_smape: 120.9959 - val_loss: 1.0195 - val_k_smape: 117.8499\n",
      "Epoch 3/40\n",
      "13s - loss: 1.0363 - k_smape: 119.0524 - val_loss: 1.0094 - val_k_smape: 116.4607\n",
      "Epoch 4/40\n",
      "13s - loss: 1.0279 - k_smape: 117.8913 - val_loss: 1.0025 - val_k_smape: 113.6142\n",
      "Epoch 5/40\n",
      "13s - loss: 1.0220 - k_smape: 117.0647 - val_loss: 1.0027 - val_k_smape: 114.6368\n",
      "Epoch 6/40\n",
      "13s - loss: 1.0171 - k_smape: 116.5987 - val_loss: 0.9971 - val_k_smape: 115.6711\n",
      "Epoch 7/40\n",
      "13s - loss: 1.0121 - k_smape: 115.9547 - val_loss: 0.9997 - val_k_smape: 117.5538\n",
      "Epoch 8/40\n",
      "13s - loss: 1.0081 - k_smape: 115.4568 - val_loss: 0.9965 - val_k_smape: 115.2766\n",
      "Epoch 9/40\n",
      "13s - loss: 1.0028 - k_smape: 115.0612 - val_loss: 0.9896 - val_k_smape: 113.9782\n",
      "Epoch 10/40\n",
      "13s - loss: 0.9987 - k_smape: 114.4261 - val_loss: 0.9894 - val_k_smape: 114.2253\n",
      "Epoch 11/40\n",
      "13s - loss: 0.9953 - k_smape: 113.9145 - val_loss: 0.9827 - val_k_smape: 112.8365\n",
      "Epoch 12/40\n",
      "13s - loss: 0.9922 - k_smape: 113.9418 - val_loss: 0.9827 - val_k_smape: 112.2031\n",
      "Epoch 13/40\n",
      "13s - loss: 0.9901 - k_smape: 113.5060 - val_loss: 0.9824 - val_k_smape: 113.4517\n",
      "Epoch 14/40\n",
      "13s - loss: 0.9864 - k_smape: 113.2136 - val_loss: 0.9816 - val_k_smape: 114.2351\n",
      "Epoch 15/40\n",
      "13s - loss: 0.9822 - k_smape: 112.7972 - val_loss: 0.9775 - val_k_smape: 110.4466\n",
      "Epoch 16/40\n",
      "13s - loss: 0.9799 - k_smape: 112.6481 - val_loss: 0.9769 - val_k_smape: 113.2449\n",
      "Epoch 17/40\n",
      "13s - loss: 0.9766 - k_smape: 112.3819 - val_loss: 0.9798 - val_k_smape: 112.3013\n",
      "Epoch 18/40\n",
      "13s - loss: 0.9741 - k_smape: 111.9948 - val_loss: 0.9782 - val_k_smape: 113.2318\n",
      "Epoch 19/40\n",
      "13s - loss: 0.9710 - k_smape: 111.8062 - val_loss: 0.9733 - val_k_smape: 112.0790\n",
      "Epoch 20/40\n",
      "13s - loss: 0.9671 - k_smape: 111.4852 - val_loss: 0.9748 - val_k_smape: 111.8278\n",
      "Epoch 21/40\n",
      "13s - loss: 0.9667 - k_smape: 111.4366 - val_loss: 0.9761 - val_k_smape: 113.3057\n",
      "Epoch 22/40\n",
      "13s - loss: 0.9646 - k_smape: 111.2963 - val_loss: 0.9747 - val_k_smape: 113.2805\n",
      "Epoch 23/40\n",
      "13s - loss: 0.9610 - k_smape: 110.9223 - val_loss: 0.9738 - val_k_smape: 112.1431\n",
      "Epoch 24/40\n",
      "13s - loss: 0.9594 - k_smape: 110.8671 - val_loss: 0.9727 - val_k_smape: 111.9734\n",
      "Epoch 25/40\n",
      "13s - loss: 0.9566 - k_smape: 110.5679 - val_loss: 0.9767 - val_k_smape: 113.5886\n",
      "Epoch 26/40\n",
      "13s - loss: 0.9533 - k_smape: 110.3387 - val_loss: 0.9753 - val_k_smape: 114.0999\n",
      "Epoch 27/40\n",
      "13s - loss: 0.9527 - k_smape: 110.2394 - val_loss: 0.9690 - val_k_smape: 110.2197\n",
      "Epoch 28/40\n",
      "13s - loss: 0.9520 - k_smape: 110.2059 - val_loss: 0.9638 - val_k_smape: 110.7193\n",
      "Epoch 29/40\n",
      "13s - loss: 0.9495 - k_smape: 110.0386 - val_loss: 0.9720 - val_k_smape: 113.0088\n",
      "Epoch 30/40\n",
      "13s - loss: 0.9472 - k_smape: 109.7440 - val_loss: 0.9701 - val_k_smape: 112.4047\n",
      "Epoch 31/40\n",
      "13s - loss: 0.9454 - k_smape: 109.6387 - val_loss: 0.9645 - val_k_smape: 111.6097\n",
      "Epoch 32/40\n",
      "13s - loss: 0.9428 - k_smape: 109.5086 - val_loss: 0.9684 - val_k_smape: 111.4198\n",
      "Epoch 33/40\n",
      "13s - loss: 0.9426 - k_smape: 109.4433 - val_loss: 0.9659 - val_k_smape: 112.8163\n",
      "Epoch 34/40\n",
      "13s - loss: 0.9398 - k_smape: 109.2582 - val_loss: 0.9696 - val_k_smape: 112.5056\n",
      "Epoch 35/40\n",
      "13s - loss: 0.9394 - k_smape: 109.1951 - val_loss: 0.9671 - val_k_smape: 111.7268\n",
      "Epoch 36/40\n",
      "13s - loss: 0.9361 - k_smape: 108.9285 - val_loss: 0.9666 - val_k_smape: 111.9434\n",
      "Epoch 37/40\n",
      "13s - loss: 0.9376 - k_smape: 109.0705 - val_loss: 0.9697 - val_k_smape: 112.4938\n",
      "Epoch 38/40\n",
      "13s - loss: 0.9332 - k_smape: 108.6960 - val_loss: 0.9678 - val_k_smape: 112.7706\n",
      "Epoch 39/40\n",
      "13s - loss: 0.9322 - k_smape: 108.6164 - val_loss: 0.9640 - val_k_smape: 112.0976\n",
      "Epoch 40/40\n",
      "13s - loss: 0.9309 - k_smape: 108.4660 - val_loss: 0.9637 - val_k_smape: 111.3452\n",
      "--- Group: 4 / 4 ---\n",
      "Train on 635 samples, validate on 159 samples\n",
      "Epoch 1/60\n",
      "0s - loss: 1.2547 - k_smape: 174.1346 - val_loss: 1.2885 - val_k_smape: 176.4177\n",
      "Epoch 2/60\n",
      "0s - loss: 1.2416 - k_smape: 165.8053 - val_loss: 1.2697 - val_k_smape: 167.1187\n",
      "Epoch 3/60\n",
      "0s - loss: 1.2255 - k_smape: 161.1311 - val_loss: 1.2569 - val_k_smape: 162.6705\n",
      "Epoch 4/60\n",
      "0s - loss: 1.2101 - k_smape: 154.4282 - val_loss: 1.2347 - val_k_smape: 154.5284\n",
      "Epoch 5/60\n",
      "0s - loss: 1.1966 - k_smape: 148.4432 - val_loss: 1.2129 - val_k_smape: 148.0959\n",
      "Epoch 6/60\n",
      "0s - loss: 1.1768 - k_smape: 144.7131 - val_loss: 1.1930 - val_k_smape: 144.2130\n",
      "Epoch 7/60\n",
      "0s - loss: 1.1539 - k_smape: 139.5918 - val_loss: 1.1676 - val_k_smape: 137.5863\n",
      "Epoch 8/60\n",
      "0s - loss: 1.1427 - k_smape: 135.2519 - val_loss: 1.1546 - val_k_smape: 136.7205\n",
      "Epoch 9/60\n",
      "0s - loss: 1.1200 - k_smape: 133.9204 - val_loss: 1.1273 - val_k_smape: 128.8183\n",
      "Epoch 10/60\n",
      "0s - loss: 1.1040 - k_smape: 130.0376 - val_loss: 1.1229 - val_k_smape: 132.3096\n",
      "Epoch 11/60\n",
      "0s - loss: 1.0854 - k_smape: 127.0091 - val_loss: 1.0954 - val_k_smape: 124.3914\n",
      "Epoch 12/60\n",
      "0s - loss: 1.0770 - k_smape: 126.3659 - val_loss: 1.0951 - val_k_smape: 127.4067\n",
      "Epoch 13/60\n",
      "0s - loss: 1.0656 - k_smape: 123.0403 - val_loss: 1.0621 - val_k_smape: 120.7797\n",
      "Epoch 14/60\n",
      "0s - loss: 1.0455 - k_smape: 121.3862 - val_loss: 1.0613 - val_k_smape: 120.7825\n",
      "Epoch 15/60\n",
      "0s - loss: 1.0380 - k_smape: 118.9957 - val_loss: 1.0425 - val_k_smape: 116.3750\n",
      "Epoch 16/60\n",
      "0s - loss: 1.0230 - k_smape: 117.5489 - val_loss: 1.0399 - val_k_smape: 118.6480\n",
      "Epoch 17/60\n",
      "0s - loss: 1.0066 - k_smape: 114.6551 - val_loss: 1.0318 - val_k_smape: 115.7721\n",
      "Epoch 18/60\n",
      "0s - loss: 0.9950 - k_smape: 114.5672 - val_loss: 1.0158 - val_k_smape: 114.3917\n",
      "Epoch 19/60\n",
      "0s - loss: 0.9775 - k_smape: 111.6839 - val_loss: 1.0128 - val_k_smape: 114.7103\n",
      "Epoch 20/60\n",
      "0s - loss: 0.9705 - k_smape: 111.8405 - val_loss: 0.9954 - val_k_smape: 110.8001\n",
      "Epoch 21/60\n"
     ]
    },
    {
     "name": "stdout",
     "output_type": "stream",
     "text": [
      "0s - loss: 0.9611 - k_smape: 109.2611 - val_loss: 1.0025 - val_k_smape: 112.8988\n",
      "Epoch 22/60\n",
      "0s - loss: 0.9459 - k_smape: 107.8876 - val_loss: 0.9788 - val_k_smape: 110.0052\n",
      "Epoch 23/60\n",
      "0s - loss: 0.9467 - k_smape: 109.5414 - val_loss: 0.9675 - val_k_smape: 108.1349\n",
      "Epoch 24/60\n",
      "0s - loss: 0.9267 - k_smape: 107.3545 - val_loss: 0.9720 - val_k_smape: 109.0768\n",
      "Epoch 25/60\n",
      "0s - loss: 0.9311 - k_smape: 105.8893 - val_loss: 0.9790 - val_k_smape: 110.9287\n",
      "Epoch 26/60\n",
      "0s - loss: 0.9154 - k_smape: 105.7897 - val_loss: 0.9639 - val_k_smape: 106.7785\n",
      "Epoch 27/60\n",
      "0s - loss: 0.9129 - k_smape: 105.0712 - val_loss: 0.9610 - val_k_smape: 107.7873\n",
      "Epoch 28/60\n",
      "0s - loss: 0.9016 - k_smape: 104.2845 - val_loss: 0.9455 - val_k_smape: 106.1810\n",
      "Epoch 29/60\n",
      "0s - loss: 0.8985 - k_smape: 104.1396 - val_loss: 0.9708 - val_k_smape: 108.8029\n",
      "Epoch 30/60\n",
      "0s - loss: 0.9077 - k_smape: 105.2652 - val_loss: 0.9472 - val_k_smape: 105.9798\n",
      "Epoch 31/60\n",
      "0s - loss: 0.8870 - k_smape: 103.2075 - val_loss: 0.9462 - val_k_smape: 105.7461\n",
      "Epoch 32/60\n",
      "0s - loss: 0.8754 - k_smape: 101.7965 - val_loss: 0.9412 - val_k_smape: 105.9735\n",
      "Epoch 33/60\n",
      "0s - loss: 0.8676 - k_smape: 100.9411 - val_loss: 0.9297 - val_k_smape: 103.1497\n",
      "Epoch 34/60\n",
      "0s - loss: 0.8710 - k_smape: 101.3185 - val_loss: 0.9357 - val_k_smape: 106.4430\n",
      "Epoch 35/60\n",
      "0s - loss: 0.8563 - k_smape: 101.9689 - val_loss: 0.9228 - val_k_smape: 102.4330\n",
      "Epoch 36/60\n",
      "0s - loss: 0.8665 - k_smape: 99.9889 - val_loss: 0.9270 - val_k_smape: 103.3271\n",
      "Epoch 37/60\n",
      "0s - loss: 0.8460 - k_smape: 100.3923 - val_loss: 0.9356 - val_k_smape: 104.3100\n",
      "Epoch 38/60\n",
      "0s - loss: 0.8603 - k_smape: 99.3268 - val_loss: 0.9465 - val_k_smape: 106.3336\n",
      "Epoch 39/60\n",
      "0s - loss: 0.8515 - k_smape: 101.2338 - val_loss: 0.9327 - val_k_smape: 102.4413\n",
      "Epoch 40/60\n",
      "0s - loss: 0.8612 - k_smape: 99.0144 - val_loss: 0.9423 - val_k_smape: 106.5885\n",
      "Epoch 41/60\n",
      "0s - loss: 0.8513 - k_smape: 100.7716 - val_loss: 0.9206 - val_k_smape: 100.7461\n",
      "Epoch 42/60\n",
      "0s - loss: 0.8594 - k_smape: 99.3947 - val_loss: 0.9180 - val_k_smape: 103.5193\n",
      "Epoch 43/60\n",
      "0s - loss: 0.8369 - k_smape: 98.4626 - val_loss: 0.9193 - val_k_smape: 102.5950\n",
      "Epoch 44/60\n",
      "0s - loss: 0.8350 - k_smape: 98.5102 - val_loss: 0.9056 - val_k_smape: 101.3226\n",
      "Epoch 45/60\n",
      "0s - loss: 0.8357 - k_smape: 97.7173 - val_loss: 0.9006 - val_k_smape: 99.8724\n",
      "Epoch 46/60\n",
      "0s - loss: 0.8213 - k_smape: 96.7710 - val_loss: 0.9059 - val_k_smape: 101.0165\n",
      "Epoch 47/60\n",
      "0s - loss: 0.8163 - k_smape: 95.7712 - val_loss: 0.9351 - val_k_smape: 103.2990\n",
      "Epoch 48/60\n",
      "0s - loss: 0.8248 - k_smape: 96.7752 - val_loss: 0.9121 - val_k_smape: 100.5193\n",
      "Epoch 49/60\n",
      "0s - loss: 0.8172 - k_smape: 95.5809 - val_loss: 0.9108 - val_k_smape: 100.8568\n",
      "Epoch 50/60\n",
      "0s - loss: 0.8188 - k_smape: 97.0713 - val_loss: 0.9153 - val_k_smape: 101.4463\n",
      "Epoch 51/60\n",
      "0s - loss: 0.8188 - k_smape: 97.2121 - val_loss: 0.9121 - val_k_smape: 102.1804\n",
      "Epoch 52/60\n",
      "0s - loss: 0.8129 - k_smape: 95.9340 - val_loss: 0.9120 - val_k_smape: 101.0241\n",
      "Epoch 53/60\n",
      "0s - loss: 0.8089 - k_smape: 96.6378 - val_loss: 0.9140 - val_k_smape: 100.7184\n",
      "Epoch 54/60\n",
      "0s - loss: 0.8104 - k_smape: 95.2263 - val_loss: 0.8977 - val_k_smape: 99.7119\n",
      "Epoch 55/60\n",
      "0s - loss: 0.7917 - k_smape: 94.4898 - val_loss: 0.8949 - val_k_smape: 99.9385\n",
      "Epoch 56/60\n",
      "0s - loss: 0.8093 - k_smape: 96.1323 - val_loss: 0.8888 - val_k_smape: 97.8148\n",
      "Epoch 57/60\n",
      "0s - loss: 0.8097 - k_smape: 93.3776 - val_loss: 0.8975 - val_k_smape: 100.0161\n",
      "Epoch 58/60\n",
      "0s - loss: 0.7895 - k_smape: 93.7692 - val_loss: 0.8962 - val_k_smape: 99.7982\n",
      "Epoch 59/60\n",
      "0s - loss: 0.7932 - k_smape: 94.3763 - val_loss: 0.8857 - val_k_smape: 98.5302\n",
      "Epoch 60/60\n",
      "0s - loss: 0.7931 - k_smape: 94.1028 - val_loss: 0.8943 - val_k_smape: 98.5551\n",
      "=== Run: 5 / 5 ===\n",
      "--- Group: 1 / 4 ---\n",
      "Train on 21930 samples, validate on 5483 samples\n",
      "--- Group: 2 / 4 ---\n",
      "Train on 32032 samples, validate on 8009 samples\n",
      "Epoch 1/40\n",
      "7s - loss: 1.0584 - k_smape: 156.9277 - val_loss: 1.0504 - val_k_smape: 151.3321\n",
      "Epoch 2/40\n",
      "7s - loss: 1.0375 - k_smape: 148.9319 - val_loss: 1.0446 - val_k_smape: 148.1965\n",
      "Epoch 3/40\n",
      "7s - loss: 1.0310 - k_smape: 147.0496 - val_loss: 1.0407 - val_k_smape: 145.4617\n",
      "Epoch 4/40\n",
      "7s - loss: 1.0267 - k_smape: 145.5966 - val_loss: 1.0376 - val_k_smape: 146.3040\n",
      "Epoch 5/40\n",
      "7s - loss: 1.0218 - k_smape: 144.9778 - val_loss: 1.0363 - val_k_smape: 145.4281\n",
      "Epoch 6/40\n",
      "7s - loss: 1.0186 - k_smape: 143.9065 - val_loss: 1.0359 - val_k_smape: 146.2001\n",
      "Epoch 7/40\n",
      "7s - loss: 1.0155 - k_smape: 143.1419 - val_loss: 1.0314 - val_k_smape: 143.2916\n",
      "Epoch 8/40\n",
      "7s - loss: 1.0138 - k_smape: 142.5353 - val_loss: 1.0308 - val_k_smape: 142.9251\n",
      "Epoch 9/40\n",
      "7s - loss: 1.0104 - k_smape: 142.0042 - val_loss: 1.0278 - val_k_smape: 141.5966\n",
      "Epoch 10/40\n",
      "7s - loss: 1.0073 - k_smape: 141.3337 - val_loss: 1.0293 - val_k_smape: 143.4716\n",
      "Epoch 11/40\n",
      "7s - loss: 1.0065 - k_smape: 141.3071 - val_loss: 1.0279 - val_k_smape: 143.6745\n",
      "Epoch 12/40\n",
      "7s - loss: 1.0043 - k_smape: 141.0037 - val_loss: 1.0264 - val_k_smape: 142.8743\n",
      "Epoch 13/40\n",
      "7s - loss: 1.0014 - k_smape: 140.4442 - val_loss: 1.0308 - val_k_smape: 144.9197\n",
      "Epoch 14/40\n",
      "7s - loss: 0.9993 - k_smape: 140.1550 - val_loss: 1.0251 - val_k_smape: 142.5837\n",
      "Epoch 15/40\n",
      "7s - loss: 0.9980 - k_smape: 139.9134 - val_loss: 1.0263 - val_k_smape: 143.0031\n",
      "Epoch 16/40\n",
      "7s - loss: 0.9953 - k_smape: 139.5467 - val_loss: 1.0250 - val_k_smape: 142.6168\n",
      "Epoch 17/40\n",
      "7s - loss: 0.9938 - k_smape: 139.4697 - val_loss: 1.0251 - val_k_smape: 143.4049\n",
      "Epoch 18/40\n",
      "7s - loss: 0.9903 - k_smape: 139.1668 - val_loss: 1.0233 - val_k_smape: 141.9901\n",
      "Epoch 19/40\n",
      "7s - loss: 0.9879 - k_smape: 138.6681 - val_loss: 1.0242 - val_k_smape: 140.0334\n",
      "Epoch 20/40\n",
      "7s - loss: 0.9855 - k_smape: 138.5594 - val_loss: 1.0253 - val_k_smape: 142.7155\n",
      "Epoch 21/40\n",
      "7s - loss: 0.9830 - k_smape: 138.1818 - val_loss: 1.0247 - val_k_smape: 141.7232\n",
      "Epoch 22/40\n",
      "7s - loss: 0.9839 - k_smape: 138.3027 - val_loss: 1.0249 - val_k_smape: 141.2622\n",
      "Epoch 23/40\n",
      "7s - loss: 0.9801 - k_smape: 137.9679 - val_loss: 1.0239 - val_k_smape: 141.0976\n",
      "Epoch 24/40\n",
      "7s - loss: 0.9790 - k_smape: 137.8241 - val_loss: 1.0248 - val_k_smape: 142.0833\n",
      "Epoch 25/40\n",
      "7s - loss: 0.9769 - k_smape: 137.5301 - val_loss: 1.0253 - val_k_smape: 141.7817\n",
      "Epoch 26/40\n",
      "7s - loss: 0.9752 - k_smape: 137.3061 - val_loss: 1.0266 - val_k_smape: 140.0606\n",
      "Epoch 27/40\n",
      "7s - loss: 0.9731 - k_smape: 137.3442 - val_loss: 1.0302 - val_k_smape: 143.4200\n",
      "Epoch 28/40\n",
      "7s - loss: 0.9715 - k_smape: 137.3643 - val_loss: 1.0288 - val_k_smape: 140.6951\n",
      "Epoch 29/40\n",
      "7s - loss: 0.9698 - k_smape: 136.9797 - val_loss: 1.0256 - val_k_smape: 141.2445\n",
      "Epoch 30/40\n",
      "7s - loss: 0.9688 - k_smape: 136.9535 - val_loss: 1.0259 - val_k_smape: 139.9841\n",
      "Epoch 31/40\n",
      "7s - loss: 0.9672 - k_smape: 136.9049 - val_loss: 1.0267 - val_k_smape: 141.3611\n",
      "Epoch 32/40\n",
      "7s - loss: 0.9654 - k_smape: 136.8461 - val_loss: 1.0273 - val_k_smape: 141.8014\n",
      "Epoch 33/40\n",
      "7s - loss: 0.9644 - k_smape: 136.6179 - val_loss: 1.0270 - val_k_smape: 140.9037\n",
      "Epoch 34/40\n",
      "7s - loss: 0.9624 - k_smape: 136.2594 - val_loss: 1.0262 - val_k_smape: 142.8641\n",
      "Epoch 35/40\n",
      "7s - loss: 0.9606 - k_smape: 136.2155 - val_loss: 1.0280 - val_k_smape: 143.2548\n",
      "Epoch 36/40\n",
      "7s - loss: 0.9575 - k_smape: 136.0391 - val_loss: 1.0296 - val_k_smape: 140.8070\n",
      "Epoch 37/40\n",
      "7s - loss: 0.9591 - k_smape: 136.2048 - val_loss: 1.0287 - val_k_smape: 139.8462\n",
      "Epoch 38/40\n",
      "7s - loss: 0.9583 - k_smape: 136.2593 - val_loss: 1.0269 - val_k_smape: 141.2658\n",
      "Epoch 39/40\n",
      "7s - loss: 0.9561 - k_smape: 135.7053 - val_loss: 1.0251 - val_k_smape: 141.7730\n",
      "Epoch 40/40\n",
      "7s - loss: 0.9554 - k_smape: 135.6482 - val_loss: 1.0277 - val_k_smape: 142.5074\n",
      "--- Group: 3 / 4 ---\n",
      "Train on 61452 samples, validate on 15363 samples\n",
      "Epoch 1/40\n",
      "14s - loss: 1.0908 - k_smape: 128.8208 - val_loss: 1.0378 - val_k_smape: 119.4808\n",
      "Epoch 2/40\n",
      "13s - loss: 1.0495 - k_smape: 120.9981 - val_loss: 1.0283 - val_k_smape: 119.5775\n",
      "Epoch 3/40\n",
      "13s - loss: 1.0380 - k_smape: 119.3540 - val_loss: 1.0130 - val_k_smape: 115.7748\n",
      "Epoch 4/40\n",
      "13s - loss: 1.0311 - k_smape: 118.3968 - val_loss: 1.0138 - val_k_smape: 117.0633\n",
      "Epoch 5/40\n",
      "13s - loss: 1.0241 - k_smape: 117.4100 - val_loss: 1.0148 - val_k_smape: 118.0961\n",
      "Epoch 6/40\n",
      "13s - loss: 1.0196 - k_smape: 116.8937 - val_loss: 0.9974 - val_k_smape: 113.0797\n",
      "Epoch 7/40\n",
      "13s - loss: 1.0139 - k_smape: 116.0828 - val_loss: 0.9977 - val_k_smape: 114.2771\n",
      "Epoch 8/40\n"
     ]
    },
    {
     "name": "stdout",
     "output_type": "stream",
     "text": [
      "13s - loss: 1.0089 - k_smape: 115.6829 - val_loss: 0.9936 - val_k_smape: 113.3086\n",
      "Epoch 9/40\n",
      "13s - loss: 1.0057 - k_smape: 115.1670 - val_loss: 0.9912 - val_k_smape: 112.6280\n",
      "Epoch 10/40\n",
      "13s - loss: 1.0011 - k_smape: 114.6320 - val_loss: 0.9984 - val_k_smape: 113.9089\n",
      "Epoch 11/40\n",
      "13s - loss: 1.0001 - k_smape: 114.3489 - val_loss: 0.9969 - val_k_smape: 115.2248\n",
      "Epoch 12/40\n",
      "13s - loss: 0.9959 - k_smape: 114.0926 - val_loss: 0.9918 - val_k_smape: 114.0429\n",
      "Epoch 13/40\n",
      "13s - loss: 0.9925 - k_smape: 113.7959 - val_loss: 0.9912 - val_k_smape: 113.7644\n",
      "Epoch 14/40\n",
      "13s - loss: 0.9905 - k_smape: 113.5353 - val_loss: 0.9850 - val_k_smape: 113.4797\n",
      "Epoch 15/40\n",
      "13s - loss: 0.9863 - k_smape: 113.0724 - val_loss: 0.9808 - val_k_smape: 112.2486\n",
      "Epoch 16/40\n",
      "13s - loss: 0.9841 - k_smape: 112.8755 - val_loss: 0.9926 - val_k_smape: 115.2899\n",
      "Epoch 17/40\n",
      "13s - loss: 0.9807 - k_smape: 112.6983 - val_loss: 0.9806 - val_k_smape: 111.8776\n",
      "Epoch 18/40\n",
      "13s - loss: 0.9798 - k_smape: 112.5562 - val_loss: 0.9836 - val_k_smape: 111.8058\n",
      "Epoch 19/40\n",
      "13s - loss: 0.9765 - k_smape: 112.2262 - val_loss: 0.9775 - val_k_smape: 111.8374\n",
      "Epoch 20/40\n",
      "13s - loss: 0.9760 - k_smape: 112.1098 - val_loss: 0.9777 - val_k_smape: 112.1053\n",
      "Epoch 21/40\n",
      "13s - loss: 0.9727 - k_smape: 111.7633 - val_loss: 0.9755 - val_k_smape: 111.9581\n",
      "Epoch 22/40\n",
      "13s - loss: 0.9708 - k_smape: 111.8036 - val_loss: 0.9774 - val_k_smape: 111.9543\n",
      "Epoch 23/40\n",
      "13s - loss: 0.9676 - k_smape: 111.5845 - val_loss: 0.9811 - val_k_smape: 113.8017\n",
      "Epoch 24/40\n",
      "13s - loss: 0.9658 - k_smape: 111.2874 - val_loss: 0.9857 - val_k_smape: 114.6776\n",
      "Epoch 25/40\n",
      "13s - loss: 0.9640 - k_smape: 111.1511 - val_loss: 0.9749 - val_k_smape: 110.6706\n",
      "Epoch 26/40\n",
      "13s - loss: 0.9630 - k_smape: 110.9693 - val_loss: 0.9749 - val_k_smape: 112.0285\n",
      "Epoch 27/40\n",
      "13s - loss: 0.9604 - k_smape: 110.7676 - val_loss: 0.9736 - val_k_smape: 111.7186\n",
      "Epoch 28/40\n",
      "13s - loss: 0.9592 - k_smape: 110.7474 - val_loss: 0.9734 - val_k_smape: 111.6409\n",
      "Epoch 29/40\n",
      "13s - loss: 0.9557 - k_smape: 110.4429 - val_loss: 0.9762 - val_k_smape: 112.8811\n",
      "Epoch 30/40\n",
      "13s - loss: 0.9535 - k_smape: 110.3125 - val_loss: 0.9770 - val_k_smape: 111.7598\n",
      "Epoch 31/40\n",
      "13s - loss: 0.9524 - k_smape: 110.0603 - val_loss: 0.9726 - val_k_smape: 111.7850\n",
      "Epoch 32/40\n",
      "13s - loss: 0.9510 - k_smape: 110.1315 - val_loss: 0.9731 - val_k_smape: 111.8502\n",
      "Epoch 33/40\n",
      "13s - loss: 0.9486 - k_smape: 109.9689 - val_loss: 0.9719 - val_k_smape: 110.6323\n",
      "Epoch 34/40\n",
      "13s - loss: 0.9472 - k_smape: 109.8729 - val_loss: 0.9743 - val_k_smape: 112.7629\n",
      "Epoch 35/40\n",
      "13s - loss: 0.9464 - k_smape: 109.7444 - val_loss: 0.9706 - val_k_smape: 111.0371\n",
      "Epoch 36/40\n",
      "13s - loss: 0.9431 - k_smape: 109.3601 - val_loss: 0.9727 - val_k_smape: 110.2872\n",
      "Epoch 37/40\n",
      "13s - loss: 0.9441 - k_smape: 109.5134 - val_loss: 0.9703 - val_k_smape: 112.1124\n",
      "Epoch 38/40\n",
      "13s - loss: 0.9409 - k_smape: 109.3748 - val_loss: 0.9714 - val_k_smape: 111.8685\n",
      "Epoch 39/40\n",
      "13s - loss: 0.9392 - k_smape: 109.2339 - val_loss: 0.9663 - val_k_smape: 109.9824\n",
      "Epoch 40/40\n",
      "13s - loss: 0.9381 - k_smape: 108.9384 - val_loss: 0.9680 - val_k_smape: 111.7153\n",
      "--- Group: 4 / 4 ---\n",
      "Train on 635 samples, validate on 159 samples\n",
      "Epoch 1/60\n",
      "0s - loss: 1.2551 - k_smape: 172.6832 - val_loss: 1.2857 - val_k_smape: 173.9410\n",
      "Epoch 2/60\n",
      "0s - loss: 1.2399 - k_smape: 165.8086 - val_loss: 1.2709 - val_k_smape: 167.2552\n",
      "Epoch 3/60\n",
      "0s - loss: 1.2244 - k_smape: 160.9729 - val_loss: 1.2565 - val_k_smape: 161.1541\n",
      "Epoch 4/60\n",
      "0s - loss: 1.2117 - k_smape: 155.1527 - val_loss: 1.2370 - val_k_smape: 153.4342\n",
      "Epoch 5/60\n",
      "0s - loss: 1.1923 - k_smape: 149.0116 - val_loss: 1.2196 - val_k_smape: 147.9780\n",
      "Epoch 6/60\n",
      "0s - loss: 1.1767 - k_smape: 145.2636 - val_loss: 1.2014 - val_k_smape: 142.9058\n",
      "Epoch 7/60\n",
      "0s - loss: 1.1593 - k_smape: 140.5019 - val_loss: 1.1818 - val_k_smape: 138.7498\n",
      "Epoch 8/60\n",
      "0s - loss: 1.1397 - k_smape: 136.5430 - val_loss: 1.1668 - val_k_smape: 136.8583\n",
      "Epoch 9/60\n",
      "0s - loss: 1.1224 - k_smape: 134.7621 - val_loss: 1.1469 - val_k_smape: 132.3942\n",
      "Epoch 10/60\n",
      "0s - loss: 1.1052 - k_smape: 130.0300 - val_loss: 1.1328 - val_k_smape: 129.7581\n",
      "Epoch 11/60\n",
      "0s - loss: 1.0885 - k_smape: 127.9231 - val_loss: 1.1235 - val_k_smape: 129.1665\n",
      "Epoch 12/60\n",
      "0s - loss: 1.0746 - k_smape: 127.7193 - val_loss: 1.1005 - val_k_smape: 123.4632\n",
      "Epoch 13/60\n",
      "0s - loss: 1.0522 - k_smape: 121.8633 - val_loss: 1.0940 - val_k_smape: 121.5419\n",
      "Epoch 14/60\n",
      "0s - loss: 1.0346 - k_smape: 119.0359 - val_loss: 1.0804 - val_k_smape: 119.6838\n",
      "Epoch 15/60\n",
      "0s - loss: 1.0259 - k_smape: 118.9465 - val_loss: 1.0757 - val_k_smape: 119.3098\n",
      "Epoch 16/60\n",
      "0s - loss: 1.0101 - k_smape: 115.7908 - val_loss: 1.0609 - val_k_smape: 116.5177\n",
      "Epoch 17/60\n",
      "0s - loss: 0.9755 - k_smape: 113.1004 - val_loss: 1.0518 - val_k_smape: 114.6757\n",
      "Epoch 18/60\n",
      "0s - loss: 0.9736 - k_smape: 111.1015 - val_loss: 1.0514 - val_k_smape: 114.6234\n",
      "Epoch 19/60\n",
      "0s - loss: 0.9491 - k_smape: 109.1864 - val_loss: 1.0521 - val_k_smape: 114.4363\n",
      "Epoch 20/60\n",
      "0s - loss: 0.9537 - k_smape: 110.9464 - val_loss: 1.0490 - val_k_smape: 115.0300\n",
      "Epoch 21/60\n",
      "0s - loss: 0.9464 - k_smape: 107.6489 - val_loss: 1.0383 - val_k_smape: 111.7302\n",
      "Epoch 22/60\n",
      "0s - loss: 0.9386 - k_smape: 108.1339 - val_loss: 1.0394 - val_k_smape: 112.3658\n",
      "Epoch 23/60\n",
      "0s - loss: 0.9044 - k_smape: 104.5730 - val_loss: 1.0333 - val_k_smape: 112.6623\n",
      "Epoch 24/60\n",
      "0s - loss: 0.9182 - k_smape: 106.7350 - val_loss: 1.0224 - val_k_smape: 110.5708\n",
      "Epoch 25/60\n",
      "0s - loss: 0.9033 - k_smape: 105.0194 - val_loss: 1.0278 - val_k_smape: 110.6639\n",
      "Epoch 26/60\n",
      "0s - loss: 0.8897 - k_smape: 103.4790 - val_loss: 1.0251 - val_k_smape: 110.0901\n",
      "Epoch 27/60\n",
      "0s - loss: 0.8968 - k_smape: 104.3175 - val_loss: 1.0191 - val_k_smape: 109.8559\n",
      "Epoch 28/60\n",
      "0s - loss: 0.8734 - k_smape: 101.9441 - val_loss: 1.0264 - val_k_smape: 110.5278\n",
      "Epoch 29/60\n",
      "0s - loss: 0.8814 - k_smape: 101.1664 - val_loss: 1.0245 - val_k_smape: 110.4810\n",
      "Epoch 30/60\n",
      "0s - loss: 0.8774 - k_smape: 103.6383 - val_loss: 1.0203 - val_k_smape: 110.5634\n",
      "Epoch 31/60\n",
      "0s - loss: 0.8704 - k_smape: 101.1655 - val_loss: 1.0388 - val_k_smape: 110.4094\n",
      "Epoch 32/60\n",
      "0s - loss: 0.8550 - k_smape: 99.8032 - val_loss: 1.0142 - val_k_smape: 109.6177\n",
      "Epoch 33/60\n",
      "0s - loss: 0.8528 - k_smape: 99.6322 - val_loss: 1.0126 - val_k_smape: 107.4146\n",
      "Epoch 34/60\n",
      "0s - loss: 0.8383 - k_smape: 98.0331 - val_loss: 1.0150 - val_k_smape: 109.2742\n",
      "Epoch 35/60\n",
      "0s - loss: 0.8349 - k_smape: 98.3235 - val_loss: 0.9954 - val_k_smape: 106.1015\n",
      "Epoch 36/60\n",
      "0s - loss: 0.8372 - k_smape: 97.4628 - val_loss: 1.0144 - val_k_smape: 110.3986\n",
      "Epoch 37/60\n",
      "0s - loss: 0.8339 - k_smape: 99.0715 - val_loss: 1.0028 - val_k_smape: 106.7917\n",
      "Epoch 38/60\n",
      "0s - loss: 0.8326 - k_smape: 97.4468 - val_loss: 1.0170 - val_k_smape: 109.9658\n",
      "Epoch 39/60\n",
      "0s - loss: 0.8241 - k_smape: 96.9354 - val_loss: 1.0023 - val_k_smape: 107.0207\n",
      "Epoch 40/60\n",
      "0s - loss: 0.8207 - k_smape: 96.3039 - val_loss: 1.0037 - val_k_smape: 107.2010\n",
      "Epoch 41/60\n",
      "0s - loss: 0.8113 - k_smape: 96.1783 - val_loss: 1.0137 - val_k_smape: 108.6616\n",
      "Epoch 42/60\n",
      "0s - loss: 0.8048 - k_smape: 95.9038 - val_loss: 1.0014 - val_k_smape: 106.7332\n",
      "Epoch 43/60\n",
      "0s - loss: 0.8137 - k_smape: 94.6655 - val_loss: 1.0092 - val_k_smape: 107.7343\n",
      "Epoch 44/60\n",
      "0s - loss: 0.8136 - k_smape: 96.0251 - val_loss: 1.0075 - val_k_smape: 108.5449\n",
      "Epoch 45/60\n",
      "0s - loss: 0.8039 - k_smape: 95.5082 - val_loss: 1.0074 - val_k_smape: 105.9643\n",
      "Epoch 46/60\n",
      "0s - loss: 0.7919 - k_smape: 93.1709 - val_loss: 1.0064 - val_k_smape: 107.4152\n",
      "Epoch 47/60\n",
      "0s - loss: 0.8149 - k_smape: 96.0155 - val_loss: 1.0092 - val_k_smape: 107.9126\n",
      "Epoch 48/60\n",
      "0s - loss: 0.8074 - k_smape: 96.2923 - val_loss: 1.0111 - val_k_smape: 108.8531\n",
      "Epoch 49/60\n",
      "0s - loss: 0.7933 - k_smape: 94.9591 - val_loss: 0.9940 - val_k_smape: 106.8870\n",
      "Epoch 50/60\n",
      "0s - loss: 0.7880 - k_smape: 93.2140 - val_loss: 0.9924 - val_k_smape: 105.7669\n",
      "Epoch 51/60\n",
      "0s - loss: 0.7880 - k_smape: 94.7189 - val_loss: 0.9922 - val_k_smape: 107.4986\n",
      "Epoch 52/60\n",
      "0s - loss: 0.7823 - k_smape: 92.8808 - val_loss: 0.9975 - val_k_smape: 106.0691\n",
      "Epoch 53/60\n",
      "0s - loss: 0.7822 - k_smape: 92.1634 - val_loss: 0.9937 - val_k_smape: 107.9560\n",
      "Epoch 54/60\n",
      "0s - loss: 0.7945 - k_smape: 94.9049 - val_loss: 0.9863 - val_k_smape: 107.5281\n",
      "Epoch 55/60\n",
      "0s - loss: 0.7699 - k_smape: 91.9543 - val_loss: 0.9895 - val_k_smape: 107.7829\n",
      "Epoch 56/60\n",
      "0s - loss: 0.7774 - k_smape: 93.6807 - val_loss: 0.9917 - val_k_smape: 107.7262\n",
      "Epoch 57/60\n"
     ]
    },
    {
     "name": "stdout",
     "output_type": "stream",
     "text": [
      "0s - loss: 0.7850 - k_smape: 93.5767 - val_loss: 0.9785 - val_k_smape: 105.1815\n",
      "Epoch 58/60\n",
      "0s - loss: 0.7713 - k_smape: 91.8818 - val_loss: 0.9896 - val_k_smape: 105.6169\n",
      "Epoch 59/60\n",
      "0s - loss: 0.7674 - k_smape: 92.5915 - val_loss: 1.0023 - val_k_smape: 107.1405\n",
      "Epoch 60/60\n",
      "0s - loss: 0.7648 - k_smape: 92.3115 - val_loss: 0.9821 - val_k_smape: 104.5588\n",
      "Wall time: 1h 11min 35s\n"
     ]
    }
   ],
   "source": [
    "%%time\n",
    "if load_previous_models:\n",
    "    print('Use Previous Model. Not training.')\n",
    "else:\n",
    "    hists_ens = []\n",
    "    shuffle_indexs_ens = []\n",
    "    for run, models in zip(ens_list, models_ens):\n",
    "        print('=== Run:', run+1, '/', len(ens_list), '===')\n",
    "        hists = []\n",
    "        shuffle_indexs = []\n",
    "        for (gp, model, X_in, Y_in, epochs, A_in) in zip(gp_list, models,\n",
    "                                           X_input_list, Y_input_list, \n",
    "                                           epochs_list, A_input_list):\n",
    "            print('--- Group:', gp+1, '/', len(gp_list), '---')\n",
    "            \n",
    "            # Shuffle data\n",
    "            shuffle_index = make_shuffle_index(len(X_in))\n",
    "            X_in_sh = X_in[shuffle_index]\n",
    "            Y_in_sh = Y_in[shuffle_index]\n",
    "            A_in_sh = A_in[shuffle_index]\n",
    "\n",
    "            hist = model.fit([X_in_sh, A_in_sh], Y_in_sh, batch_size=128, \n",
    "                             epochs=epochs, \n",
    "                             validation_split=0.2, verbose=2)\n",
    "            hists.append(hist)\n",
    "            shuffle_indexs.append(shuffle_index)\n",
    "        hists_ens.append(hists)\n",
    "        shuffle_indexs_ens.append(shuffle_indexs)"
   ]
  },
  {
   "cell_type": "markdown",
   "metadata": {},
   "source": [
    "### Save the Model"
   ]
  },
  {
   "cell_type": "code",
   "execution_count": 60,
   "metadata": {
    "collapsed": true
   },
   "outputs": [],
   "source": [
    "if not load_previous_models:\n",
    "    for run in ens_list:\n",
    "        for gp in gp_list:\n",
    "            models_ens[run][gp].save('../models/' + model_name + '-' + str(run) + '-' + str(gp) +'.h5')"
   ]
  },
  {
   "cell_type": "markdown",
   "metadata": {},
   "source": [
    "### Training History"
   ]
  },
  {
   "cell_type": "code",
   "execution_count": 61,
   "metadata": {},
   "outputs": [
    {
     "data": {
      "image/png": "[encoded data removed]",
      "text/plain": [
       "<matplotlib.figure.Figure at 0xa84a7fd0>"
      ]
     },
     "metadata": {},
     "output_type": "display_data"
    },
    {
     "data": {
      "image/png": "[encoded data removed]",
      "text/plain": [
       "<matplotlib.figure.Figure at 0xa84aa5c0>"
      ]
     },
     "metadata": {},
     "output_type": "display_data"
    },
    {
     "data": {
      "image/png": "[encoded data removed]",
      "text/plain": [
       "<matplotlib.figure.Figure at 0xa84caac8>"
      ]
     },
     "metadata": {},
     "output_type": "display_data"
    }
   ],
   "source": [
    "for gp, ep in zip(gp_list, epochs_list):\n",
    "    if ep:\n",
    "        for run in ens_list:\n",
    "            hist = hists_ens[run][gp]\n",
    "            plt.plot(hist.history['loss'], label=str(run))\n",
    "        plt.title('Mean Squared Error (Train) - Group ' + str(gp))\n",
    "        plt.legend(); plt.show()        "
   ]
  },
  {
   "cell_type": "code",
   "execution_count": 62,
   "metadata": {
    "scrolled": false
   },
   "outputs": [
    {
     "data": {
      "image/png": "[encoded data removed]",
      "text/plain": [
       "<matplotlib.figure.Figure at 0xa8bb0cc0>"
      ]
     },
     "metadata": {},
     "output_type": "display_data"
    },
    {
     "data": {
      "image/png": "[encoded data removed]",
      "text/plain": [
       "<matplotlib.figure.Figure at 0xa84ffc88>"
      ]
     },
     "metadata": {},
     "output_type": "display_data"
    },
    {
     "data": {
      "image/png": "[encoded data removed]",
      "text/plain": [
       "<matplotlib.figure.Figure at 0xa933aa20>"
      ]
     },
     "metadata": {},
     "output_type": "display_data"
    }
   ],
   "source": [
    "for gp, ep in zip(gp_list, epochs_list):\n",
    "    if ep:\n",
    "        for run in ens_list:\n",
    "            hist = hists_ens[run][gp]\n",
    "            plt.plot(hist.history['val_loss'], label=str(run))\n",
    "        plt.title('Mean Squared Error (Validation) - Group ' + str(gp))\n",
    "        plt.legend(); plt.show()        "
   ]
  },
  {
   "cell_type": "code",
   "execution_count": 63,
   "metadata": {
    "scrolled": false
   },
   "outputs": [
    {
     "data": {
      "image/png": "[encoded data removed]",
      "text/plain": [
       "<matplotlib.figure.Figure at 0xa97c72b0>"
      ]
     },
     "metadata": {},
     "output_type": "display_data"
    },
    {
     "data": {
      "image/png": "[encoded data removed]",
      "text/plain": [
       "<matplotlib.figure.Figure at 0xa97e0f60>"
      ]
     },
     "metadata": {},
     "output_type": "display_data"
    },
    {
     "data": {
      "image/png": "[encoded data removed]",
      "text/plain": [
       "<matplotlib.figure.Figure at 0xa98e8080>"
      ]
     },
     "metadata": {},
     "output_type": "display_data"
    }
   ],
   "source": [
    "for gp, ep in zip(gp_list, epochs_list):\n",
    "    if ep:\n",
    "        for run in ens_list:\n",
    "            hist = hists_ens[run][gp]\n",
    "            plt.plot(hist.history['k_smape'], label=str(run))\n",
    "        plt.title('SMAPE (Train) - Group ' + str(gp))\n",
    "        plt.legend(); plt.show()        "
   ]
  },
  {
   "cell_type": "code",
   "execution_count": 64,
   "metadata": {
    "scrolled": false
   },
   "outputs": [
    {
     "data": {
      "image/png": "[encoded data removed]",
      "text/plain": [
       "<matplotlib.figure.Figure at 0xa9866710>"
      ]
     },
     "metadata": {},
     "output_type": "display_data"
    },
    {
     "data": {
      "image/png": "[encoded data removed]",
      "text/plain": [
       "<matplotlib.figure.Figure at 0xa9806f98>"
      ]
     },
     "metadata": {},
     "output_type": "display_data"
    },
    {
     "data": {
      "image/png": "[encoded data removed]",
      "text/plain": [
       "<matplotlib.figure.Figure at 0xa849fe48>"
      ]
     },
     "metadata": {},
     "output_type": "display_data"
    }
   ],
   "source": [
    "for gp, ep in zip(gp_list, epochs_list):\n",
    "    if ep:\n",
    "        for run in ens_list:\n",
    "            hist = hists_ens[run][gp]\n",
    "            plt.plot(hist.history['val_k_smape'], label=str(run))\n",
    "        plt.title('SMAPE (Validation) - Group ' + str(gp))\n",
    "        plt.legend(); plt.show()        "
   ]
  },
  {
   "cell_type": "code",
   "execution_count": 65,
   "metadata": {
    "scrolled": false
   },
   "outputs": [
    {
     "data": {
      "image/png": "[encoded data removed]",
      "text/plain": [
       "<matplotlib.figure.Figure at 0xa97a3eb8>"
      ]
     },
     "metadata": {},
     "output_type": "display_data"
    },
    {
     "data": {
      "image/png": "[encoded data removed]",
      "text/plain": [
       "<matplotlib.figure.Figure at 0xa9932518>"
      ]
     },
     "metadata": {},
     "output_type": "display_data"
    },
    {
     "data": {
      "image/png": "[encoded data removed]",
      "text/plain": [
       "<matplotlib.figure.Figure at 0xa8b989e8>"
      ]
     },
     "metadata": {},
     "output_type": "display_data"
    }
   ],
   "source": [
    "for (hist, gp, ep) in zip(hists, gp_list, epochs_list):\n",
    "    if ep:\n",
    "        plt.plot(hist.history['loss'], label='train')\n",
    "        plt.plot(hist.history['val_loss'], label='validation')\n",
    "        plt.title('Mean Squared Error - ' + str(gp))\n",
    "        plt.legend(); plt.show()"
   ]
  },
  {
   "cell_type": "code",
   "execution_count": 66,
   "metadata": {
    "scrolled": false
   },
   "outputs": [
    {
     "data": {
      "image/png": "[encoded data removed]",
      "text/plain": [
       "<matplotlib.figure.Figure at 0xa96aaf98>"
      ]
     },
     "metadata": {},
     "output_type": "display_data"
    },
    {
     "data": {
      "image/png": "[encoded data removed]",
      "text/plain": [
       "<matplotlib.figure.Figure at 0xa93786a0>"
      ]
     },
     "metadata": {},
     "output_type": "display_data"
    },
    {
     "data": {
      "image/png": "[encoded data removed]",
      "text/plain": [
       "<matplotlib.figure.Figure at 0xa8555a20>"
      ]
     },
     "metadata": {},
     "output_type": "display_data"
    }
   ],
   "source": [
    "for (hist, gp, ep) in zip(hists, gp_list, epochs_list):\n",
    "    if ep:\n",
    "        plt.plot(hist.history['k_smape'], label='train')\n",
    "        plt.plot(hist.history['val_k_smape'], label='validation')\n",
    "        plt.title('SMAPE - ' + str(gp))\n",
    "        plt.legend(); plt.show()"
   ]
  },
  {
   "cell_type": "markdown",
   "metadata": {},
   "source": [
    "## Predict for Input Set (Training Set)"
   ]
  },
  {
   "cell_type": "code",
   "execution_count": 71,
   "metadata": {},
   "outputs": [
    {
     "name": "stdout",
     "output_type": "stream",
     "text": [
      "Run 0: 0 1 2 3 \n",
      "Run 1: 0 1 2 3 \n",
      "Run 2: 0 1 2 3 \n",
      "Run 3: 0 1 2 3 \n",
      "Run 4: 0 1 2 3 \n",
      "Wall time: 1min 7s\n"
     ]
    }
   ],
   "source": [
    "%%time\n",
    "Y_input_pred_list_ens = []\n",
    "for models, run in zip(models_ens, ens_list):\n",
    "    print('Run', run, end=': ')\n",
    "    Y_input_pred_list = []\n",
    "    for (gp, model, X, A) in zip(gp_list, models, X_input_list, A_input_list):\n",
    "        print(gp, end=' ')\n",
    "        Y_input_pred_list.append(model.predict([X, A]))\n",
    "    Y_input_pred_list_ens.append(Y_input_pred_list)\n",
    "    print('')"
   ]
  },
  {
   "cell_type": "code",
   "execution_count": 72,
   "metadata": {
    "collapsed": true
   },
   "outputs": [],
   "source": [
    "input_index_range = np.arange(len(input_gp)); #input_index_range"
   ]
  },
  {
   "cell_type": "code",
   "execution_count": 73,
   "metadata": {
    "collapsed": true
   },
   "outputs": [],
   "source": [
    "# list for original index\n",
    "input_index_list = [input_index_range[input_gp == gp] \n",
    "                     for gp in gp_list]"
   ]
  },
  {
   "cell_type": "code",
   "execution_count": 74,
   "metadata": {
    "scrolled": false
   },
   "outputs": [
    {
     "name": "stdout",
     "output_type": "stream",
     "text": [
      "(27413,) (40041,) (76815,) (794,) "
     ]
    }
   ],
   "source": [
    "for o in input_index_list:\n",
    "    print(o.shape, end=' ')"
   ]
  },
  {
   "cell_type": "code",
   "execution_count": 75,
   "metadata": {
    "collapsed": true
   },
   "outputs": [],
   "source": [
    "input_index_list_comb = np.concatenate(input_index_list); #input_index_list_comb"
   ]
  },
  {
   "cell_type": "code",
   "execution_count": 76,
   "metadata": {
    "collapsed": true
   },
   "outputs": [],
   "source": [
    "Y_input_pred_ens = []\n",
    "for Y_input_pred_list in Y_input_pred_list_ens:\n",
    "    Y_input_pred_comb = np.concatenate(Y_input_pred_list)\n",
    "    Y_input_pred = [0]*len(input_index_list_comb)\n",
    "\n",
    "    for index, y in zip(input_index_list_comb, Y_input_pred_comb):\n",
    "        Y_input_pred[index] = y\n",
    "\n",
    "    Y_input_pred = np.array(Y_input_pred)  # make it an numpy array (which will also make a copy)\n",
    "    Y_input_pred_ens.append(Y_input_pred)\n",
    "\n",
    "del Y_input_pred_comb"
   ]
  },
  {
   "cell_type": "code",
   "execution_count": 77,
   "metadata": {
    "collapsed": true
   },
   "outputs": [],
   "source": [
    "# Inverse transform Y_input_pred to original Y\n",
    "Y_input_pred_ori_ens = []\n",
    "for Y_input_pred in Y_input_pred_ens:\n",
    "    Y_input_pred_ori = unlog(untransform(Y_input_pred, Y_input_center, Y_input_scale))\n",
    "    Y_input_pred_ori_ens.append(Y_input_pred_ori)"
   ]
  },
  {
   "cell_type": "code",
   "execution_count": 78,
   "metadata": {
    "collapsed": true
   },
   "outputs": [],
   "source": [
    "Y_input_pred_ori_ens = np.array(Y_input_pred_ori_ens)"
   ]
  },
  {
   "cell_type": "markdown",
   "metadata": {},
   "source": [
    "## Predict for Output Set"
   ]
  },
  {
   "cell_type": "code",
   "execution_count": 79,
   "metadata": {},
   "outputs": [
    {
     "name": "stdout",
     "output_type": "stream",
     "text": [
      "Run 0: 0 1 2 3 \n",
      "Run 1: 0 1 2 3 \n",
      "Run 2: 0 1 2 3 \n",
      "Run 3: 0 1 2 3 \n",
      "Run 4: 0 1 2 3 \n",
      "Wall time: 44.3 s\n"
     ]
    }
   ],
   "source": [
    "%%time\n",
    "Y_output_pred_list_ens = []\n",
    "for models, run in zip(models_ens, ens_list):\n",
    "    print('Run', run, end=': ')\n",
    "    Y_output_pred_list = []\n",
    "    for (gp, model, X, A) in zip(gp_list, models, X_output_list, A_output_list):\n",
    "        print(gp, end=' ')\n",
    "        Y_output_pred_list.append(model.predict([X, A], batch_size=4096*2))\n",
    "    Y_output_pred_list_ens.append(Y_output_pred_list)\n",
    "    print('')"
   ]
  },
  {
   "cell_type": "markdown",
   "metadata": {},
   "source": [
    "Find the original index"
   ]
  },
  {
   "cell_type": "code",
   "execution_count": 80,
   "metadata": {
    "collapsed": true
   },
   "outputs": [],
   "source": [
    "# list for original index\n",
    "output_index_list = [np.arange(len(output_gp))[output_gp == gp] for gp in gp_list]\n",
    "output_index_list_comb = np.concatenate(output_index_list)"
   ]
  },
  {
   "cell_type": "code",
   "execution_count": 81,
   "metadata": {},
   "outputs": [],
   "source": [
    "Y_output_pred_ens = []\n",
    "for Y_output_pred_list in Y_output_pred_list_ens:\n",
    "    Y_output_pred_comb = np.concatenate(Y_output_pred_list)\n",
    "    Y_output_pred = [0]*len(output_index_list_comb)\n",
    "\n",
    "    for index, y in zip(output_index_list_comb, Y_output_pred_comb):\n",
    "        Y_output_pred[index] = y\n",
    "\n",
    "    Y_output_pred = np.array(Y_output_pred)  # make it an numpy array (which will also make a copy)\n",
    "    Y_output_pred_ens.append(Y_output_pred)\n",
    "\n",
    "del Y_output_pred_comb"
   ]
  },
  {
   "cell_type": "code",
   "execution_count": 82,
   "metadata": {
    "collapsed": true
   },
   "outputs": [],
   "source": [
    "# Inverse transform Y_output_pred to original Y\n",
    "Y_output_pred_ori_ens = []\n",
    "for Y_output_pred in Y_output_pred_ens:\n",
    "    Y_output_pred_ori = unlog(untransform(Y_output_pred, \n",
    "                                          Y_output_center, Y_output_scale))\n",
    "    Y_output_pred_ori_ens.append(Y_output_pred_ori)"
   ]
  },
  {
   "cell_type": "code",
   "execution_count": 83,
   "metadata": {
    "collapsed": true
   },
   "outputs": [],
   "source": [
    "Y_output_pred_ori_ens = np.array(Y_output_pred_ori_ens)"
   ]
  },
  {
   "cell_type": "markdown",
   "metadata": {},
   "source": [
    "## SMAPE Scores"
   ]
  },
  {
   "cell_type": "markdown",
   "metadata": {},
   "source": [
    "### Model Score"
   ]
  },
  {
   "cell_type": "code",
   "execution_count": 84,
   "metadata": {
    "collapsed": true,
    "scrolled": true
   },
   "outputs": [],
   "source": [
    "# SMAPE scores for the model\n",
    "if test_length:\n",
    "    model_smape_ens = []\n",
    "    model_smape_0_ens = []\n",
    "    for Y_output_pred_ori in Y_output_pred_ori_ens:\n",
    "        model_smape = smape(Y_output_raw, Y_output_pred_ori) # SMAPE score excluding nan (Correct one)\n",
    "        model_smape_0 = smape(Y_output_ori, Y_output_pred_ori) # SMAPE assuming nan == 0\n",
    "        \n",
    "        model_smape_ens.append(model_smape)\n",
    "        model_smape_0_ens.append(model_smape_0)\n",
    "    model_smape_ens_mean = np.mean(model_smape_ens)\n",
    "    model_smape_0_ens_mean = np.mean(model_smape_0_ens)\n",
    "    \n",
    "    model_smape_stdev = np.std(model_smape_ens)  # standard deviation of the smape score\n",
    "    model_smape_0_stdev = np.std(model_smape_0_ens)  # standard deviation of the smape score\n",
    "    \n",
    "    model_smape_ens_mean_std = model_smape_stdev / np.sqrt(len(model_smape_ens))"
   ]
  },
  {
   "cell_type": "code",
   "execution_count": 85,
   "metadata": {
    "collapsed": true
   },
   "outputs": [],
   "source": [
    "if test_length:\n",
    "    for model_smape, model_smape_0 in zip(model_smape_ens, model_smape_0_ens):\n",
    "        print('%6.3f' % model_smape, '       ', '%6.3f' % model_smape_0)\n",
    "    print('-----------------------------')\n",
    "    print('%6.3f' % model_smape_ens_mean, '+-%5.3f' % model_smape_stdev, \n",
    "          '%6.3f' % model_smape_0_ens_mean, '+-%5.3f' % model_smape_0_stdev)\n",
    "    print('+-%5.3f' % model_smape_ens_mean_std)"
   ]
  },
  {
   "cell_type": "code",
   "execution_count": 86,
   "metadata": {
    "collapsed": true
   },
   "outputs": [],
   "source": [
    "# SMAPE score for Fibonacci median\n",
    "if test_length:\n",
    "    fib_smape = smape(Y_output_raw, Y_output_fib)\n",
    "    print(fib_smape)"
   ]
  },
  {
   "cell_type": "code",
   "execution_count": 87,
   "metadata": {
    "collapsed": true
   },
   "outputs": [],
   "source": [
    "esmape = smape"
   ]
  },
  {
   "cell_type": "code",
   "execution_count": 88,
   "metadata": {
    "collapsed": true,
    "scrolled": true
   },
   "outputs": [],
   "source": [
    "# Estimated SMAPE scores for the model using training set\n",
    "model_esmape_ens = []\n",
    "model_esmape_0_ens = []\n",
    "for Y_input_pred_ori in Y_input_pred_ori_ens:\n",
    "    model_esmape = esmape(Y_input_raw, Y_input_pred_ori) # SMAPE score excluding nan (Correct one)\n",
    "    model_esmape_0 = esmape(Y_input_ori, Y_input_pred_ori) # SMAPE assuming nan == 0\n",
    "    \n",
    "    model_esmape_ens.append(model_esmape)\n",
    "    model_esmape_0_ens.append(model_esmape_0)\n",
    "model_esmape_ens_mean = np.mean(model_esmape_ens)\n",
    "model_esmape_0_ens_mean = np.mean(model_esmape_0_ens)\n",
    "\n",
    "model_esmape_stdev = np.std(model_esmape_ens)  # standard deviation of the esmape score\n",
    "model_esmape_0_stdev = np.std(model_esmape_0_ens)  # standard deviation of the esmape score\n",
    "\n",
    "model_esmape_ens_mean_std = model_esmape_stdev / np.sqrt(len(model_esmape_ens))"
   ]
  },
  {
   "cell_type": "code",
   "execution_count": 89,
   "metadata": {},
   "outputs": [
    {
     "name": "stdout",
     "output_type": "stream",
     "text": [
      "39.099         42.530\n",
      "39.394         42.853\n",
      "39.057         42.599\n",
      "39.262         42.757\n",
      "39.431         42.772\n",
      "-----------------------------\n",
      "39.249 +-0.151 42.702 +-0.119\n",
      "+-0.067\n"
     ]
    }
   ],
   "source": [
    "for model_esmape, model_esmape_0 in zip(model_esmape_ens, model_esmape_0_ens):\n",
    "    print('%6.3f' % model_esmape, '       ', '%6.3f' % model_esmape_0)\n",
    "print('-----------------------------')\n",
    "print('%6.3f' % model_esmape_ens_mean, '+-%5.3f' % model_esmape_stdev, \n",
    "      '%6.3f' % model_esmape_0_ens_mean, '+-%5.3f' % model_esmape_0_stdev)\n",
    "print('+-%5.3f' % model_esmape_ens_mean_std)"
   ]
  },
  {
   "cell_type": "code",
   "execution_count": 90,
   "metadata": {},
   "outputs": [
    {
     "name": "stdout",
     "output_type": "stream",
     "text": [
      "47.3282\n"
     ]
    }
   ],
   "source": [
    "# SMAPE Est score for Fibonacci median\n",
    "fib_esmape = esmape(Y_input_raw, Y_input_fib)\n",
    "print(fib_esmape)"
   ]
  },
  {
   "cell_type": "markdown",
   "metadata": {},
   "source": [
    "### Group Scores"
   ]
  },
  {
   "cell_type": "code",
   "execution_count": 91,
   "metadata": {
    "collapsed": true
   },
   "outputs": [],
   "source": [
    "# Prediction Y_input in group\n",
    "Y_input_pred_ori_list_ens = [[Y_input_pred_ori[input_gp == gp] for gp in gp_list]\n",
    "                              for Y_input_pred_ori in Y_input_pred_ori_ens]\n",
    "# Prediction Y_output in group\n",
    "Y_output_pred_ori_list_ens = [[Y_output_pred_ori[output_gp == gp] for gp in gp_list]\n",
    "                              for Y_output_pred_ori in Y_output_pred_ori_ens]"
   ]
  },
  {
   "cell_type": "code",
   "execution_count": 92,
   "metadata": {
    "collapsed": true
   },
   "outputs": [],
   "source": [
    "# Fibonacci median in group\n",
    "Y_input_fib_list = [Y_input_fib[input_gp == gp] for gp in gp_list]\n",
    "Y_output_fib_list = [Y_output_fib[output_gp == gp] for gp in gp_list]"
   ]
  },
  {
   "cell_type": "code",
   "execution_count": 93,
   "metadata": {
    "collapsed": true
   },
   "outputs": [],
   "source": [
    "# True Y_input in group\n",
    "# untransformed Y_input with NaN replaced by 0\n",
    "Y_input_ori_list = [Y_input_ori[input_gp == gp] for gp in gp_list]\n",
    "# untransformed Y_input_ori with raw NaN (for SMAPE estimation)\n",
    "Y_input_raw_list = [Y_input_raw[input_gp == gp] for gp in gp_list]"
   ]
  },
  {
   "cell_type": "code",
   "execution_count": 94,
   "metadata": {
    "collapsed": true
   },
   "outputs": [],
   "source": [
    "# True Y_output in group\n",
    "if test_length:\n",
    "    # untransformed Y_input with NaN replaced by 0\n",
    "    Y_output_ori_list = [Y_output_ori[output_gp == gp] for gp in gp_list]\n",
    "    # untransformed Y_input_ori with raw NaN (for SMAPE estimation)\n",
    "    Y_output_raw_list = [Y_output_raw[output_gp == gp] for gp in gp_list]"
   ]
  },
  {
   "cell_type": "code",
   "execution_count": 95,
   "metadata": {},
   "outputs": [
    {
     "name": "stdout",
     "output_type": "stream",
     "text": [
      "Input set group SMAPE: [ 70.25056458  40.66552734  29.4707489   23.56356812]\n"
     ]
    }
   ],
   "source": [
    "# Group estimated scores (input set) for the model\n",
    "gp_input_n = [len(Y) for Y in Y_input_raw_list]\n",
    "# SMAPE with nan values ignored (used by Kaggle)\n",
    "gp_esmape_ens = [[esmape(Y, Y_p) for Y, Y_p in zip(Y_input_raw_list, Y_input_pred_ori_list)]\n",
    "                for Y_input_pred_ori_list in Y_input_pred_ori_list_ens]\n",
    "gp_esmape = gp_esmape_ens[-1]    \n",
    "gp_esmape_mean = np.mean(gp_esmape_ens, axis=0)\n",
    "print('Input set group SMAPE:', gp_esmape_mean)"
   ]
  },
  {
   "cell_type": "code",
   "execution_count": 96,
   "metadata": {
    "collapsed": true
   },
   "outputs": [],
   "source": [
    "# Group scores (output set) for the model\n",
    "if test_length:\n",
    "    gp_output_n = [len(Y) for Y in Y_output_raw_list]\n",
    "    # SMAPE with nan values ignored (used by Kaggle)\n",
    "    gp_smape_ens = [[smape(Y, Y_p) for Y, Y_p in zip(Y_output_raw_list, Y_output_pred_ori_list)]\n",
    "                    for Y_output_pred_ori_list in Y_output_pred_ori_list_ens]\n",
    "    gp_smape = gp_smape_ens[-1]    \n",
    "    gp_smape_mean = np.mean(gp_smape_ens, axis=0)\n",
    "    print('Output set group SMAPE:', gp_smape_mean)"
   ]
  },
  {
   "cell_type": "code",
   "execution_count": 97,
   "metadata": {
    "collapsed": true
   },
   "outputs": [],
   "source": [
    "# Group Estimated score (input set) for Fibonacci median\n",
    "gp_esmape_fib = [esmape(Y, Y_p) for Y, Y_p in zip(Y_input_raw_list, Y_input_fib_list)]"
   ]
  },
  {
   "cell_type": "code",
   "execution_count": 98,
   "metadata": {
    "collapsed": true
   },
   "outputs": [],
   "source": [
    "# Group score (output set) for Fibonacci median\n",
    "if test_length:\n",
    "    gp_smape_fib = [smape(Y, Y_p) for Y, Y_p in zip(Y_output_raw_list, Y_output_fib_list)]"
   ]
  },
  {
   "cell_type": "code",
   "execution_count": 99,
   "metadata": {},
   "outputs": [
    {
     "name": "stdout",
     "output_type": "stream",
     "text": [
      "#### model_modified_CNN Estimated SMAPE (input set)\n",
      "|N_pages |Fibonacci| Average | Model 0 | Model 1 | Model 2 | Model 3 | Model 4 |\n",
      "|--------|---------|---------|---------|---------|---------|---------|---------|\n",
      "|  27413 |  67.261 |  70.251 |  70.304 |  70.138 |  70.179 |  70.514 |  70.119 |\n",
      "|  40041 |  47.214 |  40.666 |  40.744 |  40.528 |  40.440 |  40.729 |  40.887 |\n",
      "|  76815 |  41.531 |  29.471 |  29.143 |  29.842 |  29.265 |  29.382 |  29.722 |\n",
      "|    794 |  41.575 |  23.564 |  23.454 |  23.480 |  23.019 |  23.754 |  24.110 |\n",
      "|  Total |  47.328 |  39.249 |  39.099 |  39.394 |  39.057 |  39.262 |  39.431 |"
     ]
    }
   ],
   "source": [
    "#Estimated gp_score compare\n",
    "print('#### ' + model_name, 'Estimated SMAPE (input set)')\n",
    "print('', end='|')\n",
    "print('N_pages ', 'Fibonacci', ' Average ', sep='|', end='|')\n",
    "for run in ens_list: print(' Model', run, end=' |')\n",
    "print('')\n",
    "print('', end='|')\n",
    "print('--------', '---------', '---------', sep='|', end='|')\n",
    "for run in ens_list: print('---------', end='|')\n",
    "print('')\n",
    "for gp in gp_list:\n",
    "    print('', end='|')\n",
    "    print(' %6d ' % gp_input_n[gp], end='|')\n",
    "    print(' %7.3f ' % gp_esmape_fib[gp], end='|')\n",
    "    print(' %7.3f ' % gp_esmape_mean[gp], end='|')\n",
    "    for run in ens_list:\n",
    "        print(' %7.3f ' % gp_esmape_ens[run][gp], end='|')\n",
    "    print('')\n",
    "print('|  Total ', ' %7.3f ' % fib_esmape, ' %7.3f ' % model_esmape_ens_mean, sep='|', end='|')\n",
    "for run in ens_list:\n",
    "        print(' %7.3f ' % model_esmape_ens[run], end='|')"
   ]
  },
  {
   "cell_type": "code",
   "execution_count": 100,
   "metadata": {
    "collapsed": true
   },
   "outputs": [],
   "source": [
    "if test_length:  # gp_score compare\n",
    "    print('#### ' + model_name, 'SMAPE (output set)')\n",
    "    print('', end='|')\n",
    "    print('N_pages ', 'Fibonacci', ' Average ', sep='|', end='|')\n",
    "    for run in ens_list: print(' Model', run, end=' |')\n",
    "    print('')\n",
    "    print('', end='|')\n",
    "    print('--------', '---------', '---------', sep='|', end='|')\n",
    "    for run in ens_list: print('---------', end='|')\n",
    "    print('')\n",
    "    for gp in gp_list:\n",
    "        print('', end='|')\n",
    "        print(' %6d ' % gp_output_n[gp], end='|')\n",
    "        print(' %7.3f ' % gp_smape_fib[gp], end='|')\n",
    "        print(' %7.3f ' % gp_smape_mean[gp], end='|')\n",
    "        for run in ens_list:\n",
    "            print(' %7.3f ' % gp_smape_ens[run][gp], end='|')\n",
    "        print('')\n",
    "    print('|  Total ', ' %7.3f ' % fib_smape, ' %7.3f ' % model_smape_ens_mean, sep='|', end='|')\n",
    "    for run in ens_list:\n",
    "            print(' %7.3f ' % model_smape_ens[run], end='|')"
   ]
  },
  {
   "cell_type": "markdown",
   "metadata": {},
   "source": [
    "We see Fibonacci median method do better in group 0."
   ]
  },
  {
   "cell_type": "markdown",
   "metadata": {},
   "source": [
    "## Prediction Pre Combine\n",
    "Combine the result of the group 0 from Fibonacci median and the rest from the CNN model"
   ]
  },
  {
   "cell_type": "code",
   "execution_count": 101,
   "metadata": {
    "collapsed": true
   },
   "outputs": [],
   "source": [
    "# Select group 0 from Fibonacci median model\n",
    "fib_mask = (output_gp == 0).reshape(-1,1)"
   ]
  },
  {
   "cell_type": "code",
   "execution_count": 102,
   "metadata": {},
   "outputs": [],
   "source": [
    "Y_output_fib_ori = np.repeat(Y_output_fib, y_length, axis=1)\n",
    "Y_input_fib_ori = np.repeat(Y_input_fib, y_length, axis=1)"
   ]
  },
  {
   "cell_type": "code",
   "execution_count": 103,
   "metadata": {
    "collapsed": true
   },
   "outputs": [],
   "source": [
    "# The combined result for input set\n",
    "Y_input_fmc_ori_ens = []\n",
    "for Y_input_pred_ori in Y_input_pred_ori_ens:\n",
    "    Y_input_fmc_ori = fib_mask * Y_input_fib_ori + (~fib_mask) * Y_input_pred_ori\n",
    "    Y_input_fmc_ori_ens.append(Y_input_fmc_ori)"
   ]
  },
  {
   "cell_type": "code",
   "execution_count": 104,
   "metadata": {
    "collapsed": true
   },
   "outputs": [],
   "source": [
    "# The combined result\n",
    "Y_output_fmc_ori_ens = []\n",
    "for Y_output_pred_ori in Y_output_pred_ori_ens:\n",
    "    Y_output_fmc_ori = fib_mask * Y_output_fib_ori + (~fib_mask) * Y_output_pred_ori\n",
    "    Y_output_fmc_ori_ens.append(Y_output_fmc_ori)"
   ]
  },
  {
   "cell_type": "markdown",
   "metadata": {},
   "source": [
    "#### Pre Combined Score"
   ]
  },
  {
   "cell_type": "code",
   "execution_count": 105,
   "metadata": {
    "collapsed": true
   },
   "outputs": [],
   "source": [
    "if test_length: \n",
    "    fmc_smape_ens = []\n",
    "    for Y_output_fmc_ori in Y_output_fmc_ori_ens:\n",
    "        fmc_smape = smape(Y_output_fmc_ori, Y_output_raw)\n",
    "        fmc_smape_ens.append(fmc_smape)        \n",
    "    fmc_smape_ens_mean = np.mean(fmc_smape_ens)"
   ]
  },
  {
   "cell_type": "code",
   "execution_count": 106,
   "metadata": {
    "collapsed": true
   },
   "outputs": [],
   "source": [
    "fmc_esmape_ens = []\n",
    "for Y_input_fmc_ori in Y_input_fmc_ori_ens:\n",
    "    fmc_esmape = esmape(Y_input_fmc_ori, Y_input_raw)\n",
    "    fmc_esmape_ens.append(fmc_esmape)        \n",
    "fmc_esmape_ens_mean = np.mean(fmc_esmape_ens)"
   ]
  },
  {
   "cell_type": "code",
   "execution_count": 107,
   "metadata": {},
   "outputs": [
    {
     "name": "stdout",
     "output_type": "stream",
     "text": [
      "### Group combined SMAPE for input set\n",
      "38.859 (39.099) - model_modified_CNN Est 0\n",
      "39.194 (39.394) - model_modified_CNN Est 1\n",
      "38.846 (39.057) - model_modified_CNN Est 2\n",
      "38.997 (39.262) - model_modified_CNN Est 3\n",
      "39.225 (39.431) - model_modified_CNN Est 4\n",
      "39.024 (39.249) - model_modified_CNN Est Average\n"
     ]
    }
   ],
   "source": [
    "print('### Group combined SMAPE for input set')\n",
    "for run, fmc_esmape, model_esmape in zip(ens_list, fmc_esmape_ens, model_esmape_ens):\n",
    "    print('%6.3f' % fmc_esmape, '(%6.3f)' % model_esmape, '-', model_name, 'Est', run)\n",
    "print('%6.3f' % fmc_esmape_ens_mean, '(%6.3f)' % model_esmape_ens_mean, '-', model_name, 'Est', 'Average')"
   ]
  },
  {
   "cell_type": "code",
   "execution_count": 108,
   "metadata": {
    "collapsed": true
   },
   "outputs": [],
   "source": [
    "if test_length: \n",
    "    print('### Group combined SMAPE for output set')\n",
    "    for run, fmc_smape, model_smape in zip(ens_list, fmc_smape_ens, model_smape_ens):\n",
    "        print('%6.3f' % fmc_smape, '(%6.3f)' % model_smape, '-', model_name, run)\n",
    "    print('%6.3f' % fmc_smape_ens_mean, '(%6.3f)' % model_smape_ens_mean, '-', model_name, 'Average')"
   ]
  },
  {
   "cell_type": "markdown",
   "metadata": {},
   "source": [
    "## Ensemble Learning"
   ]
  },
  {
   "cell_type": "markdown",
   "metadata": {},
   "source": [
    "### Ensemble Median\n",
    "Take ensemble median amount all the CNN models."
   ]
  },
  {
   "cell_type": "code",
   "execution_count": 109,
   "metadata": {},
   "outputs": [],
   "source": [
    "Y_input_pred_ori_ens_med = np.median(Y_input_pred_ori_ens, axis=0)\n",
    "Y_output_pred_ori_ens_med = np.median(Y_output_pred_ori_ens, axis=0)"
   ]
  },
  {
   "cell_type": "code",
   "execution_count": 110,
   "metadata": {},
   "outputs": [
    {
     "name": "stdout",
     "output_type": "stream",
     "text": [
      "Ensemble SMAPE for input set: 38.6974\n"
     ]
    }
   ],
   "source": [
    "ens_med_esmape = esmape(Y_input_pred_ori_ens_med, Y_input_raw)\n",
    "print('Ensemble SMAPE for input set:', ens_med_esmape)\n",
    "if test_length:\n",
    "    ens_med_smape = smape(Y_output_pred_ori_ens_med, Y_output_raw)\n",
    "    print('Ensemble SMAPE for input set:', ens_med_smape)"
   ]
  },
  {
   "cell_type": "markdown",
   "metadata": {},
   "source": [
    "### Ensemble Group Combined with Fibonacci Median"
   ]
  },
  {
   "cell_type": "code",
   "execution_count": 111,
   "metadata": {
    "collapsed": true
   },
   "outputs": [],
   "source": [
    "Y_input_f_omed  = fib_mask * Y_input_fib_ori + (~fib_mask) * Y_input_pred_ori_ens_med\n",
    "Y_output_f_omed  = fib_mask * Y_output_fib_ori + (~fib_mask) * Y_output_pred_ori_ens_med"
   ]
  },
  {
   "cell_type": "markdown",
   "metadata": {},
   "source": [
    "## All Model Scores"
   ]
  },
  {
   "cell_type": "code",
   "execution_count": 112,
   "metadata": {
    "collapsed": true
   },
   "outputs": [],
   "source": [
    "# Ensemble Group Combined SMAPE for input set\n",
    "f_omed_esmape = esmape(Y_input_raw, Y_input_f_omed)\n",
    "if test_length:  # Ensemble Group Combined SMAPE for output set\n",
    "    f_omed_smape = smape(Y_output_raw, Y_output_f_omed)"
   ]
  },
  {
   "cell_type": "code",
   "execution_count": 113,
   "metadata": {},
   "outputs": [
    {
     "name": "stdout",
     "output_type": "stream",
     "text": [
      "### Ensemble Group combined SMAPE for input set\n",
      "38.526 (38.697) - model_modified_CNN Est ori_ensemble_median\n",
      "39.024 (39.249) - model_modified_CNN Est Average\n",
      "38.859 (39.099) - model_modified_CNN Est 0\n",
      "39.194 (39.394) - model_modified_CNN Est 1\n",
      "38.846 (39.057) - model_modified_CNN Est 2\n",
      "38.997 (39.262) - model_modified_CNN Est 3\n",
      "39.225 (39.431) - model_modified_CNN Est 4\n"
     ]
    }
   ],
   "source": [
    "print('### Ensemble Group combined SMAPE for input set')\n",
    "print('%6.3f' % f_omed_esmape, '(%6.3f)' % ens_med_esmape,'-', model_name, 'Est', 'ori_ensemble_median')\n",
    "print('%6.3f' % fmc_esmape_ens_mean, '(%6.3f)' % model_esmape_ens_mean, '-', model_name, 'Est', 'Average')\n",
    "for run, fmc_esmape, model_esmape in zip(ens_list, fmc_esmape_ens, model_esmape_ens):\n",
    "    print('%6.3f' % fmc_esmape, '(%6.3f)' % model_esmape, '-', model_name, 'Est', run)"
   ]
  },
  {
   "cell_type": "code",
   "execution_count": 114,
   "metadata": {
    "collapsed": true,
    "scrolled": true
   },
   "outputs": [],
   "source": [
    "if test_length:\n",
    "    print('### Ensemble Group combined SMAPE for output set')\n",
    "    print('%6.3f' % f_omed_smape, '(%6.3f)' % ens_med_smape,'-', model_name, 'ori_ensemble_median')\n",
    "    print('%6.3f' % fmc_smape_ens_mean, '(%6.3f)' % model_smape_ens_mean, '-', model_name, 'Average')\n",
    "    for run, fmc_smape, model_smape in zip(ens_list, fmc_smape_ens, model_smape_ens):\n",
    "        print('%6.3f' % fmc_smape, '(%6.3f)' % model_smape, '-', model_name, run)"
   ]
  },
  {
   "cell_type": "markdown",
   "metadata": {},
   "source": [
    "## All Group Scores"
   ]
  },
  {
   "cell_type": "code",
   "execution_count": 115,
   "metadata": {
    "collapsed": true
   },
   "outputs": [],
   "source": [
    "# ensemble result Y_input in each group\n",
    "Y_input_pred_ori_ens_med_list = [Y_input_pred_ori_ens_med[input_gp == gp] for gp in gp_list]\n",
    "\n",
    "# ensemble result Y_output in each group\n",
    "Y_output_pred_ori_ens_med_list = [Y_output_pred_ori_ens_med[output_gp == gp] for gp in gp_list]"
   ]
  },
  {
   "cell_type": "code",
   "execution_count": 116,
   "metadata": {
    "collapsed": true
   },
   "outputs": [],
   "source": [
    "# Group Estimated SMAPE scores\n",
    "gp_omed_esmape = [esmape(Y, Y_p) for Y, Y_p in zip(Y_input_raw_list, Y_input_pred_ori_ens_med_list)]\n",
    "# Group SMAPE scores\n",
    "if test_length:\n",
    "    gp_omed_smape = [smape(Y, Y_p) for Y, Y_p in zip(Y_output_raw_list, Y_output_pred_ori_ens_med_list)]"
   ]
  },
  {
   "cell_type": "code",
   "execution_count": 117,
   "metadata": {},
   "outputs": [
    {
     "name": "stdout",
     "output_type": "stream",
     "text": [
      "#### model_modified_CNN Estimated\n",
      "| N_pages|Fibonacci|Ens Media| Average | Model 0 | Model 1 | Model 2 | Model 3 | Model 4 |\n",
      "|--------|---------|---------|---------|---------|---------|---------|---------|---------|\n",
      "|  27413 |  67.261 |  69.984 |  70.251 |  70.304 |  70.138 |  70.179 |  70.514 |  70.119 |\n",
      "|  40041 |  47.214 |  40.085 |  40.666 |  40.744 |  40.528 |  40.440 |  40.729 |  40.887 |\n",
      "|  76815 |  41.531 |  28.860 |  29.471 |  29.143 |  29.842 |  29.265 |  29.382 |  29.722 |\n",
      "|    794 |  41.575 |  22.059 |  23.564 |  23.454 |  23.480 |  23.019 |  23.754 |  24.110 |\n",
      "|Over All|  47.328 |  38.526 |  39.249 |  39.099 |  39.394 |  39.057 |  39.262 |  39.431 |"
     ]
    }
   ],
   "source": [
    "# The Estimated gp score\n",
    "print('#### ' + model_name, 'Estimated')\n",
    "print('', end='|')\n",
    "print(' N_pages', 'Fibonacci', 'Ens Media', ' Average ', sep='|', end='|')\n",
    "for run in ens_list: print(' Model', run, end=' |')\n",
    "print('')\n",
    "print('', end='|')\n",
    "print('--------', '---------', '---------', '---------', sep='|', end='|')\n",
    "for run in ens_list: print('---------', end='|')\n",
    "print('')\n",
    "for gp in gp_list:\n",
    "    print('', end='|')\n",
    "    print(' %6d ' % gp_input_n[gp], end='|')\n",
    "    print(' %7.3f ' % gp_esmape_fib[gp], end='|')\n",
    "    print(' %7.3f ' % gp_omed_esmape[gp], end='|')\n",
    "    print(' %7.3f ' % gp_esmape_mean[gp], end='|')\n",
    "    for run in ens_list:\n",
    "        print(' %7.3f ' % gp_esmape_ens[run][gp], end='|')\n",
    "    print('')\n",
    "print('|Over All', ' %7.3f ' % fib_esmape, ' %7.3f ' % f_omed_esmape,\n",
    "      ' %7.3f ' % model_esmape_ens_mean, sep='|', end='|')\n",
    "for run in ens_list:\n",
    "        print(' %7.3f ' % model_esmape_ens[run], end='|')\n",
    "\n",
    "# Note The over all score for ensemble median (Ens Media) is the one after combining with \n",
    "# Fibonacci median model not the total score"
   ]
  },
  {
   "cell_type": "code",
   "execution_count": 118,
   "metadata": {
    "collapsed": true,
    "scrolled": true
   },
   "outputs": [],
   "source": [
    "if test_length:  # The_gp_score\n",
    "    print('#### ' + model_name)\n",
    "    print('', end='|')\n",
    "    print(' N_pages', 'Fibonacci', 'Ens Media', ' Average ', sep='|', end='|')\n",
    "    for run in ens_list: print(' Model', run, end=' |')\n",
    "    print('')\n",
    "    print('', end='|')\n",
    "    print('--------', '---------', '---------', '---------', sep='|', end='|')\n",
    "    for run in ens_list: print('---------', end='|')\n",
    "    print('')\n",
    "    for gp in gp_list:\n",
    "        print('', end='|')\n",
    "        print(' %6d ' % gp_output_n[gp], end='|')\n",
    "        print(' %7.3f ' % gp_smape_fib[gp], end='|')\n",
    "        print(' %7.3f ' % gp_omed_smape[gp], end='|')\n",
    "        print(' %7.3f ' % gp_smape_mean[gp], end='|')\n",
    "        for run in ens_list:\n",
    "            print(' %7.3f ' % gp_smape_ens[run][gp], end='|')\n",
    "        print('')\n",
    "    print('|Over All', ' %7.3f ' % fib_smape, ' %7.3f ' % f_omed_smape,\n",
    "          ' %7.3f ' % model_smape_ens_mean, sep='|', end='|')\n",
    "    for run in ens_list:\n",
    "            print(' %7.3f ' % model_smape_ens[run], end='|')\n",
    "\n",
    "# Note The over all score for ensemble median (Ens Media) is the one after combining with \n",
    "# Fibonacci median model not the total score"
   ]
  },
  {
   "cell_type": "markdown",
   "metadata": {},
   "source": [
    "## Optimize Group Models\n",
    "Pages in one group could be predicted better by the models trained in other groups."
   ]
  },
  {
   "cell_type": "markdown",
   "metadata": {},
   "source": [
    "### Group Models in other Groups"
   ]
  },
  {
   "cell_type": "code",
   "execution_count": 119,
   "metadata": {},
   "outputs": [
    {
     "name": "stdout",
     "output_type": "stream",
     "text": [
      "Wall time: 3min 1s\n"
     ]
    }
   ],
   "source": [
    "%%time\n",
    "if test_length == 0:\n",
    "    Y_input_all_ori_list_ens = unlog(np.array([[untransform(model.predict([X_input, A_input], batch_size=4096*2), \n",
    "                                                            Y_input_center, input_scale) \n",
    "                                                for model in models] for models in models_ens]))\n",
    "#Takes 4 min on PC and NB"
   ]
  },
  {
   "cell_type": "code",
   "execution_count": 120,
   "metadata": {},
   "outputs": [
    {
     "name": "stdout",
     "output_type": "stream",
     "text": [
      "Wall time: 3min 2s\n"
     ]
    }
   ],
   "source": [
    "%%time\n",
    "Y_output_all_ori_list_ens = unlog(np.array([[untransform(model.predict([X_output, A_output], batch_size=4096*2), \n",
    "                                                         Y_output_center, output_scale) \n",
    "                                             for model in models] for models in models_ens]))\n",
    "#Takes 4 min on PC and NB"
   ]
  },
  {
   "cell_type": "code",
   "execution_count": 121,
   "metadata": {},
   "outputs": [],
   "source": [
    "#Take Ensemble median\n",
    "Y_output_all_ori_list_ens_med = np.median(Y_output_all_ori_list_ens, axis=0)\n",
    "if test_length == 0:\n",
    "    Y_input_all_ori_list_ens_med = np.median(Y_input_all_ori_list_ens, axis=0)"
   ]
  },
  {
   "cell_type": "code",
   "execution_count": 122,
   "metadata": {
    "collapsed": true
   },
   "outputs": [],
   "source": [
    "#Group SMAPE for each group models (input set)\n",
    "#row index: group model; column index: group of Y\n",
    "if test_length == 0:\n",
    "    esmape_gpm_gp_ens_med = [[esmape(Y, Y_p[input_gp == gp]) for gp, Y in zip(gp_list, Y_input_raw_list)] \n",
    "                            for Y_p in Y_input_all_ori_list_ens_med]"
   ]
  },
  {
   "cell_type": "code",
   "execution_count": 123,
   "metadata": {
    "collapsed": true
   },
   "outputs": [],
   "source": [
    "#Group SMAPE for each group models (output set)\n",
    "#row index: group model; column index: group of Y\n",
    "if test_length:\n",
    "    smape_gpm_gp_ens_med = [[smape(Y, Y_p[output_gp == gp]) for gp, Y in zip(gp_list, Y_output_raw_list)] \n",
    "                            for Y_p in Y_output_all_ori_list_ens_med]"
   ]
  },
  {
   "cell_type": "code",
   "execution_count": 124,
   "metadata": {},
   "outputs": [
    {
     "name": "stdout",
     "output_type": "stream",
     "text": [
      "Ens. Median   | group 0| group 1| group 2| group 3|\n",
      "--------------|--------|--------|--------|--------|\n",
      "group model 0 |  69.98 |  47.23 |  41.56 |  41.67 |\n",
      "group model 1 |  69.90 |  40.08 |  36.06 |  40.77 |\n",
      "group model 2 |  73.06 |  44.14 |  28.86 |  29.83 |\n",
      "group model 3 |  79.95 |  52.05 |  39.49 |  22.06 |\n"
     ]
    }
   ],
   "source": [
    "if test_length:\n",
    "    print('Ens. Median   ', end='|')\n",
    "    for j in range(len(smape_gpm_gp_ens_med[0])): print(' group', j, end='|')\n",
    "    print('')\n",
    "    print('--------------', end='|')\n",
    "    for j in range(len(smape_gpm_gp_ens_med[0])): print('--------', end='|')\n",
    "    print('')\n",
    "    for i in range(len(smape_gpm_gp_ens_med)):\n",
    "        print('group model', i, end=' |')\n",
    "        for j in range(len(smape_gpm_gp_ens_med[0])):\n",
    "            print(' %6.2f ' % smape_gpm_gp_ens_med[i][j], end='|')\n",
    "        print('')\n",
    "else:\n",
    "    print('Ens. Median   ', end='|')\n",
    "    for j in range(len(esmape_gpm_gp_ens_med[0])): print(' group', j, end='|')\n",
    "    print('')\n",
    "    print('--------------', end='|')\n",
    "    for j in range(len(esmape_gpm_gp_ens_med[0])): print('--------', end='|')\n",
    "    print('')\n",
    "    for i in range(len(esmape_gpm_gp_ens_med)):\n",
    "        print('group model', i, end=' |')\n",
    "        for j in range(len(esmape_gpm_gp_ens_med[0])):\n",
    "            print(' %6.2f ' % esmape_gpm_gp_ens_med[i][j], end='|')\n",
    "        print('')"
   ]
  },
  {
   "cell_type": "markdown",
   "metadata": {},
   "source": [
    "In validation mode, group 3 do better in group model 2."
   ]
  },
  {
   "cell_type": "code",
   "execution_count": 125,
   "metadata": {},
   "outputs": [
    {
     "name": "stdout",
     "output_type": "stream",
     "text": [
      "  69.98 |  40.08 |  28.86 |  22.06 |"
     ]
    }
   ],
   "source": [
    "if test_length: \n",
    "    for x in gp_omed_smape: print(' %6.2f ' % x, end='|')\n",
    "else: \n",
    "    for x in gp_omed_esmape: print(' %6.2f ' % x, end='|')"
   ]
  },
  {
   "cell_type": "code",
   "execution_count": 126,
   "metadata": {},
   "outputs": [
    {
     "name": "stdout",
     "output_type": "stream",
     "text": [
      "  67.26 |  47.21 |  41.53 |  41.57 |"
     ]
    }
   ],
   "source": [
    "if test_length: \n",
    "    for x in gp_smape_fib: print(' %6.2f ' % x, end='|')\n",
    "else: \n",
    "    for x in gp_esmape_fib: print(' %6.2f ' % x, end='|')"
   ]
  },
  {
   "cell_type": "markdown",
   "metadata": {},
   "source": [
    "### Optimized Group Models"
   ]
  },
  {
   "cell_type": "code",
   "execution_count": 127,
   "metadata": {},
   "outputs": [
    {
     "name": "stdout",
     "output_type": "stream",
     "text": [
      "Optimized group model list = [0,1,2,2,]\n"
     ]
    }
   ],
   "source": [
    "if test_length:\n",
    "    gpm_list = np.argmin(smape_gpm_gp_ens_med,axis=0)\n",
    "else:\n",
    "    gpm_list = np.array([0,1,2,2])  # Use group model 2 for group 3\n",
    "\n",
    "print('Optimized group model list = [', end='')\n",
    "for x in gpm_list: print(x, end=',')\n",
    "print(']')"
   ]
  },
  {
   "cell_type": "code",
   "execution_count": 128,
   "metadata": {},
   "outputs": [],
   "source": [
    "gpm_mask = np.array([gpm_list == gp for gp in gp_list]).T\n",
    "Y_output_ori_list_ens_med_temp = np.tensordot(gpm_mask, Y_output_all_ori_list_ens_med, axes=([1],[0]))"
   ]
  },
  {
   "cell_type": "code",
   "execution_count": 129,
   "metadata": {},
   "outputs": [],
   "source": [
    "gp_mask = np.array([output_gp == gp for gp in gp_list])\n",
    "gp_mask = gp_mask.reshape(len(gp_mask), len(gp_mask[0]), 1)\n",
    "Y_output_ori_list_ens_med_temp_mask = gp_mask * Y_output_ori_list_ens_med_temp\n",
    "Y_output_gpm_ens_med = np.sum(Y_output_ori_list_ens_med_temp_mask, axis=0)"
   ]
  },
  {
   "cell_type": "code",
   "execution_count": 130,
   "metadata": {
    "collapsed": true
   },
   "outputs": [],
   "source": [
    "del Y_output_ori_list_ens_med_temp\n",
    "del Y_output_ori_list_ens_med_temp_mask"
   ]
  },
  {
   "cell_type": "code",
   "execution_count": 131,
   "metadata": {
    "collapsed": true
   },
   "outputs": [],
   "source": [
    "if test_length: \n",
    "    gpm_ens_smape = smape(Y_output_raw, Y_output_gpm_ens_med)\n",
    "    print(gpm_ens_smape, ens_med_smape)"
   ]
  },
  {
   "cell_type": "markdown",
   "metadata": {},
   "source": [
    "#### Group scores"
   ]
  },
  {
   "cell_type": "code",
   "execution_count": 132,
   "metadata": {
    "collapsed": true
   },
   "outputs": [],
   "source": [
    "if test_length: Y_output_gpm_ens_med_list = [Y_output_gpm_ens_med[output_gp == gp] for gp in gp_list]"
   ]
  },
  {
   "cell_type": "code",
   "execution_count": 133,
   "metadata": {
    "collapsed": true
   },
   "outputs": [],
   "source": [
    "# Group SMAPE scores\n",
    "if test_length:\n",
    "    gp_gpm_ens_med_smape = [smape(Y, Y_p) for Y, Y_p in zip(Y_output_raw_list, Y_output_gpm_ens_med_list)]"
   ]
  },
  {
   "cell_type": "code",
   "execution_count": 134,
   "metadata": {
    "collapsed": true
   },
   "outputs": [],
   "source": [
    "if test_length:\n",
    "    #print('#### ' + model_name + 'group model optimized')\n",
    "    #print('', end='|')\n",
    "    print(' N_pages', 'Fibonacci', 'GPM Optim', 'Ens Media', ' Average ', sep='|', end='|')\n",
    "    #or run in ens_list: print(' Model', run, end=' |')\n",
    "    print('')\n",
    "    print('', end='|')\n",
    "    print('--------', '---------', '---------', '---------', '---------', sep='|', end='|')\n",
    "    #for run in ens_list: print('---------', end='|')\n",
    "    print('')\n",
    "    for gp in gp_list:\n",
    "        print('', end='|')\n",
    "        print(' %6d ' % gp_output_n[gp], end='|')\n",
    "        print(' %7.3f ' % gp_smape_fib[gp], end='|')\n",
    "        print(' %7.3f ' % gp_gpm_ens_med_smape[gp], end='|')\n",
    "        print(' %7.3f ' % gp_omed_smape[gp], end='|')\n",
    "        print(' %7.3f ' % gp_smape_mean[gp], end='|')\n",
    "        print('')\n",
    "    #print('|Over All', ' %7.3f ' % fib_smape, ' %7.3f ' % f_omed_smape,\n",
    "    #      ' %7.3f ' % model_smape_ens_mean, sep='|', end='|')    \n",
    "# Note The over all score for ensemble median (Ens Media) is the one after combining with \n",
    "# Fibonacci median model not the total score"
   ]
  },
  {
   "cell_type": "markdown",
   "metadata": {},
   "source": [
    "#### Combined with Fibonacci Median Result\n",
    "Our final output prediction"
   ]
  },
  {
   "cell_type": "code",
   "execution_count": 135,
   "metadata": {
    "collapsed": true
   },
   "outputs": [],
   "source": [
    "# Our final output prediction\n",
    "Y_output_f_gpm = fib_mask * Y_output_fib_ori + (~fib_mask) * Y_output_gpm_ens_med"
   ]
  },
  {
   "cell_type": "code",
   "execution_count": 136,
   "metadata": {
    "collapsed": true
   },
   "outputs": [],
   "source": [
    "if test_length:  # SMAPE for final output set\n",
    "    f_gpm_ens_smape = smape(Y_output_raw, Y_output_f_gpm)\n",
    "    print('%6.3f' % f_gpm_ens_smape, '(%6.3f)' % gpm_ens_smape, '-', model_name, 'GPM Optim Ens')"
   ]
  },
  {
   "cell_type": "markdown",
   "metadata": {},
   "source": [
    "### Free some memory"
   ]
  },
  {
   "cell_type": "code",
   "execution_count": 137,
   "metadata": {},
   "outputs": [
    {
     "data": {
      "text/plain": [
       "87356"
      ]
     },
     "execution_count": 137,
     "metadata": {},
     "output_type": "execute_result"
    }
   ],
   "source": [
    "del Y_input_log\n",
    "del Y_input_raw_log\n",
    "del Y_input_pred\n",
    "del Y_input_pred_ori\n",
    "del Y_input_pred_ori_ens\n",
    "del Y_input_pred_ori_ens_med\n",
    "del Y_input_fib_ori\n",
    "del Y_input_fmc_ori\n",
    "del Y_input_f_omed\n",
    "del Y_input_all_ori_list_ens_med\n",
    "gc.collect()"
   ]
  },
  {
   "cell_type": "code",
   "execution_count": 138,
   "metadata": {},
   "outputs": [
    {
     "data": {
      "text/plain": [
       "0"
      ]
     },
     "execution_count": 138,
     "metadata": {},
     "output_type": "execute_result"
    }
   ],
   "source": [
    "if test_length == 0: del Y_input_all_ori_list_ens\n",
    "gc.collect()"
   ]
  },
  {
   "cell_type": "code",
   "execution_count": 139,
   "metadata": {},
   "outputs": [
    {
     "name": "stdout",
     "output_type": "stream",
     "text": [
      "Variable                        Type       Data/Info\n",
      "----------------------------------------------------\n",
      "A                               ndarray    675x2: 1350 elems, type `float32`, 5400 bytes\n",
      "A_in                            ndarray    794x2: 1588 elems, type `float32`, 6352 bytes\n",
      "A_in_sh                         ndarray    794x2: 1588 elems, type `float32`, 6352 bytes\n",
      "A_input                         ndarray    145063x2: 290126 elems, type `float32`, 1160504 bytes (1.1067428588867188 Mb)\n",
      "A_output                        ndarray    145063x2: 290126 elems, type `float32`, 1160504 bytes (1.1067428588867188 Mb)\n",
      "X                               ndarray    675x64: 43200 elems, type `float32`, 172800 bytes (168.75 kb)\n",
      "X_in                            ndarray    794x64: 50816 elems, type `float32`, 203264 bytes (198.5 kb)\n",
      "X_in_sh                         ndarray    794x64: 50816 elems, type `float32`, 203264 bytes (198.5 kb)\n",
      "X_input                         ndarray    145063x64: 9284032 elems, type `float32`, 37136128 bytes (35.415771484375 Mb)\n",
      "X_input_center                  ndarray    145063x1: 145063 elems, type `float32`, 580252 bytes (566.65234375 kb)\n",
      "X_input_log                     ndarray    145063x64: 9284032 elems, type `float32`, 37136128 bytes (35.415771484375 Mb)\n",
      "X_input_num                     ndarray    145063x64: 9284032 elems, type `float32`, 37136128 bytes (35.415771484375 Mb)\n",
      "X_input_ori                     ndarray    145063x64: 9284032 elems, type `float32`, 37136128 bytes (35.415771484375 Mb)\n",
      "X_input_raw                     ndarray    145063x64: 9284032 elems, type `float32`, 37136128 bytes (35.415771484375 Mb)\n",
      "X_input_raw_log                 ndarray    145063x64: 9284032 elems, type `float32`, 37136128 bytes (35.415771484375 Mb)\n",
      "X_input_scale                   ndarray    145063x1: 145063 elems, type `float32`, 580252 bytes (566.65234375 kb)\n",
      "X_output                        ndarray    145063x64: 9284032 elems, type `float32`, 37136128 bytes (35.415771484375 Mb)\n",
      "X_output_center                 ndarray    145063x1: 145063 elems, type `float32`, 580252 bytes (566.65234375 kb)\n",
      "X_output_log                    ndarray    145063x64: 9284032 elems, type `float32`, 37136128 bytes (35.415771484375 Mb)\n",
      "X_output_num                    ndarray    145063x64: 9284032 elems, type `float32`, 37136128 bytes (35.415771484375 Mb)\n",
      "X_output_ori                    ndarray    145063x64: 9284032 elems, type `float32`, 37136128 bytes (35.415771484375 Mb)\n",
      "X_output_raw                    ndarray    145063x64: 9284032 elems, type `float32`, 37136128 bytes (35.415771484375 Mb)\n",
      "X_output_raw_log                ndarray    145063x64: 9284032 elems, type `float32`, 37136128 bytes (35.415771484375 Mb)\n",
      "X_output_scale                  ndarray    145063x1: 145063 elems, type `float32`, 580252 bytes (566.65234375 kb)\n",
      "Y_in                            ndarray    794x64: 50816 elems, type `float32`, 203264 bytes (198.5 kb)\n",
      "Y_in_sh                         ndarray    794x64: 50816 elems, type `float32`, 203264 bytes (198.5 kb)\n",
      "Y_input                         ndarray    145063x64: 9284032 elems, type `float32`, 37136128 bytes (35.415771484375 Mb)\n",
      "Y_input_center                  ndarray    145063x1: 145063 elems, type `float32`, 580252 bytes (566.65234375 kb)\n",
      "Y_input_fib                     ndarray    145063x1: 145063 elems, type `float32`, 580252 bytes (566.65234375 kb)\n",
      "Y_input_num                     ndarray    145063x64: 9284032 elems, type `float32`, 37136128 bytes (35.415771484375 Mb)\n",
      "Y_input_ori                     ndarray    145063x64: 9284032 elems, type `float32`, 37136128 bytes (35.415771484375 Mb)\n",
      "Y_input_raw                     ndarray    145063x64: 9284032 elems, type `float32`, 37136128 bytes (35.415771484375 Mb)\n",
      "Y_input_scale                   ndarray    145063x1: 145063 elems, type `float32`, 580252 bytes (566.65234375 kb)\n",
      "Y_output_all_ori_list_ens       ndarray    5x4x145063x64: 185680640 elems, type `float32`, 742722560 bytes (708.3154296875 Mb)\n",
      "Y_output_all_ori_list_ens_med   ndarray    4x145063x64: 37136128 elems, type `float32`, 148544512 bytes (141.6630859375 Mb)\n",
      "Y_output_center                 ndarray    145063x1: 145063 elems, type `float32`, 580252 bytes (566.65234375 kb)\n",
      "Y_output_f_gpm                  ndarray    145063x64: 9284032 elems, type `float32`, 37136128 bytes (35.415771484375 Mb)\n",
      "Y_output_f_omed                 ndarray    145063x64: 9284032 elems, type `float32`, 37136128 bytes (35.415771484375 Mb)\n",
      "Y_output_fib                    ndarray    145063x1: 145063 elems, type `float32`, 580252 bytes (566.65234375 kb)\n",
      "Y_output_fib_ori                ndarray    145063x64: 9284032 elems, type `float32`, 37136128 bytes (35.415771484375 Mb)\n",
      "Y_output_fmc_ori                ndarray    145063x64: 9284032 elems, type `float32`, 37136128 bytes (35.415771484375 Mb)\n",
      "Y_output_gpm_ens_med            ndarray    145063x64: 9284032 elems, type `float32`, 37136128 bytes (35.415771484375 Mb)\n",
      "Y_output_pred                   ndarray    145063x64: 9284032 elems, type `float32`, 37136128 bytes (35.415771484375 Mb)\n",
      "Y_output_pred_ori               ndarray    145063x64: 9284032 elems, type `float32`, 37136128 bytes (35.415771484375 Mb)\n",
      "Y_output_pred_ori_ens           ndarray    5x145063x64: 46420160 elems, type `float32`, 185680640 bytes (177.078857421875 Mb)\n",
      "Y_output_pred_ori_ens_med       ndarray    145063x64: 9284032 elems, type `float32`, 37136128 bytes (35.415771484375 Mb)\n",
      "Y_output_scale                  ndarray    145063x1: 145063 elems, type `float32`, 580252 bytes (566.65234375 kb)\n",
      "fib_input_median                ndarray    145063: 145063 elems, type `float32`, 580252 bytes (566.65234375 kb)\n",
      "fib_mask                        ndarray    145063x1: 145063 elems, type `bool`, 145063 bytes (141.6630859375 kb)\n",
      "fib_output_median               ndarray    145063: 145063 elems, type `float32`, 580252 bytes (566.65234375 kb)\n",
      "gp_esmape_mean                  ndarray    4: 4 elems, type `float32`, 16 bytes\n",
      "gp_mask                         ndarray    4x145063x1: 580252 elems, type `bool`, 580252 bytes (566.65234375 kb)\n",
      "gpm_list                        ndarray    4: 4 elems, type `int32`, 16 bytes\n",
      "gpm_mask                        ndarray    4x4: 16 elems, type `bool`, 16 bytes\n",
      "input_center                    ndarray    145063x1: 145063 elems, type `float32`, 580252 bytes (566.65234375 kb)\n",
      "input_gp                        ndarray    145063: 145063 elems, type `int32`, 580252 bytes (566.65234375 kb)\n",
      "input_index_list_comb           ndarray    145063: 145063 elems, type `int32`, 580252 bytes (566.65234375 kb)\n",
      "input_index_range               ndarray    145063: 145063 elems, type `int32`, 580252 bytes (566.65234375 kb)\n",
      "input_scale                     ndarray    145063x1: 145063 elems, type `float32`, 580252 bytes (566.65234375 kb)\n",
      "o                               ndarray    794: 794 elems, type `int32`, 3176 bytes\n",
      "output_center                   ndarray    145063x1: 145063 elems, type `float32`, 580252 bytes (566.65234375 kb)\n",
      "output_df_dates_all             ndarray    100: 100 elems, type `datetime64[D]`, 800 bytes\n",
      "output_gp                       ndarray    145063: 145063 elems, type `int32`, 580252 bytes (566.65234375 kb)\n",
      "output_index_list_comb          ndarray    145063: 145063 elems, type `int32`, 580252 bytes (566.65234375 kb)\n",
      "output_scale                    ndarray    145063x1: 145063 elems, type `float32`, 580252 bytes (566.65234375 kb)\n",
      "shuffle_index                   ndarray    794: 794 elems, type `int32`, 3176 bytes\n",
      "y                               ndarray    64: 64 elems, type `float32`, 256 bytes\n"
     ]
    }
   ],
   "source": [
    "%whos ndarray"
   ]
  },
  {
   "cell_type": "markdown",
   "metadata": {},
   "source": [
    "## Output Prediction\n",
    "For predicting stage only"
   ]
  },
  {
   "cell_type": "markdown",
   "metadata": {},
   "source": [
    "### Result DataFrame"
   ]
  },
  {
   "cell_type": "code",
   "execution_count": 140,
   "metadata": {},
   "outputs": [
    {
     "data": {
      "text/plain": [
       "Index(['2017-09-11', '2017-09-12', '2017-09-13', '2017-09-14', '2017-09-15',\n",
       "       '2017-09-16', '2017-09-17', '2017-09-18', '2017-09-19', '2017-09-20',\n",
       "       '2017-09-21', '2017-09-22', '2017-09-23', '2017-09-24', '2017-09-25',\n",
       "       '2017-09-26', '2017-09-27', '2017-09-28', '2017-09-29', '2017-09-30',\n",
       "       '2017-10-01', '2017-10-02', '2017-10-03', '2017-10-04', '2017-10-05',\n",
       "       '2017-10-06', '2017-10-07', '2017-10-08', '2017-10-09', '2017-10-10',\n",
       "       '2017-10-11', '2017-10-12', '2017-10-13', '2017-10-14', '2017-10-15',\n",
       "       '2017-10-16', '2017-10-17', '2017-10-18', '2017-10-19', '2017-10-20',\n",
       "       '2017-10-21', '2017-10-22', '2017-10-23', '2017-10-24', '2017-10-25',\n",
       "       '2017-10-26', '2017-10-27', '2017-10-28', '2017-10-29', '2017-10-30',\n",
       "       '2017-10-31', '2017-11-01', '2017-11-02', '2017-11-03', '2017-11-04',\n",
       "       '2017-11-05', '2017-11-06', '2017-11-07', '2017-11-08', '2017-11-09',\n",
       "       '2017-11-10', '2017-11-11', '2017-11-12', '2017-11-13'],\n",
       "      dtype='object')"
      ]
     },
     "execution_count": 140,
     "metadata": {},
     "output_type": "execute_result"
    }
   ],
   "source": [
    "Y_output_dates"
   ]
  },
  {
   "cell_type": "code",
   "execution_count": null,
   "metadata": {
    "scrolled": true
   },
   "outputs": [],
   "source": [
    "if test_length == 0:\n",
    "    result_df = pd.DataFrame(Y_output_f_gpm, columns = Y_output_dates)  # using ensemble median combined result"
   ]
  },
  {
   "cell_type": "code",
   "execution_count": null,
   "metadata": {
    "scrolled": true
   },
   "outputs": [],
   "source": [
    "result_df['Page'] = input_df['Page']  # Append 'Page' column from input_df"
   ]
  },
  {
   "cell_type": "code",
   "execution_count": null,
   "metadata": {
    "scrolled": true
   },
   "outputs": [],
   "source": [
    "result_df = pd.melt(result_df, id_vars='Page', var_name='date',\n",
    "                    value_name='Visits')"
   ]
  },
  {
   "cell_type": "code",
   "execution_count": 144,
   "metadata": {},
   "outputs": [
    {
     "data": {
      "text/plain": [
       "123"
      ]
     },
     "execution_count": 144,
     "metadata": {},
     "output_type": "execute_result"
    }
   ],
   "source": [
    "gc.collect()"
   ]
  },
  {
   "cell_type": "markdown",
   "metadata": {},
   "source": [
    "### Output DataFrame\n",
    "Require additional 3 GB of memory"
   ]
  },
  {
   "cell_type": "code",
   "execution_count": 145,
   "metadata": {},
   "outputs": [
    {
     "data": {
      "text/plain": [
       "'key_2.csv'"
      ]
     },
     "execution_count": 145,
     "metadata": {},
     "output_type": "execute_result"
    }
   ],
   "source": [
    "key_file"
   ]
  },
  {
   "cell_type": "code",
   "execution_count": 146,
   "metadata": {},
   "outputs": [
    {
     "name": "stdout",
     "output_type": "stream",
     "text": [
      "%%% Reading data  key_2.csv ...done!\n"
     ]
    }
   ],
   "source": [
    "if test_length == 0:\n",
    "    print('%%% Reading data ', key_file, '...', end = '', flush = True)\n",
    "    output_df = pd.read_csv('../data/' + key_file)\n",
    "    print('done!')"
   ]
  },
  {
   "cell_type": "code",
   "execution_count": 147,
   "metadata": {},
   "outputs": [
    {
     "data": {
      "text/plain": [
       "172"
      ]
     },
     "execution_count": 147,
     "metadata": {},
     "output_type": "execute_result"
    }
   ],
   "source": [
    "gc.collect()"
   ]
  },
  {
   "cell_type": "code",
   "execution_count": 148,
   "metadata": {
    "collapsed": true
   },
   "outputs": [],
   "source": [
    "# Peak memory usage: additional 2 GB \n",
    "output_df['date'] = output_df['Page'].apply(lambda a: a[-10:])  # take the last 10 characters from 'Page' as date"
   ]
  },
  {
   "cell_type": "code",
   "execution_count": 149,
   "metadata": {
    "scrolled": true
   },
   "outputs": [
    {
     "data": {
      "text/plain": [
       "7"
      ]
     },
     "execution_count": 149,
     "metadata": {},
     "output_type": "execute_result"
    }
   ],
   "source": [
    "gc.collect()"
   ]
  },
  {
   "cell_type": "code",
   "execution_count": 150,
   "metadata": {
    "scrolled": true
   },
   "outputs": [],
   "source": [
    "output_df['Page'] = output_df['Page'].apply(lambda a: a[:-11])  # remove the last 10 caharacters from 'Page'"
   ]
  },
  {
   "cell_type": "code",
   "execution_count": 151,
   "metadata": {
    "scrolled": true
   },
   "outputs": [
    {
     "data": {
      "text/plain": [
       "0"
      ]
     },
     "execution_count": 151,
     "metadata": {},
     "output_type": "execute_result"
    }
   ],
   "source": [
    "gc.collect()"
   ]
  },
  {
   "cell_type": "code",
   "execution_count": 152,
   "metadata": {},
   "outputs": [
    {
     "name": "stdout",
     "output_type": "stream",
     "text": [
      "<class 'pandas.core.frame.DataFrame'>\n",
      "RangeIndex: 8993906 entries, 0 to 8993905\n",
      "Data columns (total 3 columns):\n",
      "Page    object\n",
      "Id      object\n",
      "date    object\n",
      "dtypes: object(3)\n",
      "memory usage: 205.9+ MB\n"
     ]
    }
   ],
   "source": [
    "output_df.info()"
   ]
  },
  {
   "cell_type": "code",
   "execution_count": 153,
   "metadata": {
    "scrolled": true
   },
   "outputs": [
    {
     "data": {
      "text/plain": [
       "array(['2017-09-13', '2017-09-14', '2017-09-15', '2017-09-16',\n",
       "       '2017-09-17', '2017-09-18', '2017-09-19', '2017-09-20',\n",
       "       '2017-09-21', '2017-09-22', '2017-09-23', '2017-09-24',\n",
       "       '2017-09-25', '2017-09-26', '2017-09-27', '2017-09-28',\n",
       "       '2017-09-29', '2017-09-30', '2017-10-01', '2017-10-02',\n",
       "       '2017-10-03', '2017-10-04', '2017-10-05', '2017-10-06',\n",
       "       '2017-10-07', '2017-10-08', '2017-10-09', '2017-10-10',\n",
       "       '2017-10-11', '2017-10-12', '2017-10-13', '2017-10-14',\n",
       "       '2017-10-15', '2017-10-16', '2017-10-17', '2017-10-18',\n",
       "       '2017-10-19', '2017-10-20', '2017-10-21', '2017-10-22',\n",
       "       '2017-10-23', '2017-10-24', '2017-10-25', '2017-10-26',\n",
       "       '2017-10-27', '2017-10-28', '2017-10-29', '2017-10-30',\n",
       "       '2017-10-31', '2017-11-01', '2017-11-02', '2017-11-03',\n",
       "       '2017-11-04', '2017-11-05', '2017-11-06', '2017-11-07',\n",
       "       '2017-11-08', '2017-11-09', '2017-11-10', '2017-11-11',\n",
       "       '2017-11-12', '2017-11-13', '2017-09-13', '2017-09-14', '2017-09-15'], dtype=object)"
      ]
     },
     "execution_count": 153,
     "metadata": {},
     "output_type": "execute_result"
    }
   ],
   "source": [
    "output_df['date'].values[0:y_length+1]  \n",
    "# Make sure the range is less than y_length days (see if the dates resume after y_length)"
   ]
  },
  {
   "cell_type": "code",
   "execution_count": 154,
   "metadata": {},
   "outputs": [
    {
     "data": {
      "text/plain": [
       "Index(['2017-09-11', '2017-09-12', '2017-09-13', '2017-09-14', '2017-09-15',\n",
       "       '2017-09-16', '2017-09-17', '2017-09-18', '2017-09-19', '2017-09-20',\n",
       "       '2017-09-21', '2017-09-22', '2017-09-23', '2017-09-24', '2017-09-25',\n",
       "       '2017-09-26', '2017-09-27', '2017-09-28', '2017-09-29', '2017-09-30',\n",
       "       '2017-10-01', '2017-10-02', '2017-10-03', '2017-10-04', '2017-10-05',\n",
       "       '2017-10-06', '2017-10-07', '2017-10-08', '2017-10-09', '2017-10-10',\n",
       "       '2017-10-11', '2017-10-12', '2017-10-13', '2017-10-14', '2017-10-15',\n",
       "       '2017-10-16', '2017-10-17', '2017-10-18', '2017-10-19', '2017-10-20',\n",
       "       '2017-10-21', '2017-10-22', '2017-10-23', '2017-10-24', '2017-10-25',\n",
       "       '2017-10-26', '2017-10-27', '2017-10-28', '2017-10-29', '2017-10-30',\n",
       "       '2017-10-31', '2017-11-01', '2017-11-02', '2017-11-03', '2017-11-04',\n",
       "       '2017-11-05', '2017-11-06', '2017-11-07', '2017-11-08', '2017-11-09',\n",
       "       '2017-11-10', '2017-11-11', '2017-11-12', '2017-11-13'],\n",
       "      dtype='object')"
      ]
     },
     "execution_count": 154,
     "metadata": {},
     "output_type": "execute_result"
    }
   ],
   "source": [
    "Y_output_dates"
   ]
  },
  {
   "cell_type": "code",
   "execution_count": 155,
   "metadata": {
    "scrolled": true
   },
   "outputs": [
    {
     "data": {
      "text/html": [
       "<div>\n",
       "<style>\n",
       "    .dataframe thead tr:only-child th {\n",
       "        text-align: right;\n",
       "    }\n",
       "\n",
       "    .dataframe thead th {\n",
       "        text-align: left;\n",
       "    }\n",
       "\n",
       "    .dataframe tbody tr th {\n",
       "        vertical-align: top;\n",
       "    }\n",
       "</style>\n",
       "<table border=\"1\" class=\"dataframe\">\n",
       "  <thead>\n",
       "    <tr style=\"text-align: right;\">\n",
       "      <th></th>\n",
       "      <th>Page</th>\n",
       "      <th>Id</th>\n",
       "      <th>date</th>\n",
       "      <th>Visits</th>\n",
       "    </tr>\n",
       "  </thead>\n",
       "  <tbody>\n",
       "    <tr>\n",
       "      <th>0</th>\n",
       "      <td>007_スペクター_ja.wikipedia.org_all-access_all-agents</td>\n",
       "      <td>0b293039387a</td>\n",
       "      <td>2017-09-13</td>\n",
       "      <td>443.147980</td>\n",
       "    </tr>\n",
       "    <tr>\n",
       "      <th>1</th>\n",
       "      <td>007_スペクター_ja.wikipedia.org_all-access_all-agents</td>\n",
       "      <td>7114389dd824</td>\n",
       "      <td>2017-09-14</td>\n",
       "      <td>437.231018</td>\n",
       "    </tr>\n",
       "    <tr>\n",
       "      <th>2</th>\n",
       "      <td>007_スペクター_ja.wikipedia.org_all-access_all-agents</td>\n",
       "      <td>057b02ff1f09</td>\n",
       "      <td>2017-09-15</td>\n",
       "      <td>440.334625</td>\n",
       "    </tr>\n",
       "    <tr>\n",
       "      <th>3</th>\n",
       "      <td>007_スペクター_ja.wikipedia.org_all-access_all-agents</td>\n",
       "      <td>bd2aca21caa3</td>\n",
       "      <td>2017-09-16</td>\n",
       "      <td>490.773438</td>\n",
       "    </tr>\n",
       "    <tr>\n",
       "      <th>4</th>\n",
       "      <td>007_スペクター_ja.wikipedia.org_all-access_all-agents</td>\n",
       "      <td>c0effb42cdd5</td>\n",
       "      <td>2017-09-17</td>\n",
       "      <td>511.724609</td>\n",
       "    </tr>\n",
       "    <tr>\n",
       "      <th>5</th>\n",
       "      <td>007_スペクター_ja.wikipedia.org_all-access_all-agents</td>\n",
       "      <td>4ccd369adefc</td>\n",
       "      <td>2017-09-18</td>\n",
       "      <td>476.478058</td>\n",
       "    </tr>\n",
       "    <tr>\n",
       "      <th>6</th>\n",
       "      <td>007_スペクター_ja.wikipedia.org_all-access_all-agents</td>\n",
       "      <td>67d5c2ebc330</td>\n",
       "      <td>2017-09-19</td>\n",
       "      <td>442.491364</td>\n",
       "    </tr>\n",
       "    <tr>\n",
       "      <th>7</th>\n",
       "      <td>007_スペクター_ja.wikipedia.org_all-access_all-agents</td>\n",
       "      <td>1c51606e416b</td>\n",
       "      <td>2017-09-20</td>\n",
       "      <td>424.396545</td>\n",
       "    </tr>\n",
       "    <tr>\n",
       "      <th>8</th>\n",
       "      <td>007_スペクター_ja.wikipedia.org_all-access_all-agents</td>\n",
       "      <td>0f27b91481db</td>\n",
       "      <td>2017-09-21</td>\n",
       "      <td>451.346588</td>\n",
       "    </tr>\n",
       "    <tr>\n",
       "      <th>9</th>\n",
       "      <td>007_スペクター_ja.wikipedia.org_all-access_all-agents</td>\n",
       "      <td>07f5f08a49fa</td>\n",
       "      <td>2017-09-22</td>\n",
       "      <td>429.085632</td>\n",
       "    </tr>\n",
       "    <tr>\n",
       "      <th>10</th>\n",
       "      <td>007_スペクター_ja.wikipedia.org_all-access_all-agents</td>\n",
       "      <td>de5e0bd4769d</td>\n",
       "      <td>2017-09-23</td>\n",
       "      <td>481.419067</td>\n",
       "    </tr>\n",
       "    <tr>\n",
       "      <th>11</th>\n",
       "      <td>007_スペクター_ja.wikipedia.org_all-access_all-agents</td>\n",
       "      <td>4992950a2651</td>\n",
       "      <td>2017-09-24</td>\n",
       "      <td>485.398956</td>\n",
       "    </tr>\n",
       "    <tr>\n",
       "      <th>12</th>\n",
       "      <td>007_スペクター_ja.wikipedia.org_all-access_all-agents</td>\n",
       "      <td>6d53bd4dc888</td>\n",
       "      <td>2017-09-25</td>\n",
       "      <td>422.585602</td>\n",
       "    </tr>\n",
       "    <tr>\n",
       "      <th>13</th>\n",
       "      <td>007_スペクター_ja.wikipedia.org_all-access_all-agents</td>\n",
       "      <td>1bbd6403124c</td>\n",
       "      <td>2017-09-26</td>\n",
       "      <td>424.643707</td>\n",
       "    </tr>\n",
       "    <tr>\n",
       "      <th>14</th>\n",
       "      <td>007_スペクター_ja.wikipedia.org_all-access_all-agents</td>\n",
       "      <td>e8e7ff40facc</td>\n",
       "      <td>2017-09-27</td>\n",
       "      <td>423.142670</td>\n",
       "    </tr>\n",
       "    <tr>\n",
       "      <th>15</th>\n",
       "      <td>007_スペクター_ja.wikipedia.org_all-access_all-agents</td>\n",
       "      <td>8a4b1c6af656</td>\n",
       "      <td>2017-09-28</td>\n",
       "      <td>409.952789</td>\n",
       "    </tr>\n",
       "    <tr>\n",
       "      <th>16</th>\n",
       "      <td>007_スペクター_ja.wikipedia.org_all-access_all-agents</td>\n",
       "      <td>1e24475ddb8c</td>\n",
       "      <td>2017-09-29</td>\n",
       "      <td>408.687073</td>\n",
       "    </tr>\n",
       "    <tr>\n",
       "      <th>17</th>\n",
       "      <td>007_スペクター_ja.wikipedia.org_all-access_all-agents</td>\n",
       "      <td>02e034fdd2c4</td>\n",
       "      <td>2017-09-30</td>\n",
       "      <td>463.722443</td>\n",
       "    </tr>\n",
       "    <tr>\n",
       "      <th>18</th>\n",
       "      <td>007_スペクター_ja.wikipedia.org_all-access_all-agents</td>\n",
       "      <td>1cc7eb149dbd</td>\n",
       "      <td>2017-10-01</td>\n",
       "      <td>471.852844</td>\n",
       "    </tr>\n",
       "    <tr>\n",
       "      <th>19</th>\n",
       "      <td>007_スペクター_ja.wikipedia.org_all-access_all-agents</td>\n",
       "      <td>fb518bfef5ab</td>\n",
       "      <td>2017-10-02</td>\n",
       "      <td>418.631012</td>\n",
       "    </tr>\n",
       "    <tr>\n",
       "      <th>20</th>\n",
       "      <td>007_スペクター_ja.wikipedia.org_all-access_all-agents</td>\n",
       "      <td>1d1f1519ac13</td>\n",
       "      <td>2017-10-03</td>\n",
       "      <td>409.591309</td>\n",
       "    </tr>\n",
       "    <tr>\n",
       "      <th>21</th>\n",
       "      <td>007_スペクター_ja.wikipedia.org_all-access_all-agents</td>\n",
       "      <td>ac35a6c2b36c</td>\n",
       "      <td>2017-10-04</td>\n",
       "      <td>410.134460</td>\n",
       "    </tr>\n",
       "    <tr>\n",
       "      <th>22</th>\n",
       "      <td>007_スペクター_ja.wikipedia.org_all-access_all-agents</td>\n",
       "      <td>5ff1782a4045</td>\n",
       "      <td>2017-10-05</td>\n",
       "      <td>403.017334</td>\n",
       "    </tr>\n",
       "    <tr>\n",
       "      <th>23</th>\n",
       "      <td>007_スペクター_ja.wikipedia.org_all-access_all-agents</td>\n",
       "      <td>148aa06a6a65</td>\n",
       "      <td>2017-10-06</td>\n",
       "      <td>406.245331</td>\n",
       "    </tr>\n",
       "    <tr>\n",
       "      <th>24</th>\n",
       "      <td>007_スペクター_ja.wikipedia.org_all-access_all-agents</td>\n",
       "      <td>b94a0af77529</td>\n",
       "      <td>2017-10-07</td>\n",
       "      <td>466.655884</td>\n",
       "    </tr>\n",
       "    <tr>\n",
       "      <th>25</th>\n",
       "      <td>007_スペクター_ja.wikipedia.org_all-access_all-agents</td>\n",
       "      <td>0a214bdcec3d</td>\n",
       "      <td>2017-10-08</td>\n",
       "      <td>476.450775</td>\n",
       "    </tr>\n",
       "    <tr>\n",
       "      <th>26</th>\n",
       "      <td>007_スペクター_ja.wikipedia.org_all-access_all-agents</td>\n",
       "      <td>6562a45df4fd</td>\n",
       "      <td>2017-10-09</td>\n",
       "      <td>451.397003</td>\n",
       "    </tr>\n",
       "    <tr>\n",
       "      <th>27</th>\n",
       "      <td>007_スペクター_ja.wikipedia.org_all-access_all-agents</td>\n",
       "      <td>220e7ae73a6d</td>\n",
       "      <td>2017-10-10</td>\n",
       "      <td>409.439636</td>\n",
       "    </tr>\n",
       "    <tr>\n",
       "      <th>28</th>\n",
       "      <td>007_スペクター_ja.wikipedia.org_all-access_all-agents</td>\n",
       "      <td>435af699b0f2</td>\n",
       "      <td>2017-10-11</td>\n",
       "      <td>402.936615</td>\n",
       "    </tr>\n",
       "    <tr>\n",
       "      <th>29</th>\n",
       "      <td>007_スペクター_ja.wikipedia.org_all-access_all-agents</td>\n",
       "      <td>a2c44639e9e4</td>\n",
       "      <td>2017-10-12</td>\n",
       "      <td>397.637421</td>\n",
       "    </tr>\n",
       "    <tr>\n",
       "      <th>...</th>\n",
       "      <td>...</td>\n",
       "      <td>...</td>\n",
       "      <td>...</td>\n",
       "      <td>...</td>\n",
       "    </tr>\n",
       "    <tr>\n",
       "      <th>8993876</th>\n",
       "      <td>龙生九子_zh.wikipedia.org_mobile-web_all-agents</td>\n",
       "      <td>f4f823ef5696</td>\n",
       "      <td>2017-10-15</td>\n",
       "      <td>264.610870</td>\n",
       "    </tr>\n",
       "    <tr>\n",
       "      <th>8993877</th>\n",
       "      <td>龙生九子_zh.wikipedia.org_mobile-web_all-agents</td>\n",
       "      <td>f0320830b44c</td>\n",
       "      <td>2017-10-16</td>\n",
       "      <td>242.583679</td>\n",
       "    </tr>\n",
       "    <tr>\n",
       "      <th>8993878</th>\n",
       "      <td>龙生九子_zh.wikipedia.org_mobile-web_all-agents</td>\n",
       "      <td>342e1d97fd05</td>\n",
       "      <td>2017-10-17</td>\n",
       "      <td>237.217606</td>\n",
       "    </tr>\n",
       "    <tr>\n",
       "      <th>8993879</th>\n",
       "      <td>龙生九子_zh.wikipedia.org_mobile-web_all-agents</td>\n",
       "      <td>b1477f44cd9b</td>\n",
       "      <td>2017-10-18</td>\n",
       "      <td>235.276077</td>\n",
       "    </tr>\n",
       "    <tr>\n",
       "      <th>8993880</th>\n",
       "      <td>龙生九子_zh.wikipedia.org_mobile-web_all-agents</td>\n",
       "      <td>da253f622bc2</td>\n",
       "      <td>2017-10-19</td>\n",
       "      <td>235.090286</td>\n",
       "    </tr>\n",
       "    <tr>\n",
       "      <th>8993881</th>\n",
       "      <td>龙生九子_zh.wikipedia.org_mobile-web_all-agents</td>\n",
       "      <td>2011edc98ab6</td>\n",
       "      <td>2017-10-20</td>\n",
       "      <td>240.775009</td>\n",
       "    </tr>\n",
       "    <tr>\n",
       "      <th>8993882</th>\n",
       "      <td>龙生九子_zh.wikipedia.org_mobile-web_all-agents</td>\n",
       "      <td>6d43be567135</td>\n",
       "      <td>2017-10-21</td>\n",
       "      <td>257.835693</td>\n",
       "    </tr>\n",
       "    <tr>\n",
       "      <th>8993883</th>\n",
       "      <td>龙生九子_zh.wikipedia.org_mobile-web_all-agents</td>\n",
       "      <td>63fba276ae93</td>\n",
       "      <td>2017-10-22</td>\n",
       "      <td>268.598633</td>\n",
       "    </tr>\n",
       "    <tr>\n",
       "      <th>8993884</th>\n",
       "      <td>龙生九子_zh.wikipedia.org_mobile-web_all-agents</td>\n",
       "      <td>4d52c4f26bea</td>\n",
       "      <td>2017-10-23</td>\n",
       "      <td>243.989395</td>\n",
       "    </tr>\n",
       "    <tr>\n",
       "      <th>8993885</th>\n",
       "      <td>龙生九子_zh.wikipedia.org_mobile-web_all-agents</td>\n",
       "      <td>4fdb762699cc</td>\n",
       "      <td>2017-10-24</td>\n",
       "      <td>238.763672</td>\n",
       "    </tr>\n",
       "    <tr>\n",
       "      <th>8993886</th>\n",
       "      <td>龙生九子_zh.wikipedia.org_mobile-web_all-agents</td>\n",
       "      <td>aeb4cd159568</td>\n",
       "      <td>2017-10-25</td>\n",
       "      <td>237.007935</td>\n",
       "    </tr>\n",
       "    <tr>\n",
       "      <th>8993887</th>\n",
       "      <td>龙生九子_zh.wikipedia.org_mobile-web_all-agents</td>\n",
       "      <td>61f9ad4a134b</td>\n",
       "      <td>2017-10-26</td>\n",
       "      <td>235.847244</td>\n",
       "    </tr>\n",
       "    <tr>\n",
       "      <th>8993888</th>\n",
       "      <td>龙生九子_zh.wikipedia.org_mobile-web_all-agents</td>\n",
       "      <td>65a1df224420</td>\n",
       "      <td>2017-10-27</td>\n",
       "      <td>238.950134</td>\n",
       "    </tr>\n",
       "    <tr>\n",
       "      <th>8993889</th>\n",
       "      <td>龙生九子_zh.wikipedia.org_mobile-web_all-agents</td>\n",
       "      <td>f218e2a344f0</td>\n",
       "      <td>2017-10-28</td>\n",
       "      <td>253.694290</td>\n",
       "    </tr>\n",
       "    <tr>\n",
       "      <th>8993890</th>\n",
       "      <td>龙生九子_zh.wikipedia.org_mobile-web_all-agents</td>\n",
       "      <td>55a0f4f60bcf</td>\n",
       "      <td>2017-10-29</td>\n",
       "      <td>266.345001</td>\n",
       "    </tr>\n",
       "    <tr>\n",
       "      <th>8993891</th>\n",
       "      <td>龙生九子_zh.wikipedia.org_mobile-web_all-agents</td>\n",
       "      <td>f1f430469c68</td>\n",
       "      <td>2017-10-30</td>\n",
       "      <td>244.689896</td>\n",
       "    </tr>\n",
       "    <tr>\n",
       "      <th>8993892</th>\n",
       "      <td>龙生九子_zh.wikipedia.org_mobile-web_all-agents</td>\n",
       "      <td>f560ef9fa473</td>\n",
       "      <td>2017-10-31</td>\n",
       "      <td>249.027679</td>\n",
       "    </tr>\n",
       "    <tr>\n",
       "      <th>8993893</th>\n",
       "      <td>龙生九子_zh.wikipedia.org_mobile-web_all-agents</td>\n",
       "      <td>ec2d0d713c50</td>\n",
       "      <td>2017-11-01</td>\n",
       "      <td>239.717880</td>\n",
       "    </tr>\n",
       "    <tr>\n",
       "      <th>8993894</th>\n",
       "      <td>龙生九子_zh.wikipedia.org_mobile-web_all-agents</td>\n",
       "      <td>4f13b0cd46f9</td>\n",
       "      <td>2017-11-02</td>\n",
       "      <td>240.499878</td>\n",
       "    </tr>\n",
       "    <tr>\n",
       "      <th>8993895</th>\n",
       "      <td>龙生九子_zh.wikipedia.org_mobile-web_all-agents</td>\n",
       "      <td>3464386275bc</td>\n",
       "      <td>2017-11-03</td>\n",
       "      <td>245.448807</td>\n",
       "    </tr>\n",
       "    <tr>\n",
       "      <th>8993896</th>\n",
       "      <td>龙生九子_zh.wikipedia.org_mobile-web_all-agents</td>\n",
       "      <td>2b1ae259f55a</td>\n",
       "      <td>2017-11-04</td>\n",
       "      <td>265.262573</td>\n",
       "    </tr>\n",
       "    <tr>\n",
       "      <th>8993897</th>\n",
       "      <td>龙生九子_zh.wikipedia.org_mobile-web_all-agents</td>\n",
       "      <td>75deaba16778</td>\n",
       "      <td>2017-11-05</td>\n",
       "      <td>279.702637</td>\n",
       "    </tr>\n",
       "    <tr>\n",
       "      <th>8993898</th>\n",
       "      <td>龙生九子_zh.wikipedia.org_mobile-web_all-agents</td>\n",
       "      <td>a4d97ae6a195</td>\n",
       "      <td>2017-11-06</td>\n",
       "      <td>249.311417</td>\n",
       "    </tr>\n",
       "    <tr>\n",
       "      <th>8993899</th>\n",
       "      <td>龙生九子_zh.wikipedia.org_mobile-web_all-agents</td>\n",
       "      <td>4e0c1e64f738</td>\n",
       "      <td>2017-11-07</td>\n",
       "      <td>242.225159</td>\n",
       "    </tr>\n",
       "    <tr>\n",
       "      <th>8993900</th>\n",
       "      <td>龙生九子_zh.wikipedia.org_mobile-web_all-agents</td>\n",
       "      <td>9a735df742e2</td>\n",
       "      <td>2017-11-08</td>\n",
       "      <td>229.695694</td>\n",
       "    </tr>\n",
       "    <tr>\n",
       "      <th>8993901</th>\n",
       "      <td>龙生九子_zh.wikipedia.org_mobile-web_all-agents</td>\n",
       "      <td>f78fbaa305ad</td>\n",
       "      <td>2017-11-09</td>\n",
       "      <td>236.239456</td>\n",
       "    </tr>\n",
       "    <tr>\n",
       "      <th>8993902</th>\n",
       "      <td>龙生九子_zh.wikipedia.org_mobile-web_all-agents</td>\n",
       "      <td>33aecaf259d1</td>\n",
       "      <td>2017-11-10</td>\n",
       "      <td>245.724426</td>\n",
       "    </tr>\n",
       "    <tr>\n",
       "      <th>8993903</th>\n",
       "      <td>龙生九子_zh.wikipedia.org_mobile-web_all-agents</td>\n",
       "      <td>a36228b64466</td>\n",
       "      <td>2017-11-11</td>\n",
       "      <td>265.909607</td>\n",
       "    </tr>\n",
       "    <tr>\n",
       "      <th>8993904</th>\n",
       "      <td>龙生九子_zh.wikipedia.org_mobile-web_all-agents</td>\n",
       "      <td>26887d3e5c99</td>\n",
       "      <td>2017-11-12</td>\n",
       "      <td>279.667480</td>\n",
       "    </tr>\n",
       "    <tr>\n",
       "      <th>8993905</th>\n",
       "      <td>龙生九子_zh.wikipedia.org_mobile-web_all-agents</td>\n",
       "      <td>06ad06979f80</td>\n",
       "      <td>2017-11-13</td>\n",
       "      <td>251.942368</td>\n",
       "    </tr>\n",
       "  </tbody>\n",
       "</table>\n",
       "<p>8993906 rows × 4 columns</p>\n",
       "</div>"
      ],
      "text/plain": [
       "                                                     Page            Id  \\\n",
       "0        007_スペクター_ja.wikipedia.org_all-access_all-agents  0b293039387a   \n",
       "1        007_スペクター_ja.wikipedia.org_all-access_all-agents  7114389dd824   \n",
       "2        007_スペクター_ja.wikipedia.org_all-access_all-agents  057b02ff1f09   \n",
       "3        007_スペクター_ja.wikipedia.org_all-access_all-agents  bd2aca21caa3   \n",
       "4        007_スペクター_ja.wikipedia.org_all-access_all-agents  c0effb42cdd5   \n",
       "5        007_スペクター_ja.wikipedia.org_all-access_all-agents  4ccd369adefc   \n",
       "6        007_スペクター_ja.wikipedia.org_all-access_all-agents  67d5c2ebc330   \n",
       "7        007_スペクター_ja.wikipedia.org_all-access_all-agents  1c51606e416b   \n",
       "8        007_スペクター_ja.wikipedia.org_all-access_all-agents  0f27b91481db   \n",
       "9        007_スペクター_ja.wikipedia.org_all-access_all-agents  07f5f08a49fa   \n",
       "10       007_スペクター_ja.wikipedia.org_all-access_all-agents  de5e0bd4769d   \n",
       "11       007_スペクター_ja.wikipedia.org_all-access_all-agents  4992950a2651   \n",
       "12       007_スペクター_ja.wikipedia.org_all-access_all-agents  6d53bd4dc888   \n",
       "13       007_スペクター_ja.wikipedia.org_all-access_all-agents  1bbd6403124c   \n",
       "14       007_スペクター_ja.wikipedia.org_all-access_all-agents  e8e7ff40facc   \n",
       "15       007_スペクター_ja.wikipedia.org_all-access_all-agents  8a4b1c6af656   \n",
       "16       007_スペクター_ja.wikipedia.org_all-access_all-agents  1e24475ddb8c   \n",
       "17       007_スペクター_ja.wikipedia.org_all-access_all-agents  02e034fdd2c4   \n",
       "18       007_スペクター_ja.wikipedia.org_all-access_all-agents  1cc7eb149dbd   \n",
       "19       007_スペクター_ja.wikipedia.org_all-access_all-agents  fb518bfef5ab   \n",
       "20       007_スペクター_ja.wikipedia.org_all-access_all-agents  1d1f1519ac13   \n",
       "21       007_スペクター_ja.wikipedia.org_all-access_all-agents  ac35a6c2b36c   \n",
       "22       007_スペクター_ja.wikipedia.org_all-access_all-agents  5ff1782a4045   \n",
       "23       007_スペクター_ja.wikipedia.org_all-access_all-agents  148aa06a6a65   \n",
       "24       007_スペクター_ja.wikipedia.org_all-access_all-agents  b94a0af77529   \n",
       "25       007_スペクター_ja.wikipedia.org_all-access_all-agents  0a214bdcec3d   \n",
       "26       007_スペクター_ja.wikipedia.org_all-access_all-agents  6562a45df4fd   \n",
       "27       007_スペクター_ja.wikipedia.org_all-access_all-agents  220e7ae73a6d   \n",
       "28       007_スペクター_ja.wikipedia.org_all-access_all-agents  435af699b0f2   \n",
       "29       007_スペクター_ja.wikipedia.org_all-access_all-agents  a2c44639e9e4   \n",
       "...                                                   ...           ...   \n",
       "8993876       龙生九子_zh.wikipedia.org_mobile-web_all-agents  f4f823ef5696   \n",
       "8993877       龙生九子_zh.wikipedia.org_mobile-web_all-agents  f0320830b44c   \n",
       "8993878       龙生九子_zh.wikipedia.org_mobile-web_all-agents  342e1d97fd05   \n",
       "8993879       龙生九子_zh.wikipedia.org_mobile-web_all-agents  b1477f44cd9b   \n",
       "8993880       龙生九子_zh.wikipedia.org_mobile-web_all-agents  da253f622bc2   \n",
       "8993881       龙生九子_zh.wikipedia.org_mobile-web_all-agents  2011edc98ab6   \n",
       "8993882       龙生九子_zh.wikipedia.org_mobile-web_all-agents  6d43be567135   \n",
       "8993883       龙生九子_zh.wikipedia.org_mobile-web_all-agents  63fba276ae93   \n",
       "8993884       龙生九子_zh.wikipedia.org_mobile-web_all-agents  4d52c4f26bea   \n",
       "8993885       龙生九子_zh.wikipedia.org_mobile-web_all-agents  4fdb762699cc   \n",
       "8993886       龙生九子_zh.wikipedia.org_mobile-web_all-agents  aeb4cd159568   \n",
       "8993887       龙生九子_zh.wikipedia.org_mobile-web_all-agents  61f9ad4a134b   \n",
       "8993888       龙生九子_zh.wikipedia.org_mobile-web_all-agents  65a1df224420   \n",
       "8993889       龙生九子_zh.wikipedia.org_mobile-web_all-agents  f218e2a344f0   \n",
       "8993890       龙生九子_zh.wikipedia.org_mobile-web_all-agents  55a0f4f60bcf   \n",
       "8993891       龙生九子_zh.wikipedia.org_mobile-web_all-agents  f1f430469c68   \n",
       "8993892       龙生九子_zh.wikipedia.org_mobile-web_all-agents  f560ef9fa473   \n",
       "8993893       龙生九子_zh.wikipedia.org_mobile-web_all-agents  ec2d0d713c50   \n",
       "8993894       龙生九子_zh.wikipedia.org_mobile-web_all-agents  4f13b0cd46f9   \n",
       "8993895       龙生九子_zh.wikipedia.org_mobile-web_all-agents  3464386275bc   \n",
       "8993896       龙生九子_zh.wikipedia.org_mobile-web_all-agents  2b1ae259f55a   \n",
       "8993897       龙生九子_zh.wikipedia.org_mobile-web_all-agents  75deaba16778   \n",
       "8993898       龙生九子_zh.wikipedia.org_mobile-web_all-agents  a4d97ae6a195   \n",
       "8993899       龙生九子_zh.wikipedia.org_mobile-web_all-agents  4e0c1e64f738   \n",
       "8993900       龙生九子_zh.wikipedia.org_mobile-web_all-agents  9a735df742e2   \n",
       "8993901       龙生九子_zh.wikipedia.org_mobile-web_all-agents  f78fbaa305ad   \n",
       "8993902       龙生九子_zh.wikipedia.org_mobile-web_all-agents  33aecaf259d1   \n",
       "8993903       龙生九子_zh.wikipedia.org_mobile-web_all-agents  a36228b64466   \n",
       "8993904       龙生九子_zh.wikipedia.org_mobile-web_all-agents  26887d3e5c99   \n",
       "8993905       龙生九子_zh.wikipedia.org_mobile-web_all-agents  06ad06979f80   \n",
       "\n",
       "               date      Visits  \n",
       "0        2017-09-13  443.147980  \n",
       "1        2017-09-14  437.231018  \n",
       "2        2017-09-15  440.334625  \n",
       "3        2017-09-16  490.773438  \n",
       "4        2017-09-17  511.724609  \n",
       "5        2017-09-18  476.478058  \n",
       "6        2017-09-19  442.491364  \n",
       "7        2017-09-20  424.396545  \n",
       "8        2017-09-21  451.346588  \n",
       "9        2017-09-22  429.085632  \n",
       "10       2017-09-23  481.419067  \n",
       "11       2017-09-24  485.398956  \n",
       "12       2017-09-25  422.585602  \n",
       "13       2017-09-26  424.643707  \n",
       "14       2017-09-27  423.142670  \n",
       "15       2017-09-28  409.952789  \n",
       "16       2017-09-29  408.687073  \n",
       "17       2017-09-30  463.722443  \n",
       "18       2017-10-01  471.852844  \n",
       "19       2017-10-02  418.631012  \n",
       "20       2017-10-03  409.591309  \n",
       "21       2017-10-04  410.134460  \n",
       "22       2017-10-05  403.017334  \n",
       "23       2017-10-06  406.245331  \n",
       "24       2017-10-07  466.655884  \n",
       "25       2017-10-08  476.450775  \n",
       "26       2017-10-09  451.397003  \n",
       "27       2017-10-10  409.439636  \n",
       "28       2017-10-11  402.936615  \n",
       "29       2017-10-12  397.637421  \n",
       "...             ...         ...  \n",
       "8993876  2017-10-15  264.610870  \n",
       "8993877  2017-10-16  242.583679  \n",
       "8993878  2017-10-17  237.217606  \n",
       "8993879  2017-10-18  235.276077  \n",
       "8993880  2017-10-19  235.090286  \n",
       "8993881  2017-10-20  240.775009  \n",
       "8993882  2017-10-21  257.835693  \n",
       "8993883  2017-10-22  268.598633  \n",
       "8993884  2017-10-23  243.989395  \n",
       "8993885  2017-10-24  238.763672  \n",
       "8993886  2017-10-25  237.007935  \n",
       "8993887  2017-10-26  235.847244  \n",
       "8993888  2017-10-27  238.950134  \n",
       "8993889  2017-10-28  253.694290  \n",
       "8993890  2017-10-29  266.345001  \n",
       "8993891  2017-10-30  244.689896  \n",
       "8993892  2017-10-31  249.027679  \n",
       "8993893  2017-11-01  239.717880  \n",
       "8993894  2017-11-02  240.499878  \n",
       "8993895  2017-11-03  245.448807  \n",
       "8993896  2017-11-04  265.262573  \n",
       "8993897  2017-11-05  279.702637  \n",
       "8993898  2017-11-06  249.311417  \n",
       "8993899  2017-11-07  242.225159  \n",
       "8993900  2017-11-08  229.695694  \n",
       "8993901  2017-11-09  236.239456  \n",
       "8993902  2017-11-10  245.724426  \n",
       "8993903  2017-11-11  265.909607  \n",
       "8993904  2017-11-12  279.667480  \n",
       "8993905  2017-11-13  251.942368  \n",
       "\n",
       "[8993906 rows x 4 columns]"
      ]
     },
     "execution_count": 155,
     "metadata": {},
     "output_type": "execute_result"
    }
   ],
   "source": [
    "output_df = output_df.merge(result_df, how='left')  # fill the 'Visits\" from result\n",
    "output_df"
   ]
  },
  {
   "cell_type": "code",
   "execution_count": 156,
   "metadata": {},
   "outputs": [
    {
     "data": {
      "text/plain": [
       "204"
      ]
     },
     "execution_count": 156,
     "metadata": {},
     "output_type": "execute_result"
    }
   ],
   "source": [
    "del result_df\n",
    "gc.collect()"
   ]
  },
  {
   "cell_type": "code",
   "execution_count": 157,
   "metadata": {},
   "outputs": [
    {
     "data": {
      "text/plain": [
       "Series([], Name: Visits, dtype: float32)"
      ]
     },
     "execution_count": 157,
     "metadata": {},
     "output_type": "execute_result"
    }
   ],
   "source": [
    "# Check if there is any null value\n",
    "output_df.loc[output_df.Visits.isnull(), 'Visits']"
   ]
  },
  {
   "cell_type": "code",
   "execution_count": 158,
   "metadata": {
    "collapsed": true
   },
   "outputs": [],
   "source": [
    "#output_df.loc[output_df.Visits.isnull(), 'Visits'] = 0.0  # Uncommend this line to Replace NaN with 0.0"
   ]
  },
  {
   "cell_type": "code",
   "execution_count": 159,
   "metadata": {},
   "outputs": [
    {
     "data": {
      "text/plain": [
       "'../results/submit_2_model_modified_CNN.csv'"
      ]
     },
     "execution_count": 159,
     "metadata": {},
     "output_type": "execute_result"
    }
   ],
   "source": [
    "output_file_path = '../results/submit_2_' + model_name + '.csv'; output_file_path"
   ]
  },
  {
   "cell_type": "code",
   "execution_count": 160,
   "metadata": {},
   "outputs": [
    {
     "name": "stdout",
     "output_type": "stream",
     "text": [
      "%%% Writing result to ../results/submit_2_model_modified_CNN.csv ...done!\n"
     ]
    }
   ],
   "source": [
    "print('%%% Writing result to ' + output_file_path + ' ...', \n",
    "      end = '', flush = True)\n",
    "output_df[['Id','Visits']].to_csv(output_file_path, index = False, float_format='%.3f')\n",
    "print('done!')"
   ]
  },
  {
   "cell_type": "markdown",
   "metadata": {},
   "source": [
    "Kaggle score (SMAPE): 37.75808"
   ]
  },
  {
   "cell_type": "code",
   "execution_count": null,
   "metadata": {
    "collapsed": true
   },
   "outputs": [],
   "source": []
  }
 ],
 "metadata": {
  "kernelspec": {
   "display_name": "Python 3",
   "language": "python",
   "name": "python3"
  },
  "language_info": {
   "codemirror_mode": {
    "name": "ipython",
    "version": 3
   },
   "file_extension": ".py",
   "mimetype": "text/x-python",
   "name": "python",
   "nbconvert_exporter": "python",
   "pygments_lexer": "ipython3",
   "version": "3.6.1"
  }
 },
 "nbformat": 4,
 "nbformat_minor": 2
}
